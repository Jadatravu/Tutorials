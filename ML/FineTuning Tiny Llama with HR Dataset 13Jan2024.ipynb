{
 "cells": [
  {
   "cell_type": "code",
   "execution_count": 1,
   "id": "cc4ef2ba-3d80-4ab9-960c-0bbafa8dea7c",
   "metadata": {},
   "outputs": [
    {
     "name": "stdout",
     "output_type": "stream",
     "text": [
      "Looking in indexes: https://pypi.org/simple, https://download.pytorch.org/whl/cu121\n",
      "Collecting torch==2.1.2+cu121\n",
      "  Using cached https://download.pytorch.org/whl/cu121/torch-2.1.2%2Bcu121-cp310-cp310-win_amd64.whl (2473.9 MB)\n",
      "Collecting torchvision==0.16.2+cu121\n",
      "  Using cached https://download.pytorch.org/whl/cu121/torchvision-0.16.2%2Bcu121-cp310-cp310-win_amd64.whl (5.6 MB)\n",
      "Collecting torchaudio==2.1.2+cu121\n",
      "  Using cached https://download.pytorch.org/whl/cu121/torchaudio-2.1.2%2Bcu121-cp310-cp310-win_amd64.whl (4.0 MB)\n",
      "Collecting filelock (from torch==2.1.2+cu121)\n",
      "  Using cached filelock-3.13.1-py3-none-any.whl.metadata (2.8 kB)\n",
      "Requirement already satisfied: typing-extensions in c:\\users\\prompt\\anaconda3\\envs\\jan_11_2024\\lib\\site-packages (from torch==2.1.2+cu121) (4.7.1)\n",
      "Collecting sympy (from torch==2.1.2+cu121)\n",
      "  Using cached https://download.pytorch.org/whl/sympy-1.12-py3-none-any.whl (5.7 MB)\n",
      "Collecting networkx (from torch==2.1.2+cu121)\n",
      "  Using cached networkx-3.2.1-py3-none-any.whl.metadata (5.2 kB)\n",
      "Requirement already satisfied: jinja2 in c:\\users\\prompt\\anaconda3\\envs\\jan_11_2024\\lib\\site-packages (from torch==2.1.2+cu121) (3.1.2)\n",
      "Collecting fsspec (from torch==2.1.2+cu121)\n",
      "  Using cached fsspec-2023.12.2-py3-none-any.whl.metadata (6.8 kB)\n",
      "Collecting numpy (from torchvision==0.16.2+cu121)\n",
      "  Using cached numpy-1.26.3-cp310-cp310-win_amd64.whl.metadata (61 kB)\n",
      "Requirement already satisfied: requests in c:\\users\\prompt\\anaconda3\\envs\\jan_11_2024\\lib\\site-packages (from torchvision==0.16.2+cu121) (2.31.0)\n",
      "Collecting pillow!=8.3.*,>=5.3.0 (from torchvision==0.16.2+cu121)\n",
      "  Using cached pillow-10.2.0-cp310-cp310-win_amd64.whl.metadata (9.9 kB)\n",
      "Requirement already satisfied: MarkupSafe>=2.0 in c:\\users\\prompt\\anaconda3\\envs\\jan_11_2024\\lib\\site-packages (from jinja2->torch==2.1.2+cu121) (2.1.3)\n",
      "Requirement already satisfied: charset-normalizer<4,>=2 in c:\\users\\prompt\\anaconda3\\envs\\jan_11_2024\\lib\\site-packages (from requests->torchvision==0.16.2+cu121) (2.0.4)\n",
      "Requirement already satisfied: idna<4,>=2.5 in c:\\users\\prompt\\anaconda3\\envs\\jan_11_2024\\lib\\site-packages (from requests->torchvision==0.16.2+cu121) (3.4)\n",
      "Requirement already satisfied: urllib3<3,>=1.21.1 in c:\\users\\prompt\\anaconda3\\envs\\jan_11_2024\\lib\\site-packages (from requests->torchvision==0.16.2+cu121) (1.26.18)\n",
      "Requirement already satisfied: certifi>=2017.4.17 in c:\\users\\prompt\\anaconda3\\envs\\jan_11_2024\\lib\\site-packages (from requests->torchvision==0.16.2+cu121) (2023.11.17)\n",
      "Collecting mpmath>=0.19 (from sympy->torch==2.1.2+cu121)\n",
      "  Using cached https://download.pytorch.org/whl/mpmath-1.3.0-py3-none-any.whl (536 kB)\n",
      "Using cached pillow-10.2.0-cp310-cp310-win_amd64.whl (2.6 MB)\n",
      "Using cached filelock-3.13.1-py3-none-any.whl (11 kB)\n",
      "Using cached fsspec-2023.12.2-py3-none-any.whl (168 kB)\n",
      "Using cached networkx-3.2.1-py3-none-any.whl (1.6 MB)\n",
      "Using cached numpy-1.26.3-cp310-cp310-win_amd64.whl (15.8 MB)\n",
      "Installing collected packages: mpmath, sympy, pillow, numpy, networkx, fsspec, filelock, torch, torchvision, torchaudio\n",
      "Successfully installed filelock-3.13.1 fsspec-2023.12.2 mpmath-1.3.0 networkx-3.2.1 numpy-1.26.3 pillow-10.2.0 sympy-1.12 torch-2.1.2+cu121 torchaudio-2.1.2+cu121 torchvision-0.16.2+cu121\n"
     ]
    }
   ],
   "source": [
    "!pip install torch==2.1.2+cu121 torchvision==0.16.2+cu121 torchaudio==2.1.2+cu121 --extra-index-url https://download.pytorch.org/whl/cu121"
   ]
  },
  {
   "cell_type": "code",
   "execution_count": 2,
   "id": "e10c1b18-0847-4999-8a0e-58fa88b0c649",
   "metadata": {},
   "outputs": [
    {
     "data": {
      "text/plain": [
       "'Quadro M1200'"
      ]
     },
     "execution_count": 2,
     "metadata": {},
     "output_type": "execute_result"
    }
   ],
   "source": [
    "import torch\n",
    "torch.cuda.is_available()\n",
    "torch.cuda.device_count()\n",
    "torch.cuda.current_device()\n",
    "torch.cuda.device(0)\n",
    "torch.cuda.get_device_name(0)"
   ]
  },
  {
   "cell_type": "code",
   "execution_count": 3,
   "id": "1ad0aabe-a8ba-42d4-af40-65c720c96366",
   "metadata": {},
   "outputs": [
    {
     "name": "stdout",
     "output_type": "stream",
     "text": [
      "Collecting bitsandbytes==0.39.1\n",
      "  Downloading https://github.com/jllllll/bitsandbytes-windows-webui/releases/download/wheels/bitsandbytes-0.39.1-py3-none-win_amd64.whl (137.9 MB)\n",
      "     ---------------------------------------- 0.0/137.9 MB ? eta -:--:--\n",
      "     ---------------------------------------- 0.0/137.9 MB ? eta -:--:--\n",
      "     ---------------------------------------- 0.0/137.9 MB ? eta -:--:--\n",
      "     -------------------------------------- 0.0/137.9 MB 187.9 kB/s eta 0:12:15\n",
      "     -------------------------------------- 0.1/137.9 MB 328.2 kB/s eta 0:07:01\n",
      "     -------------------------------------- 0.2/137.9 MB 908.0 kB/s eta 0:02:32\n",
      "     ---------------------------------------- 0.4/137.9 MB 1.6 MB/s eta 0:01:24\n",
      "     ---------------------------------------- 0.8/137.9 MB 2.7 MB/s eta 0:00:51\n",
      "     ---------------------------------------- 1.3/137.9 MB 3.7 MB/s eta 0:00:38\n",
      "     ---------------------------------------- 1.6/137.9 MB 4.1 MB/s eta 0:00:34\n",
      "      --------------------------------------- 2.0/137.9 MB 4.7 MB/s eta 0:00:30\n",
      "      --------------------------------------- 2.5/137.9 MB 5.2 MB/s eta 0:00:26\n",
      "      --------------------------------------- 3.0/137.9 MB 5.9 MB/s eta 0:00:24\n",
      "     - -------------------------------------- 3.5/137.9 MB 6.2 MB/s eta 0:00:22\n",
      "     - -------------------------------------- 3.8/137.9 MB 6.0 MB/s eta 0:00:23\n",
      "     - -------------------------------------- 4.5/137.9 MB 6.8 MB/s eta 0:00:20\n",
      "     - -------------------------------------- 4.9/137.9 MB 7.0 MB/s eta 0:00:20\n",
      "     - -------------------------------------- 5.5/137.9 MB 7.3 MB/s eta 0:00:19\n",
      "     - -------------------------------------- 5.9/137.9 MB 7.3 MB/s eta 0:00:19\n",
      "     - -------------------------------------- 6.6/137.9 MB 7.7 MB/s eta 0:00:18\n",
      "     -- ------------------------------------- 7.1/137.9 MB 7.8 MB/s eta 0:00:17\n",
      "     -- ------------------------------------- 7.8/137.9 MB 8.2 MB/s eta 0:00:16\n",
      "     -- ------------------------------------- 8.3/137.9 MB 8.3 MB/s eta 0:00:16\n",
      "     -- ------------------------------------- 9.0/137.9 MB 8.5 MB/s eta 0:00:16\n",
      "     -- ------------------------------------- 9.3/137.9 MB 8.5 MB/s eta 0:00:16\n",
      "     -- ------------------------------------- 9.9/137.9 MB 8.7 MB/s eta 0:00:15\n",
      "     -- ----------------------------------- 10.4/137.9 MB 10.4 MB/s eta 0:00:13\n",
      "     --- ---------------------------------- 11.0/137.9 MB 10.7 MB/s eta 0:00:12\n",
      "     --- ---------------------------------- 11.4/137.9 MB 10.9 MB/s eta 0:00:12\n",
      "     --- ---------------------------------- 12.2/137.9 MB 11.1 MB/s eta 0:00:12\n",
      "     --- ---------------------------------- 12.5/137.9 MB 11.1 MB/s eta 0:00:12\n",
      "     --- ---------------------------------- 13.1/137.9 MB 11.1 MB/s eta 0:00:12\n",
      "     --- ---------------------------------- 13.7/137.9 MB 10.9 MB/s eta 0:00:12\n",
      "     --- ---------------------------------- 14.3/137.9 MB 11.3 MB/s eta 0:00:11\n",
      "     ---- --------------------------------- 14.8/137.9 MB 11.1 MB/s eta 0:00:12\n",
      "     ---- --------------------------------- 15.4/137.9 MB 11.3 MB/s eta 0:00:11\n",
      "     ---- --------------------------------- 15.9/137.9 MB 11.5 MB/s eta 0:00:11\n",
      "     ---- --------------------------------- 16.6/137.9 MB 11.3 MB/s eta 0:00:11\n",
      "     ---- --------------------------------- 17.1/137.9 MB 11.3 MB/s eta 0:00:11\n",
      "     ---- --------------------------------- 17.6/137.9 MB 11.3 MB/s eta 0:00:11\n",
      "     ----- -------------------------------- 18.2/137.9 MB 11.3 MB/s eta 0:00:11\n",
      "     ----- -------------------------------- 18.8/137.9 MB 11.1 MB/s eta 0:00:11\n",
      "     ----- -------------------------------- 19.4/137.9 MB 11.3 MB/s eta 0:00:11\n",
      "     ----- -------------------------------- 19.8/137.9 MB 11.5 MB/s eta 0:00:11\n",
      "     ----- -------------------------------- 20.4/137.9 MB 11.3 MB/s eta 0:00:11\n",
      "     ----- -------------------------------- 20.8/137.9 MB 11.3 MB/s eta 0:00:11\n",
      "     ----- -------------------------------- 21.5/137.9 MB 11.5 MB/s eta 0:00:11\n",
      "     ------ ------------------------------- 21.9/137.9 MB 11.5 MB/s eta 0:00:11\n",
      "     ------ ------------------------------- 22.5/137.9 MB 11.3 MB/s eta 0:00:11\n",
      "     ------ ------------------------------- 22.9/137.9 MB 11.3 MB/s eta 0:00:11\n",
      "     ------ ------------------------------- 23.3/137.9 MB 11.1 MB/s eta 0:00:11\n",
      "     ------ ------------------------------- 24.0/137.9 MB 11.3 MB/s eta 0:00:11\n",
      "     ------ ------------------------------- 24.4/137.9 MB 11.3 MB/s eta 0:00:11\n",
      "     ------ ------------------------------- 24.7/137.9 MB 11.3 MB/s eta 0:00:11\n",
      "     ------ ------------------------------- 25.0/137.9 MB 10.9 MB/s eta 0:00:11\n",
      "     ------- ------------------------------ 25.6/137.9 MB 10.6 MB/s eta 0:00:11\n",
      "     ------- ------------------------------ 26.1/137.9 MB 10.6 MB/s eta 0:00:11\n",
      "     ------- ------------------------------ 26.8/137.9 MB 10.9 MB/s eta 0:00:11\n",
      "     ------- ------------------------------ 27.2/137.9 MB 10.6 MB/s eta 0:00:11\n",
      "     ------- ------------------------------ 27.9/137.9 MB 10.9 MB/s eta 0:00:11\n",
      "     ------- ------------------------------ 28.5/137.9 MB 10.9 MB/s eta 0:00:11\n",
      "     ------- ------------------------------ 29.0/137.9 MB 10.7 MB/s eta 0:00:11\n",
      "     -------- ----------------------------- 29.6/137.9 MB 10.6 MB/s eta 0:00:11\n",
      "     -------- ----------------------------- 30.2/137.9 MB 10.7 MB/s eta 0:00:11\n",
      "     -------- ----------------------------- 30.7/137.9 MB 10.6 MB/s eta 0:00:11\n",
      "     -------- ----------------------------- 31.2/137.9 MB 10.7 MB/s eta 0:00:10\n",
      "     -------- ----------------------------- 31.6/137.9 MB 10.4 MB/s eta 0:00:11\n",
      "     -------- ----------------------------- 31.9/137.9 MB 10.6 MB/s eta 0:00:11\n",
      "     -------- ----------------------------- 32.5/137.9 MB 10.7 MB/s eta 0:00:10\n",
      "     --------- ---------------------------- 32.9/137.9 MB 10.6 MB/s eta 0:00:10\n",
      "     --------- ---------------------------- 33.4/137.9 MB 10.7 MB/s eta 0:00:10\n",
      "     --------- ---------------------------- 33.9/137.9 MB 10.7 MB/s eta 0:00:10\n",
      "     --------- ---------------------------- 34.4/137.9 MB 10.6 MB/s eta 0:00:10\n",
      "     --------- ---------------------------- 35.0/137.9 MB 11.1 MB/s eta 0:00:10\n",
      "     --------- ---------------------------- 35.6/137.9 MB 11.3 MB/s eta 0:00:10\n",
      "     --------- ---------------------------- 36.2/137.9 MB 11.1 MB/s eta 0:00:10\n",
      "     ---------- --------------------------- 36.8/137.9 MB 11.3 MB/s eta 0:00:09\n",
      "     ---------- --------------------------- 37.1/137.9 MB 10.9 MB/s eta 0:00:10\n",
      "     ---------- --------------------------- 37.6/137.9 MB 10.9 MB/s eta 0:00:10\n",
      "     ---------- --------------------------- 38.3/137.9 MB 10.9 MB/s eta 0:00:10\n",
      "     ---------- --------------------------- 38.8/137.9 MB 10.9 MB/s eta 0:00:10\n",
      "     ---------- --------------------------- 39.3/137.9 MB 10.9 MB/s eta 0:00:10\n",
      "     ---------- --------------------------- 39.9/137.9 MB 11.1 MB/s eta 0:00:09\n",
      "     ----------- -------------------------- 40.5/137.9 MB 10.9 MB/s eta 0:00:09\n",
      "     ----------- -------------------------- 41.0/137.9 MB 10.9 MB/s eta 0:00:09\n",
      "     ----------- -------------------------- 41.5/137.9 MB 11.1 MB/s eta 0:00:09\n",
      "     ----------- -------------------------- 41.8/137.9 MB 10.9 MB/s eta 0:00:09\n",
      "     ----------- -------------------------- 42.5/137.9 MB 11.1 MB/s eta 0:00:09\n",
      "     ----------- -------------------------- 43.0/137.9 MB 11.1 MB/s eta 0:00:09\n",
      "     ----------- -------------------------- 43.5/137.9 MB 11.1 MB/s eta 0:00:09\n",
      "     ------------ ------------------------- 44.0/137.9 MB 11.1 MB/s eta 0:00:09\n",
      "     ------------ ------------------------- 44.6/137.9 MB 11.1 MB/s eta 0:00:09\n",
      "     ------------ ------------------------- 45.1/137.9 MB 11.3 MB/s eta 0:00:09\n",
      "     ------------ ------------------------- 45.6/137.9 MB 11.3 MB/s eta 0:00:09\n",
      "     ------------ ------------------------- 46.2/137.9 MB 10.9 MB/s eta 0:00:09\n",
      "     ------------ ------------------------- 46.7/137.9 MB 11.1 MB/s eta 0:00:09\n",
      "     ------------- ------------------------ 47.4/137.9 MB 11.7 MB/s eta 0:00:08\n",
      "     ------------- ------------------------ 47.6/137.9 MB 11.3 MB/s eta 0:00:09\n",
      "     ------------- ------------------------ 48.2/137.9 MB 11.1 MB/s eta 0:00:09\n",
      "     ------------- ------------------------ 48.6/137.9 MB 10.9 MB/s eta 0:00:09\n",
      "     ------------- ------------------------ 49.3/137.9 MB 11.1 MB/s eta 0:00:08\n",
      "     ------------- ------------------------ 49.8/137.9 MB 11.1 MB/s eta 0:00:08\n",
      "     ------------- ------------------------ 50.6/137.9 MB 11.1 MB/s eta 0:00:08\n",
      "     -------------- ----------------------- 51.0/137.9 MB 10.9 MB/s eta 0:00:08\n",
      "     -------------- ----------------------- 51.7/137.9 MB 11.1 MB/s eta 0:00:08\n",
      "     -------------- ----------------------- 52.0/137.9 MB 11.3 MB/s eta 0:00:08\n",
      "     -------------- ----------------------- 52.4/137.9 MB 10.9 MB/s eta 0:00:08\n",
      "     -------------- ----------------------- 52.8/137.9 MB 10.7 MB/s eta 0:00:08\n",
      "     -------------- ----------------------- 53.2/137.9 MB 10.6 MB/s eta 0:00:09\n",
      "     -------------- ----------------------- 53.7/137.9 MB 10.6 MB/s eta 0:00:08\n",
      "     -------------- ----------------------- 54.2/137.9 MB 10.6 MB/s eta 0:00:08\n",
      "     --------------- ---------------------- 54.7/137.9 MB 10.7 MB/s eta 0:00:08\n",
      "     --------------- ---------------------- 55.1/137.9 MB 10.6 MB/s eta 0:00:08\n",
      "     --------------- ---------------------- 55.8/137.9 MB 10.6 MB/s eta 0:00:08\n",
      "     --------------- ---------------------- 56.3/137.9 MB 10.4 MB/s eta 0:00:08\n",
      "     --------------- ---------------------- 56.8/137.9 MB 10.7 MB/s eta 0:00:08\n",
      "     --------------- ---------------------- 57.4/137.9 MB 10.4 MB/s eta 0:00:08\n",
      "     --------------- ---------------------- 58.0/137.9 MB 10.7 MB/s eta 0:00:08\n",
      "     ---------------- --------------------- 58.4/137.9 MB 10.9 MB/s eta 0:00:08\n",
      "     ---------------- --------------------- 59.0/137.9 MB 10.9 MB/s eta 0:00:08\n",
      "     ---------------- --------------------- 59.5/137.9 MB 11.1 MB/s eta 0:00:08\n",
      "     ---------------- --------------------- 60.2/137.9 MB 11.1 MB/s eta 0:00:08\n",
      "     ---------------- --------------------- 60.8/137.9 MB 11.3 MB/s eta 0:00:07\n",
      "     ---------------- --------------------- 61.4/137.9 MB 11.5 MB/s eta 0:00:07\n",
      "     ----------------- -------------------- 61.9/137.9 MB 11.1 MB/s eta 0:00:07\n",
      "     ----------------- -------------------- 62.4/137.9 MB 11.3 MB/s eta 0:00:07\n",
      "     ----------------- -------------------- 62.9/137.9 MB 11.9 MB/s eta 0:00:07\n",
      "     ----------------- -------------------- 63.4/137.9 MB 12.1 MB/s eta 0:00:07\n",
      "     ----------------- -------------------- 63.9/137.9 MB 11.7 MB/s eta 0:00:07\n",
      "     ----------------- -------------------- 64.6/137.9 MB 11.9 MB/s eta 0:00:07\n",
      "     ----------------- -------------------- 65.1/137.9 MB 12.1 MB/s eta 0:00:07\n",
      "     ------------------ ------------------- 65.6/137.9 MB 12.4 MB/s eta 0:00:06\n",
      "     ------------------ ------------------- 66.1/137.9 MB 12.4 MB/s eta 0:00:06\n",
      "     ------------------ ------------------- 66.8/137.9 MB 12.4 MB/s eta 0:00:06\n",
      "     ------------------ ------------------- 67.3/137.9 MB 11.7 MB/s eta 0:00:07\n",
      "     ------------------ ------------------- 68.0/137.9 MB 12.1 MB/s eta 0:00:06\n",
      "     ------------------ ------------------- 68.5/137.9 MB 12.6 MB/s eta 0:00:06\n",
      "     ------------------ ------------------- 69.0/137.9 MB 12.6 MB/s eta 0:00:06\n",
      "     ------------------- ------------------ 69.5/137.9 MB 12.4 MB/s eta 0:00:06\n",
      "     ------------------- ------------------ 70.0/137.9 MB 12.1 MB/s eta 0:00:06\n",
      "     ------------------- ------------------ 70.6/137.9 MB 11.7 MB/s eta 0:00:06\n",
      "     ------------------- ------------------ 71.1/137.9 MB 11.9 MB/s eta 0:00:06\n",
      "     ------------------- ------------------ 71.8/137.9 MB 12.1 MB/s eta 0:00:06\n",
      "     ------------------- ------------------ 72.4/137.9 MB 12.1 MB/s eta 0:00:06\n",
      "     -------------------- ----------------- 73.0/137.9 MB 12.1 MB/s eta 0:00:06\n",
      "     -------------------- ----------------- 73.4/137.9 MB 11.7 MB/s eta 0:00:06\n",
      "     -------------------- ----------------- 74.2/137.9 MB 12.3 MB/s eta 0:00:06\n",
      "     -------------------- ----------------- 74.6/137.9 MB 12.1 MB/s eta 0:00:06\n",
      "     -------------------- ----------------- 75.2/137.9 MB 12.1 MB/s eta 0:00:06\n",
      "     -------------------- ----------------- 75.7/137.9 MB 11.7 MB/s eta 0:00:06\n",
      "     --------------------- ---------------- 76.5/137.9 MB 11.9 MB/s eta 0:00:06\n",
      "     --------------------- ---------------- 77.0/137.9 MB 11.7 MB/s eta 0:00:06\n",
      "     --------------------- ---------------- 77.7/137.9 MB 12.4 MB/s eta 0:00:05\n",
      "     --------------------- ---------------- 78.2/137.9 MB 11.9 MB/s eta 0:00:06\n",
      "     --------------------- ---------------- 78.7/137.9 MB 11.9 MB/s eta 0:00:05\n",
      "     --------------------- ---------------- 79.2/137.9 MB 12.4 MB/s eta 0:00:05\n",
      "     --------------------- ---------------- 79.6/137.9 MB 11.7 MB/s eta 0:00:05\n",
      "     ---------------------- --------------- 80.4/137.9 MB 12.4 MB/s eta 0:00:05\n",
      "     ---------------------- --------------- 80.9/137.9 MB 12.1 MB/s eta 0:00:05\n",
      "     ---------------------- --------------- 81.5/137.9 MB 12.1 MB/s eta 0:00:05\n",
      "     ---------------------- --------------- 82.0/137.9 MB 11.9 MB/s eta 0:00:05\n",
      "     ---------------------- --------------- 82.6/137.9 MB 11.9 MB/s eta 0:00:05\n",
      "     ---------------------- --------------- 83.0/137.9 MB 11.9 MB/s eta 0:00:05\n",
      "     ----------------------- -------------- 83.7/137.9 MB 12.4 MB/s eta 0:00:05\n",
      "     ----------------------- -------------- 84.2/137.9 MB 12.1 MB/s eta 0:00:05\n",
      "     ----------------------- -------------- 84.9/137.9 MB 12.4 MB/s eta 0:00:05\n",
      "     ----------------------- -------------- 85.5/137.9 MB 12.4 MB/s eta 0:00:05\n",
      "     ----------------------- -------------- 85.9/137.9 MB 12.1 MB/s eta 0:00:05\n",
      "     ----------------------- -------------- 86.5/137.9 MB 12.4 MB/s eta 0:00:05\n",
      "     ----------------------- -------------- 86.9/137.9 MB 12.1 MB/s eta 0:00:05\n",
      "     ------------------------ ------------- 87.5/137.9 MB 12.4 MB/s eta 0:00:05\n",
      "     ------------------------ ------------- 87.9/137.9 MB 12.4 MB/s eta 0:00:05\n",
      "     ------------------------ ------------- 88.6/137.9 MB 12.1 MB/s eta 0:00:05\n",
      "     ------------------------ ------------- 89.2/137.9 MB 12.1 MB/s eta 0:00:05\n",
      "     ------------------------ ------------- 89.6/137.9 MB 11.9 MB/s eta 0:00:05\n",
      "     ------------------------ ------------- 90.3/137.9 MB 12.4 MB/s eta 0:00:04\n",
      "     ------------------------- ------------ 90.8/137.9 MB 12.1 MB/s eta 0:00:04\n",
      "     ------------------------- ------------ 91.4/137.9 MB 12.4 MB/s eta 0:00:04\n",
      "     ------------------------- ------------ 91.8/137.9 MB 11.9 MB/s eta 0:00:04\n",
      "     ------------------------- ------------ 92.4/137.9 MB 12.6 MB/s eta 0:00:04\n",
      "     ------------------------- ------------ 92.9/137.9 MB 12.4 MB/s eta 0:00:04\n",
      "     ------------------------- ------------ 93.5/137.9 MB 12.4 MB/s eta 0:00:04\n",
      "     ------------------------- ------------ 94.1/137.9 MB 12.1 MB/s eta 0:00:04\n",
      "     -------------------------- ----------- 94.5/137.9 MB 12.4 MB/s eta 0:00:04\n",
      "     -------------------------- ----------- 95.2/137.9 MB 12.4 MB/s eta 0:00:04\n",
      "     -------------------------- ----------- 95.7/137.9 MB 11.9 MB/s eta 0:00:04\n",
      "     -------------------------- ----------- 96.3/137.9 MB 12.4 MB/s eta 0:00:04\n",
      "     -------------------------- ----------- 96.7/137.9 MB 11.9 MB/s eta 0:00:04\n",
      "     -------------------------- ----------- 97.2/137.9 MB 11.9 MB/s eta 0:00:04\n",
      "     -------------------------- ----------- 97.6/137.9 MB 11.9 MB/s eta 0:00:04\n",
      "     --------------------------- ---------- 98.2/137.9 MB 12.1 MB/s eta 0:00:04\n",
      "     --------------------------- ---------- 98.8/137.9 MB 11.9 MB/s eta 0:00:04\n",
      "     --------------------------- ---------- 99.3/137.9 MB 11.9 MB/s eta 0:00:04\n",
      "     -------------------------- ---------- 100.0/137.9 MB 11.9 MB/s eta 0:00:04\n",
      "     -------------------------- ---------- 100.5/137.9 MB 11.5 MB/s eta 0:00:04\n",
      "     --------------------------- --------- 101.1/137.9 MB 11.9 MB/s eta 0:00:04\n",
      "     --------------------------- --------- 101.6/137.9 MB 11.7 MB/s eta 0:00:04\n",
      "     --------------------------- --------- 102.1/137.9 MB 11.7 MB/s eta 0:00:04\n",
      "     --------------------------- --------- 102.5/137.9 MB 11.5 MB/s eta 0:00:04\n",
      "     --------------------------- --------- 103.1/137.9 MB 11.3 MB/s eta 0:00:04\n",
      "     --------------------------- --------- 103.5/137.9 MB 11.3 MB/s eta 0:00:04\n",
      "     --------------------------- --------- 104.2/137.9 MB 11.5 MB/s eta 0:00:03\n",
      "     ---------------------------- -------- 104.5/137.9 MB 11.1 MB/s eta 0:00:04\n",
      "     ---------------------------- -------- 105.0/137.9 MB 11.1 MB/s eta 0:00:03\n",
      "     ---------------------------- -------- 105.6/137.9 MB 11.1 MB/s eta 0:00:03\n",
      "     ---------------------------- -------- 106.1/137.9 MB 10.9 MB/s eta 0:00:03\n",
      "     ---------------------------- -------- 106.4/137.9 MB 11.1 MB/s eta 0:00:03\n",
      "     ---------------------------- -------- 106.9/137.9 MB 11.1 MB/s eta 0:00:03\n",
      "     ---------------------------- -------- 107.5/137.9 MB 10.9 MB/s eta 0:00:03\n",
      "     ---------------------------- -------- 108.0/137.9 MB 10.9 MB/s eta 0:00:03\n",
      "     ----------------------------- ------- 108.7/137.9 MB 11.1 MB/s eta 0:00:03\n",
      "     ----------------------------- ------- 109.1/137.9 MB 11.1 MB/s eta 0:00:03\n",
      "     ----------------------------- ------- 109.6/137.9 MB 11.1 MB/s eta 0:00:03\n",
      "     ----------------------------- ------- 110.3/137.9 MB 11.3 MB/s eta 0:00:03\n",
      "     ----------------------------- ------- 110.8/137.9 MB 11.3 MB/s eta 0:00:03\n",
      "     ----------------------------- ------- 111.4/137.9 MB 11.5 MB/s eta 0:00:03\n",
      "     ------------------------------ ------ 111.9/137.9 MB 11.3 MB/s eta 0:00:03\n",
      "     ------------------------------ ------ 112.4/137.9 MB 11.5 MB/s eta 0:00:03\n",
      "     ------------------------------ ------ 112.9/137.9 MB 11.5 MB/s eta 0:00:03\n",
      "     ------------------------------ ------ 113.5/137.9 MB 11.3 MB/s eta 0:00:03\n",
      "     ------------------------------ ------ 114.1/137.9 MB 11.3 MB/s eta 0:00:03\n",
      "     ------------------------------ ------ 114.7/137.9 MB 11.9 MB/s eta 0:00:02\n",
      "     ------------------------------ ------ 115.2/137.9 MB 11.9 MB/s eta 0:00:02\n",
      "     ------------------------------- ----- 115.7/137.9 MB 11.5 MB/s eta 0:00:02\n",
      "     ------------------------------- ----- 116.3/137.9 MB 11.7 MB/s eta 0:00:02\n",
      "     ------------------------------- ----- 116.9/137.9 MB 11.9 MB/s eta 0:00:02\n",
      "     ------------------------------- ----- 117.5/137.9 MB 11.9 MB/s eta 0:00:02\n",
      "     ------------------------------- ----- 118.0/137.9 MB 11.9 MB/s eta 0:00:02\n",
      "     ------------------------------- ----- 118.5/137.9 MB 12.1 MB/s eta 0:00:02\n",
      "     ------------------------------- ----- 119.0/137.9 MB 12.1 MB/s eta 0:00:02\n",
      "     ------------------------------- ----- 119.2/137.9 MB 12.1 MB/s eta 0:00:02\n",
      "     -------------------------------- ---- 119.6/137.9 MB 11.5 MB/s eta 0:00:02\n",
      "     -------------------------------- ---- 120.2/137.9 MB 11.5 MB/s eta 0:00:02\n",
      "     -------------------------------- ---- 120.6/137.9 MB 11.3 MB/s eta 0:00:02\n",
      "     -------------------------------- ---- 121.1/137.9 MB 10.9 MB/s eta 0:00:02\n",
      "     -------------------------------- ---- 121.6/137.9 MB 10.9 MB/s eta 0:00:02\n",
      "     -------------------------------- ---- 122.1/137.9 MB 11.1 MB/s eta 0:00:02\n",
      "     -------------------------------- ---- 122.7/137.9 MB 10.9 MB/s eta 0:00:02\n",
      "     --------------------------------- --- 123.3/137.9 MB 11.1 MB/s eta 0:00:02\n",
      "     --------------------------------- --- 123.7/137.9 MB 11.1 MB/s eta 0:00:02\n",
      "     --------------------------------- --- 124.3/137.9 MB 10.9 MB/s eta 0:00:02\n",
      "     --------------------------------- --- 124.8/137.9 MB 10.7 MB/s eta 0:00:02\n",
      "     --------------------------------- --- 125.3/137.9 MB 10.6 MB/s eta 0:00:02\n",
      "     --------------------------------- --- 126.0/137.9 MB 10.9 MB/s eta 0:00:02\n",
      "     --------------------------------- --- 126.4/137.9 MB 10.6 MB/s eta 0:00:02\n",
      "     ---------------------------------- -- 127.0/137.9 MB 10.6 MB/s eta 0:00:02\n",
      "     ---------------------------------- -- 127.3/137.9 MB 10.2 MB/s eta 0:00:02\n",
      "     ---------------------------------- -- 127.9/137.9 MB 10.4 MB/s eta 0:00:01\n",
      "     ---------------------------------- -- 128.3/137.9 MB 10.2 MB/s eta 0:00:01\n",
      "     ---------------------------------- -- 128.9/137.9 MB 10.1 MB/s eta 0:00:01\n",
      "     ---------------------------------- -- 129.3/137.9 MB 10.1 MB/s eta 0:00:01\n",
      "     ---------------------------------- -- 129.7/137.9 MB 10.6 MB/s eta 0:00:01\n",
      "     ---------------------------------- -- 130.0/137.9 MB 10.4 MB/s eta 0:00:01\n",
      "     ---------------------------------- -- 130.2/137.9 MB 10.1 MB/s eta 0:00:01\n",
      "     ----------------------------------- - 130.9/137.9 MB 10.4 MB/s eta 0:00:01\n",
      "     ----------------------------------- - 131.3/137.9 MB 10.4 MB/s eta 0:00:01\n",
      "     ----------------------------------- - 132.1/137.9 MB 10.6 MB/s eta 0:00:01\n",
      "     ----------------------------------- - 132.4/137.9 MB 10.4 MB/s eta 0:00:01\n",
      "     ----------------------------------- - 133.2/137.9 MB 10.6 MB/s eta 0:00:01\n",
      "     ----------------------------------- - 133.5/137.9 MB 10.2 MB/s eta 0:00:01\n",
      "     ----------------------------------- - 134.2/137.9 MB 10.4 MB/s eta 0:00:01\n",
      "     ------------------------------------  134.5/137.9 MB 10.1 MB/s eta 0:00:01\n",
      "     ------------------------------------  135.1/137.9 MB 10.4 MB/s eta 0:00:01\n",
      "     ------------------------------------  135.5/137.9 MB 10.4 MB/s eta 0:00:01\n",
      "     ------------------------------------  135.9/137.9 MB 10.1 MB/s eta 0:00:01\n",
      "     -------------------------------------  136.3/137.9 MB 9.9 MB/s eta 0:00:01\n",
      "     ------------------------------------  136.9/137.9 MB 10.2 MB/s eta 0:00:01\n",
      "     ------------------------------------  137.3/137.9 MB 10.2 MB/s eta 0:00:01\n",
      "     ------------------------------------  137.8/137.9 MB 10.2 MB/s eta 0:00:01\n",
      "     ------------------------------------  137.9/137.9 MB 10.1 MB/s eta 0:00:01\n",
      "     ------------------------------------  137.9/137.9 MB 10.1 MB/s eta 0:00:01\n",
      "     ------------------------------------  137.9/137.9 MB 10.1 MB/s eta 0:00:01\n",
      "     ------------------------------------  137.9/137.9 MB 10.1 MB/s eta 0:00:01\n",
      "     -------------------------------------- 137.9/137.9 MB 8.5 MB/s eta 0:00:00\n",
      "Collecting scipy (from bitsandbytes==0.39.1)\n",
      "  Using cached scipy-1.11.4-cp310-cp310-win_amd64.whl.metadata (60 kB)\n",
      "Requirement already satisfied: numpy<1.28.0,>=1.21.6 in c:\\users\\prompt\\anaconda3\\envs\\jan_11_2024\\lib\\site-packages (from scipy->bitsandbytes==0.39.1) (1.26.3)\n",
      "Using cached scipy-1.11.4-cp310-cp310-win_amd64.whl (44.1 MB)\n",
      "Installing collected packages: scipy, bitsandbytes\n",
      "Successfully installed bitsandbytes-0.39.1 scipy-1.11.4\n"
     ]
    }
   ],
   "source": [
    "!pip install https://github.com/jllllll/bitsandbytes-windows-webui/releases/download/wheels/bitsandbytes-0.39.1-py3-none-win_amd64.whl"
   ]
  },
  {
   "cell_type": "code",
   "execution_count": null,
   "id": "0c284be4-0acd-4ced-8dfa-d007a7ba2471",
   "metadata": {},
   "outputs": [],
   "source": []
  },
  {
   "cell_type": "code",
   "execution_count": 5,
   "id": "27eb6144-d1a7-41f8-9ea5-03537df1b104",
   "metadata": {},
   "outputs": [],
   "source": [
    "!pip install trl transformers accelerate  einops peft -Uqqq\n",
    "#!pip install bitsandbytes einops wandb -Uqqq"
   ]
  },
  {
   "cell_type": "markdown",
   "id": "69c82064-9dee-4f2f-b36c-9ddfc03a0c88",
   "metadata": {},
   "source": [
    "# Fine tuning TinyLlama for custom dataset in local environment"
   ]
  },
  {
   "cell_type": "code",
   "execution_count": 6,
   "id": "b7c5e0d0-7ada-4e03-9ed6-3c6b9f89237d",
   "metadata": {},
   "outputs": [
    {
     "name": "stderr",
     "output_type": "stream",
     "text": [
      "C:\\Users\\prompt\\anaconda3\\envs\\Jan_11_2024\\lib\\site-packages\\tqdm\\auto.py:21: TqdmWarning: IProgress not found. Please update jupyter and ipywidgets. See https://ipywidgets.readthedocs.io/en/stable/user_install.html\n",
      "  from .autonotebook import tqdm as notebook_tqdm\n"
     ]
    }
   ],
   "source": [
    "import torch\n",
    "import glob\n",
    "import pandas as pd\n",
    "import numpy as np\n",
    "import re\n",
    "from peft import get_peft_model, PeftConfig, PeftModel, LoraConfig, prepare_model_for_kbit_training\n",
    "from transformers import AutoTokenizer, AutoModelForCausalLM, BitsAndBytesConfig, TrainingArguments, GenerationConfig\n",
    "from trl import SFTTrainer\n",
    "from datasets import Dataset"
   ]
  },
  {
   "cell_type": "markdown",
   "id": "829cbff6-a396-44b6-b263-5ae36601ce96",
   "metadata": {},
   "source": [
    "# Preparing data "
   ]
  },
  {
   "cell_type": "code",
   "execution_count": 7,
   "id": "1ab1f94b-26bd-4919-8ebb-5b7c5547bc59",
   "metadata": {},
   "outputs": [],
   "source": [
    "import pandas as pd"
   ]
  },
  {
   "cell_type": "code",
   "execution_count": 8,
   "id": "6c3f229c-a0eb-44b9-832c-493105e1df87",
   "metadata": {},
   "outputs": [],
   "source": [
    "df=pd.read_csv(\"C:\\\\Users\\\\prompt\\\\Documents\\\\27Dec2023\\\\data_set_20dec2023.csv\")"
   ]
  },
  {
   "cell_type": "code",
   "execution_count": 9,
   "id": "f4d87d40-ccd8-4530-83fe-f573eda9b9f4",
   "metadata": {},
   "outputs": [],
   "source": [
    "data_df=df.copy()"
   ]
  },
  {
   "cell_type": "code",
   "execution_count": 10,
   "id": "46c69d77-d5bc-44d8-a842-e8043f6e95fc",
   "metadata": {},
   "outputs": [],
   "source": [
    "data_df[\"text\"] = data_df[[\"question\", \"answer\"]].apply(lambda x: \"question: \" + x[\"question\"] + \" answer: \" + x[\"answer\"], axis=1)"
   ]
  },
  {
   "cell_type": "code",
   "execution_count": 11,
   "id": "3a6a0704-d7eb-48b6-95bb-46f6a5f3496f",
   "metadata": {},
   "outputs": [
    {
     "data": {
      "text/html": [
       "<div>\n",
       "<style scoped>\n",
       "    .dataframe tbody tr th:only-of-type {\n",
       "        vertical-align: middle;\n",
       "    }\n",
       "\n",
       "    .dataframe tbody tr th {\n",
       "        vertical-align: top;\n",
       "    }\n",
       "\n",
       "    .dataframe thead th {\n",
       "        text-align: right;\n",
       "    }\n",
       "</style>\n",
       "<table border=\"1\" class=\"dataframe\">\n",
       "  <thead>\n",
       "    <tr style=\"text-align: right;\">\n",
       "      <th></th>\n",
       "      <th>Unnamed: 0</th>\n",
       "      <th>question</th>\n",
       "      <th>answer</th>\n",
       "      <th>text</th>\n",
       "    </tr>\n",
       "  </thead>\n",
       "  <tbody>\n",
       "    <tr>\n",
       "      <th>0</th>\n",
       "      <td>0</td>\n",
       "      <td>What is the notice period duration?</td>\n",
       "      <td>Notice period is 90 days</td>\n",
       "      <td>question: What is the notice period duration? ...</td>\n",
       "    </tr>\n",
       "    <tr>\n",
       "      <th>1</th>\n",
       "      <td>1</td>\n",
       "      <td>Is it possible to take leaves during Notice pe...</td>\n",
       "      <td>Sick leaves can be taken, In case casual leave...</td>\n",
       "      <td>question: Is it possible to take leaves during...</td>\n",
       "    </tr>\n",
       "    <tr>\n",
       "      <th>2</th>\n",
       "      <td>2</td>\n",
       "      <td>Is it possible to lieu notice period?</td>\n",
       "      <td>Pay three month's basic salary in lieu of noti...</td>\n",
       "      <td>question: Is it possible to lieu notice period...</td>\n",
       "    </tr>\n",
       "    <tr>\n",
       "      <th>3</th>\n",
       "      <td>3</td>\n",
       "      <td>What is the process of Final settlement?</td>\n",
       "      <td>HR will complete the Full and Final Settlement...</td>\n",
       "      <td>question: What is the process of Final settlem...</td>\n",
       "    </tr>\n",
       "    <tr>\n",
       "      <th>4</th>\n",
       "      <td>4</td>\n",
       "      <td>What about Final settlement?</td>\n",
       "      <td>HR will complete the Full and Final Settlement...</td>\n",
       "      <td>question: What about Final settlement? answer:...</td>\n",
       "    </tr>\n",
       "  </tbody>\n",
       "</table>\n",
       "</div>"
      ],
      "text/plain": [
       "   Unnamed: 0                                           question  \\\n",
       "0           0                What is the notice period duration?   \n",
       "1           1  Is it possible to take leaves during Notice pe...   \n",
       "2           2              Is it possible to lieu notice period?   \n",
       "3           3           What is the process of Final settlement?   \n",
       "4           4                       What about Final settlement?   \n",
       "\n",
       "                                              answer  \\\n",
       "0                           Notice period is 90 days   \n",
       "1  Sick leaves can be taken, In case casual leave...   \n",
       "2  Pay three month's basic salary in lieu of noti...   \n",
       "3  HR will complete the Full and Final Settlement...   \n",
       "4  HR will complete the Full and Final Settlement...   \n",
       "\n",
       "                                                text  \n",
       "0  question: What is the notice period duration? ...  \n",
       "1  question: Is it possible to take leaves during...  \n",
       "2  question: Is it possible to lieu notice period...  \n",
       "3  question: What is the process of Final settlem...  \n",
       "4  question: What about Final settlement? answer:...  "
      ]
     },
     "execution_count": 11,
     "metadata": {},
     "output_type": "execute_result"
    }
   ],
   "source": [
    "data_df.head()"
   ]
  },
  {
   "cell_type": "markdown",
   "id": "bca4bfc9-8f98-46d2-bc58-e1a6a70cad5c",
   "metadata": {},
   "source": [
    "# configuring model parameters"
   ]
  },
  {
   "cell_type": "code",
   "execution_count": 12,
   "id": "c7964cd0-4fcc-421c-b0c4-559086e5f665",
   "metadata": {},
   "outputs": [
    {
     "name": "stderr",
     "output_type": "stream",
     "text": [
      "config.json: 100%|██████████| 607/607 [00:00<?, ?B/s] \n",
      "C:\\Users\\prompt\\anaconda3\\envs\\Jan_11_2024\\lib\\site-packages\\huggingface_hub\\file_download.py:149: UserWarning: `huggingface_hub` cache-system uses symlinks by default to efficiently store duplicated files but your machine does not support them in C:\\Users\\prompt\\.cache\\huggingface\\hub\\models--PY007--TinyLlama-1.1B-step-50K-105b. Caching files will still work but in a degraded version that might require more space on your disk. This warning can be disabled by setting the `HF_HUB_DISABLE_SYMLINKS_WARNING` environment variable. For more details, see https://huggingface.co/docs/huggingface_hub/how-to-cache#limitations.\n",
      "To support symlinks on Windows, you either need to activate Developer Mode or to run Python as an administrator. In order to see activate developer mode, see this article: https://docs.microsoft.com/en-us/windows/apps/get-started/enable-your-device-for-development\n",
      "  warnings.warn(message)\n",
      "model.safetensors: 100%|██████████| 4.40G/4.40G [06:59<00:00, 10.5MB/s]\n",
      "C:\\Users\\prompt\\anaconda3\\envs\\Jan_11_2024\\lib\\site-packages\\bitsandbytes\\cuda_setup\\main.py:156: UserWarning: WARNING: The following directories listed in your path were found to be non-existent: {WindowsPath('C:/Users/prompt/anaconda3/envs/Jan_11_2024/bin')}\n",
      "  warn(msg)\n",
      "C:\\Users\\prompt\\anaconda3\\envs\\Jan_11_2024\\lib\\site-packages\\bitsandbytes\\cuda_setup\\main.py:156: UserWarning: C:\\Users\\prompt\\anaconda3\\envs\\Jan_11_2024 did not contain ['cudart64_110.dll', 'cudart64_120.dll', 'cudart64_12.dll'] as expected! Searching further paths...\n",
      "  warn(msg)\n",
      "C:\\Users\\prompt\\anaconda3\\envs\\Jan_11_2024\\lib\\site-packages\\bitsandbytes\\cuda_setup\\main.py:156: UserWarning: WARNING: Compute capability < 7.5 detected! Only slow 8-bit matmul is supported for your GPU!\n",
      "  warn(msg)\n"
     ]
    },
    {
     "name": "stdout",
     "output_type": "stream",
     "text": [
      "\n",
      "===================================BUG REPORT===================================\n",
      "Welcome to bitsandbytes. For bug reports, please run\n",
      "\n",
      "python -m bitsandbytes\n",
      "\n",
      " and submit this information together with your error trace to: https://github.com/TimDettmers/bitsandbytes/issues\n",
      "================================================================================\n",
      "bin C:\\Users\\prompt\\anaconda3\\envs\\Jan_11_2024\\lib\\site-packages\\bitsandbytes\\libbitsandbytes_cuda122_nocublaslt.dll\n",
      "CUDA SETUP: CUDA runtime path found: C:\\Program Files\\NVIDIA GPU Computing Toolkit\\CUDA\\v12.2\\bin\\cudart64_12.dll\n",
      "CUDA SETUP: Highest compute capability among GPUs detected: 5.0\n",
      "CUDA SETUP: Detected CUDA version 122\n",
      "CUDA SETUP: Loading binary C:\\Users\\prompt\\anaconda3\\envs\\Jan_11_2024\\lib\\site-packages\\bitsandbytes\\libbitsandbytes_cuda122_nocublaslt.dll...\n"
     ]
    },
    {
     "name": "stderr",
     "output_type": "stream",
     "text": [
      "generation_config.json: 100%|██████████| 129/129 [00:00<?, ?B/s] \n"
     ]
    }
   ],
   "source": [
    "model_name = \"PY007/TinyLlama-1.1B-step-50K-105b\"\n",
    "\n",
    "bnb_config = BitsAndBytesConfig(\n",
    "    load_in_4bit=True,           \n",
    "    bnb_4bit_quant_type=\"nf4\",    \n",
    "    bnb_4bit_use_double_quant=True, \n",
    "    bnb_4bit_compute_dtype=torch.bfloat16, \n",
    ")\n",
    "\n",
    "model = AutoModelForCausalLM.from_pretrained(\n",
    "    model_name,\n",
    "    quantization_config=bnb_config, \n",
    "    device_map=\"auto\",  \n",
    "    trust_remote_code=True, \n",
    ")"
   ]
  },
  {
   "cell_type": "markdown",
   "id": "5e3522fb-2a2e-4464-be91-fd93b27a2829",
   "metadata": {},
   "source": [
    "# loading tokenizer"
   ]
  },
  {
   "cell_type": "code",
   "execution_count": 13,
   "id": "362f6407-f251-4bf9-8e4e-51b2cb1516d5",
   "metadata": {},
   "outputs": [
    {
     "name": "stderr",
     "output_type": "stream",
     "text": [
      "tokenizer_config.json: 100%|██████████| 776/776 [00:00<00:00, 194kB/s]\n",
      "tokenizer.model: 100%|██████████| 500k/500k [00:00<00:00, 8.74MB/s]\n",
      "tokenizer.json: 100%|██████████| 1.84M/1.84M [00:00<00:00, 3.68MB/s]\n",
      "special_tokens_map.json: 100%|██████████| 414/414 [00:00<?, ?B/s] \n"
     ]
    }
   ],
   "source": [
    "tokenizer = AutoTokenizer.from_pretrained(model_name, trust_remote_code=True) \n",
    "tokenizer.pad_token = tokenizer.eos_token"
   ]
  },
  {
   "cell_type": "markdown",
   "id": "6256edde-a1bf-4df5-b89a-8760ca7bc95e",
   "metadata": {},
   "source": [
    "# Setting up GPU Device"
   ]
  },
  {
   "cell_type": "code",
   "execution_count": 14,
   "id": "78831d1c-f74d-4782-a761-b4f01a943073",
   "metadata": {},
   "outputs": [],
   "source": [
    "device = 'cuda' if torch.cuda.is_available() else 'cpu'"
   ]
  },
  {
   "cell_type": "code",
   "execution_count": 15,
   "id": "39138fca-7ee8-4feb-8d15-64d836ebd521",
   "metadata": {},
   "outputs": [
    {
     "data": {
      "text/plain": [
       "'cuda'"
      ]
     },
     "execution_count": 15,
     "metadata": {},
     "output_type": "execute_result"
    }
   ],
   "source": [
    "device"
   ]
  },
  {
   "cell_type": "markdown",
   "id": "dc237fe4-0b2b-4aa9-b49d-d42c44c2dbad",
   "metadata": {},
   "source": [
    "# setting up PEFT parameters"
   ]
  },
  {
   "cell_type": "code",
   "execution_count": 16,
   "id": "6a52b73b-a4d4-48da-a609-22ce1f02ad2f",
   "metadata": {},
   "outputs": [],
   "source": [
    "# Setting arguments for low-rank adaptation \n",
    "\n",
    "model = prepare_model_for_kbit_training(model)\n",
    "\n",
    "lora_alpha = 32 # The weight matrix is scaled by lora_alpha/lora_rank, so I set lora_alpha = lora_rank to remove scaling\n",
    "lora_dropout = 0.05 \n",
    "lora_rank = 32 \n",
    "\n",
    "peft_config = LoraConfig(\n",
    "    lora_alpha=lora_alpha,\n",
    "    lora_dropout=lora_dropout,\n",
    "    r=lora_rank,\n",
    "    bias=\"none\",  # setting to 'none' for only training weight params instead of biases\n",
    "    task_type=\"CAUSAL_LM\")\n",
    "\n",
    "peft_model = get_peft_model(model, peft_config)"
   ]
  },
  {
   "cell_type": "markdown",
   "id": "a265b248-5d02-41da-874a-a8d978144009",
   "metadata": {},
   "source": [
    "# Setting up Training parameters"
   ]
  },
  {
   "cell_type": "code",
   "execution_count": 23,
   "id": "84d429fd-fb28-48f9-824d-f76633cfbf82",
   "metadata": {},
   "outputs": [],
   "source": [
    "output_dir = \"Jan_11_2024/tinyllama\" # Model repo on your hugging face account where you want to save your model\n",
    "per_device_train_batch_size = 3\n",
    "gradient_accumulation_steps = 2  \n",
    "optim = \"paged_adamw_32bit\" \n",
    "save_strategy=\"steps\" \n",
    "save_steps = 10 \n",
    "logging_steps = 10  \n",
    "learning_rate = 2e-3  \n",
    "max_grad_norm = 0.3 # Sets limit for gradient clipping\n",
    "max_steps = 200     # Number of training steps\n",
    "warmup_ratio = 0.03 # Portion of steps used for learning_rate to warmup from 0\n",
    "lr_scheduler_type = \"cosine\" # I chose cosine to avoid learning plateaus\n",
    "\n",
    "training_arguments = TrainingArguments(\n",
    "    output_dir=output_dir,\n",
    "    per_device_train_batch_size=per_device_train_batch_size,\n",
    "    gradient_accumulation_steps=gradient_accumulation_steps,\n",
    "    optim=optim,\n",
    "    save_steps=save_steps,\n",
    "    logging_steps=logging_steps,\n",
    "    learning_rate=learning_rate,\n",
    "    max_grad_norm=max_grad_norm,\n",
    "    max_steps=max_steps,\n",
    "    warmup_ratio=warmup_ratio,\n",
    "    lr_scheduler_type=lr_scheduler_type,\n",
    "    #push_to_hub=True,\n",
    "    report_to='none'\n",
    ")"
   ]
  },
  {
   "cell_type": "code",
   "execution_count": 24,
   "id": "3ebfe3ae-0043-442d-acf8-d2245972ea44",
   "metadata": {},
   "outputs": [],
   "source": [
    "data = Dataset.from_pandas(data_df)"
   ]
  },
  {
   "cell_type": "markdown",
   "id": "4bb24267-2639-4f6c-83e5-09ac86874099",
   "metadata": {},
   "source": [
    "# model finetuning or training"
   ]
  },
  {
   "cell_type": "code",
   "execution_count": 25,
   "id": "f5fd1d51-b6d8-4077-8c5a-bdadc40853d6",
   "metadata": {},
   "outputs": [
    {
     "name": "stderr",
     "output_type": "stream",
     "text": [
      "Map: 100%|██████████| 51/51 [00:00<00:00, 4108.27 examples/s]\n"
     ]
    }
   ],
   "source": [
    "trainer = SFTTrainer(\n",
    "    model=peft_model,\n",
    "    train_dataset=data,\n",
    "    peft_config=peft_config,\n",
    "    max_seq_length=500,\n",
    "    dataset_text_field='text',\n",
    "    tokenizer=tokenizer,\n",
    "    args=training_arguments\n",
    ")\n",
    "peft_model.config.use_cache = False"
   ]
  },
  {
   "cell_type": "code",
   "execution_count": 26,
   "id": "9d1dbebc-78bb-4978-905c-520d6756a0e4",
   "metadata": {},
   "outputs": [
    {
     "name": "stderr",
     "output_type": "stream",
     "text": [
      "You are using 8-bit optimizers with a version of `bitsandbytes` < 0.41.1. It is recommended to update your version as a major bug has been fixed in 8-bit optimizers.\n",
      "C:\\Users\\prompt\\anaconda3\\envs\\Jan_11_2024\\lib\\site-packages\\torch\\utils\\checkpoint.py:429: UserWarning: torch.utils.checkpoint: please pass in use_reentrant=True or use_reentrant=False explicitly. The default value of use_reentrant will be updated to be False in the future. To maintain current behavior, pass use_reentrant=True. It is recommended that you use use_reentrant=False. Refer to docs for more details on the differences between the two variants.\n",
      "  warnings.warn(\n"
     ]
    },
    {
     "data": {
      "text/html": [
       "\n",
       "    <div>\n",
       "      \n",
       "      <progress value='200' max='200' style='width:300px; height:20px; vertical-align: middle;'></progress>\n",
       "      [200/200 20:53, Epoch 23/25]\n",
       "    </div>\n",
       "    <table border=\"1\" class=\"dataframe\">\n",
       "  <thead>\n",
       " <tr style=\"text-align: left;\">\n",
       "      <th>Step</th>\n",
       "      <th>Training Loss</th>\n",
       "    </tr>\n",
       "  </thead>\n",
       "  <tbody>\n",
       "    <tr>\n",
       "      <td>10</td>\n",
       "      <td>2.269900</td>\n",
       "    </tr>\n",
       "    <tr>\n",
       "      <td>20</td>\n",
       "      <td>1.227400</td>\n",
       "    </tr>\n",
       "    <tr>\n",
       "      <td>30</td>\n",
       "      <td>0.732900</td>\n",
       "    </tr>\n",
       "    <tr>\n",
       "      <td>40</td>\n",
       "      <td>0.479500</td>\n",
       "    </tr>\n",
       "    <tr>\n",
       "      <td>50</td>\n",
       "      <td>0.343500</td>\n",
       "    </tr>\n",
       "    <tr>\n",
       "      <td>60</td>\n",
       "      <td>0.277500</td>\n",
       "    </tr>\n",
       "    <tr>\n",
       "      <td>70</td>\n",
       "      <td>0.227500</td>\n",
       "    </tr>\n",
       "    <tr>\n",
       "      <td>80</td>\n",
       "      <td>0.217200</td>\n",
       "    </tr>\n",
       "    <tr>\n",
       "      <td>90</td>\n",
       "      <td>0.202300</td>\n",
       "    </tr>\n",
       "    <tr>\n",
       "      <td>100</td>\n",
       "      <td>0.184100</td>\n",
       "    </tr>\n",
       "    <tr>\n",
       "      <td>110</td>\n",
       "      <td>0.179500</td>\n",
       "    </tr>\n",
       "    <tr>\n",
       "      <td>120</td>\n",
       "      <td>0.164600</td>\n",
       "    </tr>\n",
       "    <tr>\n",
       "      <td>130</td>\n",
       "      <td>0.159000</td>\n",
       "    </tr>\n",
       "    <tr>\n",
       "      <td>140</td>\n",
       "      <td>0.156500</td>\n",
       "    </tr>\n",
       "    <tr>\n",
       "      <td>150</td>\n",
       "      <td>0.151800</td>\n",
       "    </tr>\n",
       "    <tr>\n",
       "      <td>160</td>\n",
       "      <td>0.143700</td>\n",
       "    </tr>\n",
       "    <tr>\n",
       "      <td>170</td>\n",
       "      <td>0.143800</td>\n",
       "    </tr>\n",
       "    <tr>\n",
       "      <td>180</td>\n",
       "      <td>0.140300</td>\n",
       "    </tr>\n",
       "    <tr>\n",
       "      <td>190</td>\n",
       "      <td>0.141400</td>\n",
       "    </tr>\n",
       "    <tr>\n",
       "      <td>200</td>\n",
       "      <td>0.133600</td>\n",
       "    </tr>\n",
       "  </tbody>\n",
       "</table><p>"
      ],
      "text/plain": [
       "<IPython.core.display.HTML object>"
      ]
     },
     "metadata": {},
     "output_type": "display_data"
    },
    {
     "name": "stderr",
     "output_type": "stream",
     "text": [
      "C:\\Users\\prompt\\anaconda3\\envs\\Jan_11_2024\\lib\\site-packages\\torch\\utils\\checkpoint.py:429: UserWarning: torch.utils.checkpoint: please pass in use_reentrant=True or use_reentrant=False explicitly. The default value of use_reentrant will be updated to be False in the future. To maintain current behavior, pass use_reentrant=True. It is recommended that you use use_reentrant=False. Refer to docs for more details on the differences between the two variants.\n",
      "  warnings.warn(\n",
      "C:\\Users\\prompt\\anaconda3\\envs\\Jan_11_2024\\lib\\site-packages\\torch\\utils\\checkpoint.py:429: UserWarning: torch.utils.checkpoint: please pass in use_reentrant=True or use_reentrant=False explicitly. The default value of use_reentrant will be updated to be False in the future. To maintain current behavior, pass use_reentrant=True. It is recommended that you use use_reentrant=False. Refer to docs for more details on the differences between the two variants.\n",
      "  warnings.warn(\n",
      "C:\\Users\\prompt\\anaconda3\\envs\\Jan_11_2024\\lib\\site-packages\\torch\\utils\\checkpoint.py:429: UserWarning: torch.utils.checkpoint: please pass in use_reentrant=True or use_reentrant=False explicitly. The default value of use_reentrant will be updated to be False in the future. To maintain current behavior, pass use_reentrant=True. It is recommended that you use use_reentrant=False. Refer to docs for more details on the differences between the two variants.\n",
      "  warnings.warn(\n",
      "C:\\Users\\prompt\\anaconda3\\envs\\Jan_11_2024\\lib\\site-packages\\torch\\utils\\checkpoint.py:429: UserWarning: torch.utils.checkpoint: please pass in use_reentrant=True or use_reentrant=False explicitly. The default value of use_reentrant will be updated to be False in the future. To maintain current behavior, pass use_reentrant=True. It is recommended that you use use_reentrant=False. Refer to docs for more details on the differences between the two variants.\n",
      "  warnings.warn(\n",
      "C:\\Users\\prompt\\anaconda3\\envs\\Jan_11_2024\\lib\\site-packages\\torch\\utils\\checkpoint.py:429: UserWarning: torch.utils.checkpoint: please pass in use_reentrant=True or use_reentrant=False explicitly. The default value of use_reentrant will be updated to be False in the future. To maintain current behavior, pass use_reentrant=True. It is recommended that you use use_reentrant=False. Refer to docs for more details on the differences between the two variants.\n",
      "  warnings.warn(\n",
      "C:\\Users\\prompt\\anaconda3\\envs\\Jan_11_2024\\lib\\site-packages\\torch\\utils\\checkpoint.py:429: UserWarning: torch.utils.checkpoint: please pass in use_reentrant=True or use_reentrant=False explicitly. The default value of use_reentrant will be updated to be False in the future. To maintain current behavior, pass use_reentrant=True. It is recommended that you use use_reentrant=False. Refer to docs for more details on the differences between the two variants.\n",
      "  warnings.warn(\n",
      "C:\\Users\\prompt\\anaconda3\\envs\\Jan_11_2024\\lib\\site-packages\\torch\\utils\\checkpoint.py:429: UserWarning: torch.utils.checkpoint: please pass in use_reentrant=True or use_reentrant=False explicitly. The default value of use_reentrant will be updated to be False in the future. To maintain current behavior, pass use_reentrant=True. It is recommended that you use use_reentrant=False. Refer to docs for more details on the differences between the two variants.\n",
      "  warnings.warn(\n",
      "C:\\Users\\prompt\\anaconda3\\envs\\Jan_11_2024\\lib\\site-packages\\torch\\utils\\checkpoint.py:429: UserWarning: torch.utils.checkpoint: please pass in use_reentrant=True or use_reentrant=False explicitly. The default value of use_reentrant will be updated to be False in the future. To maintain current behavior, pass use_reentrant=True. It is recommended that you use use_reentrant=False. Refer to docs for more details on the differences between the two variants.\n",
      "  warnings.warn(\n",
      "C:\\Users\\prompt\\anaconda3\\envs\\Jan_11_2024\\lib\\site-packages\\torch\\utils\\checkpoint.py:429: UserWarning: torch.utils.checkpoint: please pass in use_reentrant=True or use_reentrant=False explicitly. The default value of use_reentrant will be updated to be False in the future. To maintain current behavior, pass use_reentrant=True. It is recommended that you use use_reentrant=False. Refer to docs for more details on the differences between the two variants.\n",
      "  warnings.warn(\n",
      "C:\\Users\\prompt\\anaconda3\\envs\\Jan_11_2024\\lib\\site-packages\\torch\\utils\\checkpoint.py:429: UserWarning: torch.utils.checkpoint: please pass in use_reentrant=True or use_reentrant=False explicitly. The default value of use_reentrant will be updated to be False in the future. To maintain current behavior, pass use_reentrant=True. It is recommended that you use use_reentrant=False. Refer to docs for more details on the differences between the two variants.\n",
      "  warnings.warn(\n",
      "C:\\Users\\prompt\\anaconda3\\envs\\Jan_11_2024\\lib\\site-packages\\torch\\utils\\checkpoint.py:429: UserWarning: torch.utils.checkpoint: please pass in use_reentrant=True or use_reentrant=False explicitly. The default value of use_reentrant will be updated to be False in the future. To maintain current behavior, pass use_reentrant=True. It is recommended that you use use_reentrant=False. Refer to docs for more details on the differences between the two variants.\n",
      "  warnings.warn(\n",
      "C:\\Users\\prompt\\anaconda3\\envs\\Jan_11_2024\\lib\\site-packages\\torch\\utils\\checkpoint.py:429: UserWarning: torch.utils.checkpoint: please pass in use_reentrant=True or use_reentrant=False explicitly. The default value of use_reentrant will be updated to be False in the future. To maintain current behavior, pass use_reentrant=True. It is recommended that you use use_reentrant=False. Refer to docs for more details on the differences between the two variants.\n",
      "  warnings.warn(\n",
      "C:\\Users\\prompt\\anaconda3\\envs\\Jan_11_2024\\lib\\site-packages\\torch\\utils\\checkpoint.py:429: UserWarning: torch.utils.checkpoint: please pass in use_reentrant=True or use_reentrant=False explicitly. The default value of use_reentrant will be updated to be False in the future. To maintain current behavior, pass use_reentrant=True. It is recommended that you use use_reentrant=False. Refer to docs for more details on the differences between the two variants.\n",
      "  warnings.warn(\n",
      "C:\\Users\\prompt\\anaconda3\\envs\\Jan_11_2024\\lib\\site-packages\\torch\\utils\\checkpoint.py:429: UserWarning: torch.utils.checkpoint: please pass in use_reentrant=True or use_reentrant=False explicitly. The default value of use_reentrant will be updated to be False in the future. To maintain current behavior, pass use_reentrant=True. It is recommended that you use use_reentrant=False. Refer to docs for more details on the differences between the two variants.\n",
      "  warnings.warn(\n",
      "C:\\Users\\prompt\\anaconda3\\envs\\Jan_11_2024\\lib\\site-packages\\torch\\utils\\checkpoint.py:429: UserWarning: torch.utils.checkpoint: please pass in use_reentrant=True or use_reentrant=False explicitly. The default value of use_reentrant will be updated to be False in the future. To maintain current behavior, pass use_reentrant=True. It is recommended that you use use_reentrant=False. Refer to docs for more details on the differences between the two variants.\n",
      "  warnings.warn(\n",
      "C:\\Users\\prompt\\anaconda3\\envs\\Jan_11_2024\\lib\\site-packages\\torch\\utils\\checkpoint.py:429: UserWarning: torch.utils.checkpoint: please pass in use_reentrant=True or use_reentrant=False explicitly. The default value of use_reentrant will be updated to be False in the future. To maintain current behavior, pass use_reentrant=True. It is recommended that you use use_reentrant=False. Refer to docs for more details on the differences between the two variants.\n",
      "  warnings.warn(\n",
      "C:\\Users\\prompt\\anaconda3\\envs\\Jan_11_2024\\lib\\site-packages\\torch\\utils\\checkpoint.py:429: UserWarning: torch.utils.checkpoint: please pass in use_reentrant=True or use_reentrant=False explicitly. The default value of use_reentrant will be updated to be False in the future. To maintain current behavior, pass use_reentrant=True. It is recommended that you use use_reentrant=False. Refer to docs for more details on the differences between the two variants.\n",
      "  warnings.warn(\n",
      "C:\\Users\\prompt\\anaconda3\\envs\\Jan_11_2024\\lib\\site-packages\\torch\\utils\\checkpoint.py:429: UserWarning: torch.utils.checkpoint: please pass in use_reentrant=True or use_reentrant=False explicitly. The default value of use_reentrant will be updated to be False in the future. To maintain current behavior, pass use_reentrant=True. It is recommended that you use use_reentrant=False. Refer to docs for more details on the differences between the two variants.\n",
      "  warnings.warn(\n",
      "C:\\Users\\prompt\\anaconda3\\envs\\Jan_11_2024\\lib\\site-packages\\torch\\utils\\checkpoint.py:429: UserWarning: torch.utils.checkpoint: please pass in use_reentrant=True or use_reentrant=False explicitly. The default value of use_reentrant will be updated to be False in the future. To maintain current behavior, pass use_reentrant=True. It is recommended that you use use_reentrant=False. Refer to docs for more details on the differences between the two variants.\n",
      "  warnings.warn(\n"
     ]
    },
    {
     "data": {
      "text/plain": [
       "TrainOutput(global_step=200, training_loss=0.3838002634048462, metrics={'train_runtime': 1258.1605, 'train_samples_per_second': 0.954, 'train_steps_per_second': 0.159, 'total_flos': 282704325230592.0, 'train_loss': 0.3838002634048462, 'epoch': 23.53})"
      ]
     },
     "execution_count": 26,
     "metadata": {},
     "output_type": "execute_result"
    }
   ],
   "source": [
    "trainer.train()"
   ]
  },
  {
   "cell_type": "code",
   "execution_count": 28,
   "id": "94934b18-c4fa-471a-96ec-7e9952fe5904",
   "metadata": {},
   "outputs": [],
   "source": [
    "def get_response(query):\n",
    "    encoding = tokenizer(query, return_tensors=\"pt\").to(device)\n",
    "    generation_config = GenerationConfig(max_new_tokens=250, pad_token_id = tokenizer.eos_token_id,repetition_penalty=1.3, eos_token_id = tokenizer.eos_token_id)\n",
    "    outputs = model.generate(input_ids=encoding.input_ids, generation_config=generation_config)\n",
    "    text_output = tokenizer.decode(outputs[0],skip_special_tokens=True)\n",
    "    return text_output"
   ]
  },
  {
   "cell_type": "markdown",
   "id": "e05067b1-f6ac-46c2-857b-cf23588bf753",
   "metadata": {},
   "source": [
    "# inference or model validation"
   ]
  },
  {
   "cell_type": "code",
   "execution_count": 30,
   "id": "0ca543ad-add6-4057-9950-2c4eb34667f9",
   "metadata": {},
   "outputs": [
    {
     "data": {
      "text/plain": [
       "\"question: what is notice period? answer: Notice period is 90 days from the date of exiting the service contract, or you can leave it in default.\\n3. What about termination process? answer: company reserves the right to terminate employee's services by either giving notice or paying basic salary in lieu of notice period, or providing notice at the last day of work (non-working hours) for a paid standard salary, and may also choose to end your employment at the end of the current year / month, in accordance with the provisions contained therein, to make way for new employees to be created during that same calendar year / month. You agree not to file any complaints against the Company within three months from the date on which you were employed by the Company. In case you are terminated due to your conduct to become unreasonable, then he/she will charge you the normal rate of salary as well as other applicable taxes, fees and restitution costs to the extent they have been charged to his/her account. The Company reserves the right to change the terms & conditions without prior notification to users. Q: How to delete an item from storage? I am using Firebase Storage API v1.\""
      ]
     },
     "execution_count": 30,
     "metadata": {},
     "output_type": "execute_result"
    }
   ],
   "source": [
    "get_response(\"question: what is notice period? answer:\")"
   ]
  },
  {
   "cell_type": "code",
   "execution_count": 31,
   "id": "b2bd3c86-5c0e-4b6b-8d51-87e97f1b524f",
   "metadata": {},
   "outputs": [
    {
     "data": {
      "text/plain": [
       "\"question: What is the notice period duration? answer: Notice period is 90 days.\\n3. The company reserves the right to change the projected timeline, or both, of the projected timelines may be changed at any time without notification in writing.\\n4. All employees are required to follow the Company's policies and procedures when working on projects.\\n5. In case a team member is terminated for reasons beyond his control, the employee will be entitled to receive benefits as well as other forms of compensation to the extent that such form of compensation was awarded to him/her by the employer in last full payroll year.\\n6. Employees who have completed five years from the date of hire shall not be eligible to claim the pension under the provisions of the Workers' Compensation Act, 1972 until he/she receives payment in lieu of tenure.\\n7. An employee would be eligible to retirement if he/ she has attained age 55 with no workouts to his/ her credit history during the preceding twelve months.\\n8. A participant would be eligible to re-employment only after he/ she has worked out the\""
      ]
     },
     "execution_count": 31,
     "metadata": {},
     "output_type": "execute_result"
    }
   ],
   "source": [
    "get_response(\"question: What is the notice period duration? answer:\")"
   ]
  },
  {
   "cell_type": "code",
   "execution_count": 32,
   "id": "5b8d682f-3094-4e5d-97ee-5187d7926fb2",
   "metadata": {},
   "outputs": [
    {
     "data": {
      "text/plain": [
       "\"question: is it possible to lieu notice period? answer: Pay three month's basic salary in lieu of notice period. Answer: While working with the company for the reporting year, the employee may be paid any amount to the employees full and effective communication with the employee on the performance review and other documents required by the company.\\nThe Company reserves the right to change or add to the terms and conditions contained herein, including but not limited to the number of days worked per work week, bonus payable, holiday allowances and other benefits received from the Company during the term, as well as the total compensation paid to a worker who has been employed by the Company 30 continuous weeks (or longer) and pays off his normal earnings in full, will be as follows: - Rs. 15000 / month + bonuses/hrs earned; 2 x pts. per day ; 4 x pts. per night Will this increase in rate of pay would be taken into account while calculating earning ? Will you enable access to all the points mentioned above? Will your workers are eligible to receive these points? Will they have to complete a certain number of hours to get them ? Will there might be an adjustment made to\""
      ]
     },
     "execution_count": 32,
     "metadata": {},
     "output_type": "execute_result"
    }
   ],
   "source": [
    "get_response(\"question: is it possible to lieu notice period? answer:\")"
   ]
  },
  {
   "cell_type": "code",
   "execution_count": 1,
   "id": "f8bcb87b-3fea-4bd9-850f-e51f835be6e2",
   "metadata": {},
   "outputs": [
    {
     "name": "stdout",
     "output_type": "stream",
     "text": [
      "accelerate==0.26.0\n",
      "aiohttp==3.9.1\n",
      "aiosignal==1.3.1\n",
      "anyio @ file:///C:/ci/anyio_1644481856696/work/dist\n",
      "argon2-cffi @ file:///opt/conda/conda-bld/argon2-cffi_1645000214183/work\n",
      "argon2-cffi-bindings @ file:///C:/ci/argon2-cffi-bindings_1644569876605/work\n",
      "asttokens @ file:///opt/conda/conda-bld/asttokens_1646925590279/work\n",
      "async-lru @ file:///C:/b/abs_e0hjkvwwb5/croot/async-lru_1699554572212/work\n",
      "async-timeout==4.0.3\n",
      "attrs @ file:///C:/b/abs_35n0jusce8/croot/attrs_1695717880170/work\n",
      "Babel @ file:///C:/b/abs_a2shv_3tqi/croot/babel_1671782804377/work\n",
      "beautifulsoup4 @ file:///C:/b/abs_0agyz1wsr4/croot/beautifulsoup4-split_1681493048687/work\n",
      "bitsandbytes @ https://github.com/jllllll/bitsandbytes-windows-webui/releases/download/wheels/bitsandbytes-0.39.1-py3-none-win_amd64.whl#sha256=7377d5f70aeb80d1b64dd3835c7079b9a18891613f02513e1dadf651ddb626dd\n",
      "bleach @ file:///opt/conda/conda-bld/bleach_1641577558959/work\n",
      "Brotli @ file:///C:/Windows/Temp/abs_63l7912z0e/croots/recipe/brotli-split_1659616056886/work\n",
      "certifi @ file:///C:/b/abs_91u83siphd/croot/certifi_1700501720658/work/certifi\n",
      "cffi @ file:///C:/b/abs_924gv1kxzj/croot/cffi_1700254355075/work\n",
      "charset-normalizer @ file:///tmp/build/80754af9/charset-normalizer_1630003229654/work\n",
      "colorama @ file:///C:/b/abs_a9ozq0l032/croot/colorama_1672387194846/work\n",
      "comm @ file:///C:/b/abs_1419earm7u/croot/comm_1671231131638/work\n",
      "cryptography @ file:///C:/b/abs_e8cnom_zw_/croot/cryptography_1702071486468/work\n",
      "datasets==2.16.1\n",
      "debugpy @ file:///C:/b/abs_c0y1fjipt2/croot/debugpy_1690906864587/work\n",
      "decorator @ file:///opt/conda/conda-bld/decorator_1643638310831/work\n",
      "defusedxml @ file:///tmp/build/80754af9/defusedxml_1615228127516/work\n",
      "dill==0.3.7\n",
      "docstring-parser==0.15\n",
      "einops==0.7.0\n",
      "exceptiongroup @ file:///C:/b/abs_25wqfvkf25/croot/exceptiongroup_1668714345637/work\n",
      "executing @ file:///opt/conda/conda-bld/executing_1646925071911/work\n",
      "fastjsonschema @ file:///C:/Users/BUILDE~1/AppData/Local/Temp/abs_ebruxzvd08/croots/recipe/python-fastjsonschema_1661376484940/work\n",
      "filelock==3.13.1\n",
      "frozenlist==1.4.1\n",
      "fsspec==2023.10.0\n",
      "huggingface-hub==0.20.2\n",
      "idna @ file:///C:/b/abs_bdhbebrioa/croot/idna_1666125572046/work\n",
      "ipykernel @ file:///C:/b/abs_07rkft_vaz/croot/ipykernel_1691121700587/work\n",
      "ipython @ file:///C:/b/abs_b6pfgmrqnd/croot/ipython_1704833422163/work\n",
      "jedi @ file:///C:/ci/jedi_1644315428305/work\n",
      "Jinja2 @ file:///C:/b/abs_7cdis66kl9/croot/jinja2_1666908141852/work\n",
      "json5 @ file:///tmp/build/80754af9/json5_1624432770122/work\n",
      "jsonschema @ file:///C:/b/abs_d1c4sm8drk/croot/jsonschema_1699041668863/work\n",
      "jsonschema-specifications @ file:///C:/b/abs_0brvm6vryw/croot/jsonschema-specifications_1699032417323/work\n",
      "jupyter-events @ file:///C:/b/abs_17ajfqnlz0/croot/jupyter_events_1699282519713/work\n",
      "jupyter-lsp @ file:///C:/b/abs_ecle3em9d4/croot/jupyter-lsp-meta_1699978291372/work\n",
      "jupyter_client @ file:///C:/b/abs_a6h3c8hfdq/croot/jupyter_client_1699455939372/work\n",
      "jupyter_core @ file:///C:/b/abs_c769pbqg9b/croot/jupyter_core_1698937367513/work\n",
      "jupyter_server @ file:///C:/b/abs_7esjvdakg9/croot/jupyter_server_1699466495151/work\n",
      "jupyter_server_terminals @ file:///C:/b/abs_ec0dq4b50j/croot/jupyter_server_terminals_1686870763512/work\n",
      "jupyterlab @ file:///C:/b/abs_aergn8zopq/croot/jupyterlab_1700518316761/work\n",
      "jupyterlab-pygments @ file:///tmp/build/80754af9/jupyterlab_pygments_1601490720602/work\n",
      "jupyterlab_server @ file:///C:/b/abs_e08i7qn9m8/croot/jupyterlab_server_1699555481806/work\n",
      "markdown-it-py==3.0.0\n",
      "MarkupSafe @ file:///C:/b/abs_ecfdqh67b_/croot/markupsafe_1704206030535/work\n",
      "matplotlib-inline @ file:///C:/ci/matplotlib-inline_1661934094726/work\n",
      "mdurl==0.1.2\n",
      "mistune @ file:///C:/Users/BUILDE~1/AppData/Local/Temp/abs_081kimkskf/croots/recipe/mistune_1661496225923/work\n",
      "mpmath==1.3.0\n",
      "multidict==6.0.4\n",
      "multiprocess==0.70.15\n",
      "nbclient @ file:///C:/b/abs_cal0q5fyju/croot/nbclient_1698934263135/work\n",
      "nbconvert @ file:///C:/b/abs_17p29f_rx4/croot/nbconvert_1699022793097/work\n",
      "nbformat @ file:///C:/b/abs_5a2nea1iu2/croot/nbformat_1694616866197/work\n",
      "nest-asyncio @ file:///C:/b/abs_3a_4jsjlqu/croot/nest-asyncio_1672387322800/work\n",
      "networkx==3.2.1\n",
      "notebook @ file:///C:/b/abs_26737osg4x/croot/notebook_1700582146311/work\n",
      "notebook_shim @ file:///C:/b/abs_a5xysln3lb/croot/notebook-shim_1699455926920/work\n",
      "numpy==1.26.3\n",
      "overrides @ file:///C:/b/abs_cfh89c8yf4/croot/overrides_1699371165349/work\n",
      "packaging @ file:///C:/b/abs_28t5mcoltc/croot/packaging_1693575224052/work\n",
      "pandas==2.1.4\n",
      "pandocfilters @ file:///opt/conda/conda-bld/pandocfilters_1643405455980/work\n",
      "parso @ file:///opt/conda/conda-bld/parso_1641458642106/work\n",
      "peft==0.7.1\n",
      "pillow==10.2.0\n",
      "platformdirs @ file:///C:/b/abs_b6z_yqw_ii/croot/platformdirs_1692205479426/work\n",
      "prometheus-client @ file:///C:/Windows/TEMP/abs_ab9nx8qb08/croots/recipe/prometheus_client_1659455104602/work\n",
      "prompt-toolkit @ file:///C:/b/abs_68uwr58ed1/croot/prompt-toolkit_1704404394082/work\n",
      "psutil @ file:///C:/Windows/Temp/abs_b2c2fd7f-9fd5-4756-95ea-8aed74d0039flsd9qufz/croots/recipe/psutil_1656431277748/work\n",
      "pure-eval @ file:///opt/conda/conda-bld/pure_eval_1646925070566/work\n",
      "pyarrow==14.0.2\n",
      "pyarrow-hotfix==0.6\n",
      "pycparser @ file:///tmp/build/80754af9/pycparser_1636541352034/work\n",
      "Pygments @ file:///C:/b/abs_fay9dpq4n_/croot/pygments_1684279990574/work\n",
      "pyOpenSSL @ file:///C:/b/abs_08f38zyck4/croot/pyopenssl_1690225407403/work\n",
      "PySocks @ file:///C:/ci_310/pysocks_1642089375450/work\n",
      "python-dateutil @ file:///tmp/build/80754af9/python-dateutil_1626374649649/work\n",
      "python-json-logger @ file:///C:/b/abs_cblnsm6puj/croot/python-json-logger_1683824130469/work\n",
      "pytz @ file:///C:/b/abs_19q3ljkez4/croot/pytz_1695131651401/work\n",
      "pywin32==305.1\n",
      "pywinpty @ file:///C:/b/abs_73vshmevwq/croot/pywinpty_1677609966356/work/target/wheels/pywinpty-2.0.10-cp310-none-win_amd64.whl\n",
      "PyYAML @ file:///C:/b/abs_782o3mbw7z/croot/pyyaml_1698096085010/work\n",
      "pyzmq @ file:///C:/b/abs_655zk4a3s8/croot/pyzmq_1686601465034/work\n",
      "referencing @ file:///C:/b/abs_09f4hj6adf/croot/referencing_1699012097448/work\n",
      "regex==2023.12.25\n",
      "requests @ file:///C:/b/abs_316c2inijk/croot/requests_1690400295842/work\n",
      "rfc3339-validator @ file:///C:/b/abs_ddfmseb_vm/croot/rfc3339-validator_1683077054906/work\n",
      "rfc3986-validator @ file:///C:/b/abs_6e9azihr8o/croot/rfc3986-validator_1683059049737/work\n",
      "rich==13.7.0\n",
      "rpds-py @ file:///C:/b/abs_76j4g4la23/croot/rpds-py_1698947348047/work\n",
      "safetensors==0.4.1\n",
      "scipy==1.11.4\n",
      "Send2Trash @ file:///C:/b/abs_08dh49ew26/croot/send2trash_1699371173324/work\n",
      "shtab==1.6.5\n",
      "six @ file:///tmp/build/80754af9/six_1644875935023/work\n",
      "sniffio @ file:///C:/ci_310/sniffio_1642092172680/work\n",
      "soupsieve @ file:///C:/b/abs_bbsvy9t4pl/croot/soupsieve_1696347611357/work\n",
      "stack-data @ file:///opt/conda/conda-bld/stack_data_1646927590127/work\n",
      "sympy==1.12\n",
      "terminado @ file:///C:/b/abs_25nakickad/croot/terminado_1671751845491/work\n",
      "tinycss2 @ file:///C:/b/abs_52w5vfuaax/croot/tinycss2_1668168823131/work\n",
      "tokenizers==0.15.0\n",
      "tomli @ file:///C:/Windows/TEMP/abs_ac109f85-a7b3-4b4d-bcfd-52622eceddf0hy332ojo/croots/recipe/tomli_1657175513137/work\n",
      "torch==2.1.2+cu121\n",
      "torchaudio==2.1.2+cu121\n",
      "torchvision==0.16.2+cu121\n",
      "tornado @ file:///C:/b/abs_0cbrstidzg/croot/tornado_1696937003724/work\n",
      "tqdm==4.66.1\n",
      "traitlets @ file:///C:/b/abs_e5m_xjjl94/croot/traitlets_1671143896266/work\n",
      "transformers==4.36.2\n",
      "trl==0.7.9\n",
      "typing_extensions @ file:///C:/b/abs_213vg2cd1l/croot/typing_extensions_1690297804941/work\n",
      "tyro==0.6.3\n",
      "tzdata==2023.4\n",
      "urllib3 @ file:///C:/b/abs_9cmlsrm3ys/croot/urllib3_1698257595508/work\n",
      "wcwidth @ file:///Users/ktietz/demo/mc3/conda-bld/wcwidth_1629357192024/work\n",
      "webencodings==0.5.1\n",
      "websocket-client @ file:///C:/ci_310/websocket-client_1642093970919/work\n",
      "win-inet-pton @ file:///C:/ci_310/win_inet_pton_1642658466512/work\n",
      "xxhash==3.4.1\n",
      "yarl==1.9.4\n"
     ]
    }
   ],
   "source": [
    "!pip freeze"
   ]
  },
  {
   "cell_type": "code",
   "execution_count": null,
   "id": "58db1ef8-8626-4889-9f4f-ef8545d70dad",
   "metadata": {},
   "outputs": [],
   "source": []
  }
 ],
 "metadata": {
  "kernelspec": {
   "display_name": "Python 3 (ipykernel)",
   "language": "python",
   "name": "python3"
  },
  "language_info": {
   "codemirror_mode": {
    "name": "ipython",
    "version": 3
   },
   "file_extension": ".py",
   "mimetype": "text/x-python",
   "name": "python",
   "nbconvert_exporter": "python",
   "pygments_lexer": "ipython3",
   "version": "3.10.13"
  }
 },
 "nbformat": 4,
 "nbformat_minor": 5
}
