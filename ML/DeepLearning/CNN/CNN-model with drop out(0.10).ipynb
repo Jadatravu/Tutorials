{
 "cells": [
  {
   "cell_type": "code",
   "execution_count": 1,
   "metadata": {},
   "outputs": [
    {
     "name": "stderr",
     "output_type": "stream",
     "text": [
      "Using TensorFlow backend.\n"
     ]
    }
   ],
   "source": [
    "import keras"
   ]
  },
  {
   "cell_type": "code",
   "execution_count": 2,
   "metadata": {
    "collapsed": true
   },
   "outputs": [],
   "source": [
    "from keras.models import Sequential\n",
    "from keras.layers import Conv2D\n",
    "from keras.layers import MaxPooling2D\n",
    "from keras.layers import Flatten\n",
    "from keras.layers import Dense\n",
    "from keras.layers import Dropout"
   ]
  },
  {
   "cell_type": "code",
   "execution_count": 3,
   "metadata": {
    "collapsed": true
   },
   "outputs": [],
   "source": [
    "# Initialising the CNN\n",
    "classifier = Sequential()\n",
    "\n",
    "# Step 1 - Convolution\n",
    "classifier.add(Conv2D(32, (3, 3), input_shape = (64, 64, 3), activation = 'relu'))\n",
    "\n",
    "# Step 2 - Pooling\n",
    "classifier.add(MaxPooling2D(pool_size = (2, 2)))\n",
    "classifier.add(Dropout(0.10))\n",
    "\n",
    "# Adding a second convolutional layer\n",
    "classifier.add(Conv2D(32, (3, 3), activation = 'relu'))\n",
    "classifier.add(MaxPooling2D(pool_size = (2, 2)))\n",
    "classifier.add(Dropout(0.10))\n",
    "\n",
    "# Step 3 - Flattening\n",
    "classifier.add(Flatten())\n",
    "\n",
    "# Step 4 - Full connection\n",
    "classifier.add(Dense(units = 128, activation = 'relu'))\n",
    "classifier.add(Dense(units = 1, activation = 'sigmoid'))\n",
    "\n",
    "# Compiling the CNN\n",
    "classifier.compile(optimizer = 'adam', loss = 'binary_crossentropy', metrics = ['accuracy'])\n"
   ]
  },
  {
   "cell_type": "code",
   "execution_count": 4,
   "metadata": {
    "collapsed": true
   },
   "outputs": [],
   "source": [
    "from keras.preprocessing.image import ImageDataGenerator\n",
    "\n",
    "train_datagen = ImageDataGenerator(rescale = 1./255,\n",
    "                                   shear_range = 0.2,\n",
    "                                   zoom_range = 0.2,\n",
    "                                   horizontal_flip = True)\n",
    "\n",
    "test_datagen = ImageDataGenerator(rescale = 1./255)\n"
   ]
  },
  {
   "cell_type": "code",
   "execution_count": 5,
   "metadata": {},
   "outputs": [
    {
     "name": "stdout",
     "output_type": "stream",
     "text": [
      "Found 120 images belonging to 2 classes.\n"
     ]
    }
   ],
   "source": [
    "training_set = train_datagen.flow_from_directory('/Users/GGS/Desktop/25Nov18/ML/images_data/Train',\n",
    "                                                 target_size = (64, 64),\n",
    "                                                 batch_size = 32,\n",
    "                                                 class_mode = 'binary')\n"
   ]
  },
  {
   "cell_type": "code",
   "execution_count": 6,
   "metadata": {},
   "outputs": [
    {
     "name": "stdout",
     "output_type": "stream",
     "text": [
      "Found 13 images belonging to 2 classes.\n"
     ]
    }
   ],
   "source": [
    "test_set = test_datagen.flow_from_directory('/Users/GGS/Desktop/25Nov18/ML/images_data/Test',\n",
    "                                            target_size = (64, 64),\n",
    "                                            batch_size = 32,\n",
    "                                            class_mode = 'binary')"
   ]
  },
  {
   "cell_type": "code",
   "execution_count": 7,
   "metadata": {},
   "outputs": [
    {
     "name": "stdout",
     "output_type": "stream",
     "text": [
      "Epoch 1/20\n",
      "80/80 [==============================] - 33s 413ms/step - loss: 0.4585 - acc: 0.7562 - val_loss: 0.4721 - val_acc: 0.7692\n",
      "Epoch 2/20\n",
      "80/80 [==============================] - 30s 378ms/step - loss: 0.1264 - acc: 0.9564 - val_loss: 0.6068 - val_acc: 0.7692\n",
      "Epoch 3/20\n",
      "80/80 [==============================] - 30s 378ms/step - loss: 0.0322 - acc: 0.9939 - val_loss: 1.0292 - val_acc: 0.7692\n",
      "Epoch 4/20\n",
      "80/80 [==============================] - 30s 379ms/step - loss: 0.0069 - acc: 1.0000 - val_loss: 0.8955 - val_acc: 0.7692\n",
      "Epoch 5/20\n",
      "80/80 [==============================] - 31s 383ms/step - loss: 0.0064 - acc: 0.9996 - val_loss: 1.0046 - val_acc: 0.7692\n",
      "Epoch 6/20\n",
      "80/80 [==============================] - 30s 378ms/step - loss: 0.0227 - acc: 0.9921 - val_loss: 1.5117 - val_acc: 0.7692\n",
      "Epoch 7/20\n",
      "80/80 [==============================] - 30s 380ms/step - loss: 0.0142 - acc: 0.9964 - val_loss: 0.6013 - val_acc: 0.7692\n",
      "Epoch 8/20\n",
      "80/80 [==============================] - 30s 378ms/step - loss: 0.0015 - acc: 1.0000 - val_loss: 0.9353 - val_acc: 0.7692\n",
      "Epoch 9/20\n",
      "80/80 [==============================] - 30s 378ms/step - loss: 0.0013 - acc: 1.0000 - val_loss: 0.8833 - val_acc: 0.7692\n",
      "Epoch 10/20\n",
      "80/80 [==============================] - 30s 379ms/step - loss: 0.0062 - acc: 0.9980 - val_loss: 0.6438 - val_acc: 0.9231\n",
      "Epoch 11/20\n",
      "80/80 [==============================] - 31s 384ms/step - loss: 0.0014 - acc: 1.0000 - val_loss: 0.9089 - val_acc: 0.8462\n",
      "Epoch 12/20\n",
      "80/80 [==============================] - 31s 382ms/step - loss: 3.0502e-04 - acc: 1.0000 - val_loss: 0.8921 - val_acc: 0.8462\n",
      "Epoch 13/20\n",
      "80/80 [==============================] - 30s 380ms/step - loss: 3.1677e-04 - acc: 1.0000 - val_loss: 0.8207 - val_acc: 0.8462\n",
      "Epoch 14/20\n",
      "80/80 [==============================] - 30s 377ms/step - loss: 0.0010 - acc: 1.0000 - val_loss: 0.6501 - val_acc: 0.8462\n",
      "Epoch 15/20\n",
      "80/80 [==============================] - 30s 380ms/step - loss: 5.2897e-04 - acc: 1.0000 - val_loss: 0.9331 - val_acc: 0.8462\n",
      "Epoch 16/20\n",
      "80/80 [==============================] - 30s 378ms/step - loss: 1.4831e-04 - acc: 1.0000 - val_loss: 0.8583 - val_acc: 0.8462\n",
      "Epoch 17/20\n",
      "80/80 [==============================] - 31s 384ms/step - loss: 1.4163e-04 - acc: 1.0000 - val_loss: 0.8483 - val_acc: 0.8462\n",
      "Epoch 18/20\n",
      "80/80 [==============================] - 31s 388ms/step - loss: 1.2706e-04 - acc: 1.0000 - val_loss: 0.6679 - val_acc: 0.8462\n",
      "Epoch 19/20\n",
      "80/80 [==============================] - 31s 383ms/step - loss: 9.1523e-05 - acc: 1.0000 - val_loss: 0.8582 - val_acc: 0.8462\n",
      "Epoch 20/20\n",
      "80/80 [==============================] - 31s 381ms/step - loss: 9.2438e-05 - acc: 1.0000 - val_loss: 0.7253 - val_acc: 0.8462\n"
     ]
    },
    {
     "data": {
      "text/plain": [
       "<keras.callbacks.History at 0x132c8dbee48>"
      ]
     },
     "execution_count": 7,
     "metadata": {},
     "output_type": "execute_result"
    }
   ],
   "source": [
    "classifier.fit_generator(training_set,\n",
    "                         steps_per_epoch = 80,\n",
    "                         epochs = 20,\n",
    "                         validation_data = test_set,\n",
    "                         validation_steps = 80)"
   ]
  },
  {
   "cell_type": "code",
   "execution_count": 8,
   "metadata": {
    "collapsed": true
   },
   "outputs": [],
   "source": [
    "import numpy as np\n",
    "from keras.preprocessing import image\n",
    "test_image = \\\n",
    "    image.load_img('/Users/GGS/Desktop/25Nov18/ML/images_data/Test/ant/image_0039.jpg'\n",
    "                   , target_size=(64, 64))\n",
    "test_image = image.img_to_array(test_image)\n",
    "test_image = np.expand_dims(test_image, axis=0)\n",
    "result = classifier.predict(test_image)"
   ]
  },
  {
   "cell_type": "code",
   "execution_count": 9,
   "metadata": {},
   "outputs": [
    {
     "name": "stdout",
     "output_type": "stream",
     "text": [
      "[[ 0.]]\n"
     ]
    }
   ],
   "source": [
    "print (result)"
   ]
  },
  {
   "cell_type": "code",
   "execution_count": 10,
   "metadata": {
    "collapsed": true
   },
   "outputs": [],
   "source": [
    "test_image1 = \\\n",
    "    image.load_img('/Users/GGS/Desktop/25Nov18/ML/images_data/Test/butterfly/image_0085.jpg'\n",
    "                   , target_size=(64, 64))\n",
    "test_image1 = image.img_to_array(test_image1)\n",
    "test_image1 = np.expand_dims(test_image1, axis=0)\n",
    "result1 = classifier.predict(test_image1)"
   ]
  },
  {
   "cell_type": "code",
   "execution_count": 11,
   "metadata": {},
   "outputs": [
    {
     "name": "stdout",
     "output_type": "stream",
     "text": [
      "[[ 1.]]\n"
     ]
    }
   ],
   "source": [
    "print(result1)"
   ]
  },
  {
   "cell_type": "code",
   "execution_count": 12,
   "metadata": {
    "collapsed": true
   },
   "outputs": [],
   "source": [
    "import pandas as pd\n",
    "import matplotlib.pyplot as plt\n",
    "%matplotlib inline"
   ]
  },
  {
   "cell_type": "code",
   "execution_count": 13,
   "metadata": {},
   "outputs": [
    {
     "data": {
      "text/plain": [
       "<matplotlib.axes._subplots.AxesSubplot at 0x132cbb5b400>"
      ]
     },
     "execution_count": 13,
     "metadata": {},
     "output_type": "execute_result"
    },
    {
     "data": {
      "image/png": "[encoded data removed]",
      "text/plain": [
       "<matplotlib.figure.Figure at 0x132cbb4f898>"
      ]
     },
     "metadata": {},
     "output_type": "display_data"
    }
   ],
   "source": [
    "metrics_df = pd.DataFrame(classifier.history.history)\n",
    "metrics_df.plot()"
   ]
  },
  {
   "cell_type": "code",
   "execution_count": null,
   "metadata": {
    "collapsed": true
   },
   "outputs": [],
   "source": []
  }
 ],
 "metadata": {
  "kernelspec": {
   "display_name": "Python 3",
   "language": "python",
   "name": "python3"
  },
  "language_info": {
   "codemirror_mode": {
    "name": "ipython",
    "version": 3
   },
   "file_extension": ".py",
   "mimetype": "text/x-python",
   "name": "python",
   "nbconvert_exporter": "python",
   "pygments_lexer": "ipython3",
   "version": "3.5.4"
  }
 },
 "nbformat": 4,
 "nbformat_minor": 2
}
