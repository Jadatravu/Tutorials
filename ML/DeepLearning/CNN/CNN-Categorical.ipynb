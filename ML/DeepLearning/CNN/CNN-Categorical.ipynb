{
 "cells": [
  {
   "cell_type": "code",
   "execution_count": 1,
   "metadata": {},
   "outputs": [
    {
     "name": "stderr",
     "output_type": "stream",
     "text": [
      "Using TensorFlow backend.\n"
     ]
    }
   ],
   "source": [
    "import keras"
   ]
  },
  {
   "cell_type": "code",
   "execution_count": 2,
   "metadata": {
    "collapsed": true
   },
   "outputs": [],
   "source": [
    "from keras.models import Sequential\n",
    "from keras.layers import Conv2D\n",
    "from keras.layers import MaxPooling2D\n",
    "from keras.layers import Flatten\n",
    "from keras.layers import Dense"
   ]
  },
  {
   "cell_type": "code",
   "execution_count": 8,
   "metadata": {
    "collapsed": true
   },
   "outputs": [],
   "source": [
    "# Initialising the CNN\n",
    "classifier = Sequential()\n",
    "\n",
    "# Step 1 - Convolution\n",
    "classifier.add(Conv2D(32, (3, 3), input_shape = (64, 64, 3), activation = 'relu'))\n",
    "\n",
    "# Step 2 - Pooling\n",
    "classifier.add(MaxPooling2D(pool_size = (2, 2)))\n",
    "\n",
    "# Adding a second convolutional layer\n",
    "classifier.add(Conv2D(32, (3, 3), activation = 'relu'))\n",
    "classifier.add(MaxPooling2D(pool_size = (2, 2)))\n",
    "\n",
    "# Step 3 - Flattening\n",
    "classifier.add(Flatten())\n",
    "\n",
    "# Step 4 - Full connection\n",
    "classifier.add(Dense(units = 128, activation = 'relu'))\n",
    "classifier.add(Dense(units = 6, activation = 'sigmoid'))\n",
    "\n",
    "# Compiling the CNN\n",
    "classifier.compile(optimizer = 'adam', loss = 'categorical_crossentropy', metrics = ['accuracy'])\n"
   ]
  },
  {
   "cell_type": "code",
   "execution_count": 9,
   "metadata": {
    "collapsed": true
   },
   "outputs": [],
   "source": [
    "from keras.preprocessing.image import ImageDataGenerator\n",
    "\n",
    "train_datagen = ImageDataGenerator(rescale = 1./255,\n",
    "                                   shear_range = 0.2,\n",
    "                                   zoom_range = 0.2,\n",
    "                                   horizontal_flip = True)\n",
    "\n",
    "test_datagen = ImageDataGenerator(rescale = 1./255)\n"
   ]
  },
  {
   "cell_type": "code",
   "execution_count": 10,
   "metadata": {},
   "outputs": [
    {
     "name": "stdout",
     "output_type": "stream",
     "text": [
      "Found 1031 images belonging to 6 classes.\n"
     ]
    }
   ],
   "source": [
    "training_set = train_datagen.flow_from_directory('/Users/GGS/Desktop/25Nov18/ML/images_data/Cat_images/Train',\n",
    "                                                 target_size = (64, 64),\n",
    "                                                 batch_size = 32,\n",
    "                                                 class_mode = 'categorical')\n"
   ]
  },
  {
   "cell_type": "code",
   "execution_count": 11,
   "metadata": {},
   "outputs": [
    {
     "name": "stdout",
     "output_type": "stream",
     "text": [
      "Found 140 images belonging to 6 classes.\n"
     ]
    }
   ],
   "source": [
    "test_set = test_datagen.flow_from_directory('/Users/GGS/Desktop/25Nov18/ML/images_data/Cat_images/Test',\n",
    "                                            target_size = (64, 64),\n",
    "                                            batch_size = 32,\n",
    "                                            class_mode = 'categorical')"
   ]
  },
  {
   "cell_type": "code",
   "execution_count": 12,
   "metadata": {},
   "outputs": [
    {
     "name": "stdout",
     "output_type": "stream",
     "text": [
      "Epoch 1/20\n",
      "80/80 [==============================] - 49s 607ms/step - loss: 0.8855 - acc: 0.7653 - val_loss: 1.2106 - val_acc: 0.3929\n",
      "Epoch 2/20\n",
      "80/80 [==============================] - 27s 338ms/step - loss: 0.4906 - acc: 0.8239 - val_loss: 0.8216 - val_acc: 0.6571\n",
      "Epoch 3/20\n",
      "80/80 [==============================] - 28s 347ms/step - loss: 0.3498 - acc: 0.8767 - val_loss: 0.6767 - val_acc: 0.7000\n",
      "Epoch 4/20\n",
      "80/80 [==============================] - 27s 341ms/step - loss: 0.2934 - acc: 0.8923 - val_loss: 0.4389 - val_acc: 0.8214\n",
      "Epoch 5/20\n",
      "80/80 [==============================] - 31s 389ms/step - loss: 0.2391 - acc: 0.9035 - val_loss: 0.4205 - val_acc: 0.8357\n",
      "Epoch 6/20\n",
      "80/80 [==============================] - 121s 2s/step - loss: 0.1818 - acc: 0.9387 - val_loss: 0.2432 - val_acc: 0.9214\n",
      "Epoch 7/20\n",
      "80/80 [==============================] - 35s 434ms/step - loss: 0.1824 - acc: 0.9294 - val_loss: 0.3346 - val_acc: 0.8786\n",
      "Epoch 8/20\n",
      "80/80 [==============================] - 31s 388ms/step - loss: 0.1591 - acc: 0.9429 - val_loss: 0.1043 - val_acc: 0.9714\n",
      "Epoch 9/20\n",
      "80/80 [==============================] - 31s 383ms/step - loss: 0.0915 - acc: 0.9734 - val_loss: 0.1313 - val_acc: 0.9643\n",
      "Epoch 10/20\n",
      "80/80 [==============================] - 31s 392ms/step - loss: 0.1031 - acc: 0.9660 - val_loss: 0.0683 - val_acc: 0.9857\n",
      "Epoch 11/20\n",
      "80/80 [==============================] - 28s 351ms/step - loss: 0.0938 - acc: 0.9754 - val_loss: 0.0958 - val_acc: 0.9786\n",
      "Epoch 12/20\n",
      "80/80 [==============================] - 28s 356ms/step - loss: 0.0621 - acc: 0.9809 - val_loss: 0.0646 - val_acc: 0.9857\n",
      "Epoch 13/20\n",
      "80/80 [==============================] - 31s 385ms/step - loss: 0.0607 - acc: 0.9810 - val_loss: 0.0364 - val_acc: 0.9857\n",
      "Epoch 14/20\n",
      "80/80 [==============================] - 30s 369ms/step - loss: 0.0417 - acc: 0.9861 - val_loss: 0.0446 - val_acc: 0.9857\n",
      "Epoch 15/20\n",
      "80/80 [==============================] - 28s 345ms/step - loss: 0.0427 - acc: 0.9891 - val_loss: 0.0447 - val_acc: 0.9929\n",
      "Epoch 16/20\n",
      "80/80 [==============================] - 35s 432ms/step - loss: 0.0318 - acc: 0.9887 - val_loss: 0.0337 - val_acc: 0.9929\n",
      "Epoch 17/20\n",
      "80/80 [==============================] - 31s 382ms/step - loss: 0.0328 - acc: 0.9906 - val_loss: 0.0133 - val_acc: 0.9929\n",
      "Epoch 18/20\n",
      "80/80 [==============================] - 28s 356ms/step - loss: 0.0206 - acc: 0.9937 - val_loss: 0.0065 - val_acc: 1.0000\n",
      "Epoch 19/20\n",
      "80/80 [==============================] - 29s 365ms/step - loss: 0.0390 - acc: 0.9881 - val_loss: 0.0090 - val_acc: 1.0000\n",
      "Epoch 20/20\n",
      "80/80 [==============================] - 31s 384ms/step - loss: 0.0299 - acc: 0.9918 - val_loss: 0.0121 - val_acc: 1.0000\n"
     ]
    },
    {
     "data": {
      "text/plain": [
       "<keras.callbacks.History at 0x15af526fc50>"
      ]
     },
     "execution_count": 12,
     "metadata": {},
     "output_type": "execute_result"
    }
   ],
   "source": [
    "classifier.fit_generator(training_set,\n",
    "                         steps_per_epoch = 80,\n",
    "                         epochs = 20,\n",
    "                         validation_data = test_set,\n",
    "                         validation_steps = 80)"
   ]
  },
  {
   "cell_type": "code",
   "execution_count": 13,
   "metadata": {
    "collapsed": true
   },
   "outputs": [],
   "source": [
    "import numpy as np\n",
    "from keras.preprocessing import image\n",
    "test_image = \\\n",
    "    image.load_img('/Users/GGS/Desktop/25Nov18/ML/images_data/Cat_images/Test/ant/image_0039.jpg'\n",
    "                   , target_size=(64, 64))\n",
    "test_image = image.img_to_array(test_image)\n",
    "test_image = np.expand_dims(test_image, axis=0)\n",
    "result = classifier.predict(test_image)"
   ]
  },
  {
   "cell_type": "code",
   "execution_count": 14,
   "metadata": {},
   "outputs": [
    {
     "name": "stdout",
     "output_type": "stream",
     "text": [
      "[[ 0.  0.  1.  0.  0.  0.]]\n"
     ]
    }
   ],
   "source": [
    "print (result)"
   ]
  },
  {
   "cell_type": "code",
   "execution_count": 15,
   "metadata": {
    "collapsed": true
   },
   "outputs": [],
   "source": [
    "import numpy as np\n",
    "from keras.preprocessing import image\n",
    "test_image = \\\n",
    "    image.load_img('/Users/GGS/Desktop/25Nov18/ML/images_data/Cat_images/Test/bass/image_0005.jpg'\n",
    "                   , target_size=(64, 64))\n",
    "test_image = image.img_to_array(test_image)\n",
    "test_image = np.expand_dims(test_image, axis=0)\n",
    "result = classifier.predict(test_image)"
   ]
  },
  {
   "cell_type": "code",
   "execution_count": 16,
   "metadata": {},
   "outputs": [
    {
     "name": "stdout",
     "output_type": "stream",
     "text": [
      "[[ 0.  0.  0.  0.  1.  0.]]\n"
     ]
    }
   ],
   "source": [
    "print (result)"
   ]
  },
  {
   "cell_type": "code",
   "execution_count": 19,
   "metadata": {
    "collapsed": true
   },
   "outputs": [],
   "source": [
    "import numpy as np\n",
    "from keras.preprocessing import image\n",
    "test_image = \\\n",
    "    image.load_img('/Users/GGS/Desktop/25Nov18/ML/images_data/Cat_images/Test/anchor/image_0005.jpg'\n",
    "                   , target_size=(64, 64))\n",
    "test_image = image.img_to_array(test_image)\n",
    "test_image = np.expand_dims(test_image, axis=0)\n",
    "result = classifier.predict(test_image)"
   ]
  },
  {
   "cell_type": "code",
   "execution_count": 20,
   "metadata": {},
   "outputs": [
    {
     "name": "stdout",
     "output_type": "stream",
     "text": [
      "[[ 0.  1.  0.  0.  0.  0.]]\n"
     ]
    }
   ],
   "source": [
    "print (result)"
   ]
  },
  {
   "cell_type": "markdown",
   "metadata": {},
   "source": [
    "CNN:\n",
    "https://www.analyticsindiamag.com/learn-image-classification-using-cnn-in-keras-with-code/\n",
    "http://www.vision.caltech.edu/Image_Datasets/Caltech101/\n",
    "http://www.vision.caltech.edu/Image_Datasets/Caltech101/101_ObjectCategories.tar.gz\n",
    "https://github.com/rohanpillai20/Image-Classification-by-Keras-and-Tensorflow/"
   ]
  },
  {
   "cell_type": "code",
   "execution_count": null,
   "metadata": {
    "collapsed": true
   },
   "outputs": [],
   "source": []
  }
 ],
 "metadata": {
  "kernelspec": {
   "display_name": "Python 3",
   "language": "python",
   "name": "python3"
  },
  "language_info": {
   "codemirror_mode": {
    "name": "ipython",
    "version": 3
   },
   "file_extension": ".py",
   "mimetype": "text/x-python",
   "name": "python",
   "nbconvert_exporter": "python",
   "pygments_lexer": "ipython3",
   "version": "3.5.4"
  }
 },
 "nbformat": 4,
 "nbformat_minor": 2
}
