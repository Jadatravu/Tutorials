{
 "cells": [
  {
   "cell_type": "code",
   "execution_count": 1,
   "metadata": {},
   "outputs": [
    {
     "name": "stderr",
     "output_type": "stream",
     "text": [
      "Using TensorFlow backend.\n"
     ]
    }
   ],
   "source": [
    "import keras"
   ]
  },
  {
   "cell_type": "code",
   "execution_count": 2,
   "metadata": {
    "collapsed": true
   },
   "outputs": [],
   "source": [
    "from keras.models import Sequential\n",
    "from keras.layers import Conv2D\n",
    "from keras.layers import MaxPooling2D\n",
    "from keras.layers import Flatten\n",
    "from keras.layers import Dense"
   ]
  },
  {
   "cell_type": "code",
   "execution_count": 3,
   "metadata": {
    "collapsed": true
   },
   "outputs": [],
   "source": [
    "# Initialising the CNN\n",
    "classifier = Sequential()\n",
    "\n",
    "# Step 1 - Convolution\n",
    "classifier.add(Conv2D(32, (3, 3), input_shape = (64, 64, 3), activation = 'relu'))\n",
    "\n",
    "# Step 2 - Pooling\n",
    "classifier.add(MaxPooling2D(pool_size = (2, 2)))\n",
    "\n",
    "# Adding a second convolutional layer\n",
    "classifier.add(Conv2D(32, (3, 3), activation = 'relu'))\n",
    "classifier.add(MaxPooling2D(pool_size = (2, 2)))\n",
    "\n",
    "# Step 3 - Flattening\n",
    "classifier.add(Flatten())\n",
    "\n",
    "# Step 4 - Full connection\n",
    "classifier.add(Dense(units = 128, activation = 'relu'))\n",
    "classifier.add(Dense(units = 1, activation = 'sigmoid'))\n",
    "\n",
    "# Compiling the CNN\n",
    "classifier.compile(optimizer = 'adam', loss = 'binary_crossentropy', metrics = ['accuracy'])\n"
   ]
  },
  {
   "cell_type": "code",
   "execution_count": 4,
   "metadata": {
    "collapsed": true
   },
   "outputs": [],
   "source": [
    "from keras.preprocessing.image import ImageDataGenerator\n",
    "\n",
    "train_datagen = ImageDataGenerator(rescale = 1./255,\n",
    "                                   shear_range = 0.2,\n",
    "                                   zoom_range = 0.2,\n",
    "                                   horizontal_flip = True)\n",
    "\n",
    "test_datagen = ImageDataGenerator(rescale = 1./255)\n"
   ]
  },
  {
   "cell_type": "code",
   "execution_count": 5,
   "metadata": {},
   "outputs": [
    {
     "name": "stdout",
     "output_type": "stream",
     "text": [
      "Found 120 images belonging to 2 classes.\n"
     ]
    }
   ],
   "source": [
    "training_set = train_datagen.flow_from_directory('/Users/GGS/Desktop/25Nov18/ML/images_data/Train',\n",
    "                                                 target_size = (64, 64),\n",
    "                                                 batch_size = 32,\n",
    "                                                 class_mode = 'binary')\n"
   ]
  },
  {
   "cell_type": "code",
   "execution_count": 6,
   "metadata": {},
   "outputs": [
    {
     "name": "stdout",
     "output_type": "stream",
     "text": [
      "Found 13 images belonging to 2 classes.\n"
     ]
    }
   ],
   "source": [
    "test_set = test_datagen.flow_from_directory('/Users/GGS/Desktop/25Nov18/ML/images_data/Test',\n",
    "                                            target_size = (64, 64),\n",
    "                                            batch_size = 32,\n",
    "                                            class_mode = 'binary')"
   ]
  },
  {
   "cell_type": "code",
   "execution_count": 8,
   "metadata": {},
   "outputs": [
    {
     "name": "stdout",
     "output_type": "stream",
     "text": [
      "Epoch 1/20\n",
      "80/80 [==============================] - 27s 343ms/step - loss: 1.8011e-05 - acc: 1.0000 - val_loss: 3.1631 - val_acc: 0.6923\n",
      "Epoch 2/20\n",
      "80/80 [==============================] - 27s 340ms/step - loss: 1.1566e-05 - acc: 1.0000 - val_loss: 3.2025 - val_acc: 0.6923\n",
      "Epoch 3/20\n",
      "80/80 [==============================] - 27s 338ms/step - loss: 1.1548e-05 - acc: 1.0000 - val_loss: 3.2510 - val_acc: 0.6923\n",
      "Epoch 4/20\n",
      "80/80 [==============================] - 27s 342ms/step - loss: 1.2789e-05 - acc: 1.0000 - val_loss: 3.1604 - val_acc: 0.6923\n",
      "Epoch 5/20\n",
      "80/80 [==============================] - 27s 340ms/step - loss: 8.7391e-06 - acc: 1.0000 - val_loss: 3.2030 - val_acc: 0.6923\n",
      "Epoch 6/20\n",
      "80/80 [==============================] - 27s 342ms/step - loss: 5.9116e-06 - acc: 1.0000 - val_loss: 3.2074 - val_acc: 0.6923\n",
      "Epoch 7/20\n",
      "80/80 [==============================] - 27s 344ms/step - loss: 8.1739e-06 - acc: 1.0000 - val_loss: 3.2634 - val_acc: 0.6923\n",
      "Epoch 8/20\n",
      "80/80 [==============================] - 27s 342ms/step - loss: 1.0170e-05 - acc: 1.0000 - val_loss: 3.0829 - val_acc: 0.6923\n",
      "Epoch 9/20\n",
      "80/80 [==============================] - 27s 342ms/step - loss: 8.4330e-06 - acc: 1.0000 - val_loss: 3.2703 - val_acc: 0.6923\n",
      "Epoch 10/20\n",
      "80/80 [==============================] - 27s 343ms/step - loss: 7.5105e-06 - acc: 1.0000 - val_loss: 3.1545 - val_acc: 0.6923\n",
      "Epoch 11/20\n",
      "80/80 [==============================] - 27s 341ms/step - loss: 6.4646e-06 - acc: 1.0000 - val_loss: 3.1404 - val_acc: 0.6923\n",
      "Epoch 12/20\n",
      "80/80 [==============================] - 27s 342ms/step - loss: 5.2842e-06 - acc: 1.0000 - val_loss: 3.2454 - val_acc: 0.6923\n",
      "Epoch 13/20\n",
      "80/80 [==============================] - 28s 346ms/step - loss: 7.7895e-06 - acc: 1.0000 - val_loss: 3.1025 - val_acc: 0.6923\n",
      "Epoch 14/20\n",
      "80/80 [==============================] - 27s 341ms/step - loss: 5.6669e-06 - acc: 1.0000 - val_loss: 3.3316 - val_acc: 0.6923\n",
      "Epoch 15/20\n",
      "80/80 [==============================] - 29s 358ms/step - loss: 6.5616e-06 - acc: 1.0000 - val_loss: 3.1403 - val_acc: 0.6923\n",
      "Epoch 16/20\n",
      "80/80 [==============================] - 28s 353ms/step - loss: 5.3436e-06 - acc: 1.0000 - val_loss: 3.2489 - val_acc: 0.6923\n",
      "Epoch 17/20\n",
      "80/80 [==============================] - 27s 344ms/step - loss: 5.7403e-06 - acc: 1.0000 - val_loss: 3.2448 - val_acc: 0.6923\n",
      "Epoch 18/20\n",
      "80/80 [==============================] - 28s 346ms/step - loss: 4.7911e-06 - acc: 1.0000 - val_loss: 3.0790 - val_acc: 0.6923\n",
      "Epoch 19/20\n",
      "80/80 [==============================] - 27s 344ms/step - loss: 3.3838e-06 - acc: 1.0000 - val_loss: 3.2720 - val_acc: 0.6923\n",
      "Epoch 20/20\n",
      "80/80 [==============================] - 28s 348ms/step - loss: 4.5731e-06 - acc: 1.0000 - val_loss: 3.4206 - val_acc: 0.6923\n"
     ]
    },
    {
     "data": {
      "text/plain": [
       "<keras.callbacks.History at 0x20d95a39710>"
      ]
     },
     "execution_count": 8,
     "metadata": {},
     "output_type": "execute_result"
    }
   ],
   "source": [
    "classifier.fit_generator(training_set,\n",
    "                         steps_per_epoch = 80,\n",
    "                         epochs = 20,\n",
    "                         validation_data = test_set,\n",
    "                         validation_steps = 80)"
   ]
  },
  {
   "cell_type": "code",
   "execution_count": 9,
   "metadata": {
    "collapsed": true
   },
   "outputs": [],
   "source": [
    "import numpy as np\n",
    "from keras.preprocessing import image\n",
    "test_image = \\\n",
    "    image.load_img('/Users/GGS/Desktop/25Nov18/ML/images_data/Test/ant/image_0039.jpg'\n",
    "                   , target_size=(64, 64))\n",
    "test_image = image.img_to_array(test_image)\n",
    "test_image = np.expand_dims(test_image, axis=0)\n",
    "result = classifier.predict(test_image)"
   ]
  },
  {
   "cell_type": "code",
   "execution_count": 10,
   "metadata": {},
   "outputs": [
    {
     "name": "stdout",
     "output_type": "stream",
     "text": [
      "[[ 0.]]\n"
     ]
    }
   ],
   "source": [
    "print (result)"
   ]
  },
  {
   "cell_type": "code",
   "execution_count": 11,
   "metadata": {
    "collapsed": true
   },
   "outputs": [],
   "source": [
    "#/Users/GGS/Desktop/25Nov18/ML/images_data/Test/butterfly/image_0085.jpg"
   ]
  },
  {
   "cell_type": "code",
   "execution_count": 12,
   "metadata": {
    "collapsed": true
   },
   "outputs": [],
   "source": [
    "test_image1 = \\\n",
    "    image.load_img('/Users/GGS/Desktop/25Nov18/ML/images_data/Test/butterfly/image_0085.jpg'\n",
    "                   , target_size=(64, 64))\n",
    "test_image1 = image.img_to_array(test_image1)\n",
    "test_image1 = np.expand_dims(test_image1, axis=0)\n",
    "result1 = classifier.predict(test_image1)"
   ]
  },
  {
   "cell_type": "code",
   "execution_count": 13,
   "metadata": {},
   "outputs": [
    {
     "name": "stdout",
     "output_type": "stream",
     "text": [
      "[[ 1.]]\n"
     ]
    }
   ],
   "source": [
    "print(result1)"
   ]
  },
  {
   "cell_type": "markdown",
   "metadata": {},
   "source": [
    "CNN:\n",
    "https://www.analyticsindiamag.com/learn-image-classification-using-cnn-in-keras-with-code/\n",
    "http://www.vision.caltech.edu/Image_Datasets/Caltech101/\n",
    "http://www.vision.caltech.edu/Image_Datasets/Caltech101/101_ObjectCategories.tar.gz\n",
    "https://github.com/rohanpillai20/Image-Classification-by-Keras-and-Tensorflow/"
   ]
  },
  {
   "cell_type": "code",
   "execution_count": null,
   "metadata": {
    "collapsed": true
   },
   "outputs": [],
   "source": []
  }
 ],
 "metadata": {
  "kernelspec": {
   "display_name": "Python 3",
   "language": "python",
   "name": "python3"
  },
  "language_info": {
   "codemirror_mode": {
    "name": "ipython",
    "version": 3
   },
   "file_extension": ".py",
   "mimetype": "text/x-python",
   "name": "python",
   "nbconvert_exporter": "python",
   "pygments_lexer": "ipython3",
   "version": "3.5.4"
  }
 },
 "nbformat": 4,
 "nbformat_minor": 2
}
