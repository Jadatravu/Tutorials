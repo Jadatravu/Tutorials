{
 "cells": [
  {
   "cell_type": "code",
   "execution_count": 1,
   "metadata": {},
   "outputs": [
    {
     "name": "stderr",
     "output_type": "stream",
     "text": [
      "Using TensorFlow backend.\n"
     ]
    }
   ],
   "source": [
    "import keras"
   ]
  },
  {
   "cell_type": "code",
   "execution_count": 2,
   "metadata": {
    "collapsed": true
   },
   "outputs": [],
   "source": [
    "from keras.models import Sequential\n",
    "from keras.layers import Conv2D\n",
    "from keras.layers import MaxPooling2D\n",
    "from keras.layers import Flatten\n",
    "from keras.layers import Dense\n",
    "from keras.layers import Dropout"
   ]
  },
  {
   "cell_type": "code",
   "execution_count": 3,
   "metadata": {
    "collapsed": true
   },
   "outputs": [],
   "source": [
    "from keras.optimizers import SGD"
   ]
  },
  {
   "cell_type": "code",
   "execution_count": 4,
   "metadata": {
    "collapsed": true
   },
   "outputs": [],
   "source": [
    "# Initialising the CNN\n",
    "classifier = Sequential()\n",
    "\n",
    "# Step 1 - Convolution\n",
    "classifier.add(Conv2D(32, (3, 3), input_shape = (64, 64, 3), activation = 'relu'))\n",
    "\n",
    "# Step 2 - Pooling\n",
    "classifier.add(MaxPooling2D(pool_size = (2, 2)))\n",
    "classifier.add(Dropout(0.25))\n",
    "\n",
    "# Adding a second convolutional layer\n",
    "classifier.add(Conv2D(32, (3, 3), activation = 'relu'))\n",
    "classifier.add(MaxPooling2D(pool_size = (2, 2)))\n",
    "classifier.add(Dropout(0.25))\n",
    "\n",
    "# Step 3 - Flattening\n",
    "classifier.add(Flatten())\n",
    "\n",
    "# Step 4 - Full connection\n",
    "classifier.add(Dense(units = 128, activation = 'relu'))\n",
    "classifier.add(Dense(units = 1, activation = 'sigmoid'))\n",
    "\n",
    "# Compiling the CNN\n",
    "classifier.compile(optimizer = 'adam', loss = 'binary_crossentropy', metrics = ['accuracy'])\n"
   ]
  },
  {
   "cell_type": "code",
   "execution_count": 5,
   "metadata": {
    "collapsed": true
   },
   "outputs": [],
   "source": [
    "from keras.preprocessing.image import ImageDataGenerator\n",
    "\n",
    "train_datagen = ImageDataGenerator(rescale = 1./255,\n",
    "                                   shear_range = 0.2,\n",
    "                                   zoom_range = 0.2,\n",
    "                                   horizontal_flip = True)\n",
    "\n",
    "test_datagen = ImageDataGenerator(rescale = 1./255)\n"
   ]
  },
  {
   "cell_type": "code",
   "execution_count": 6,
   "metadata": {},
   "outputs": [
    {
     "name": "stdout",
     "output_type": "stream",
     "text": [
      "Found 120 images belonging to 2 classes.\n"
     ]
    }
   ],
   "source": [
    "training_set = train_datagen.flow_from_directory('/Users/GGS/Desktop/25Nov18/ML/images_data/Train',\n",
    "                                                 target_size = (64, 64),\n",
    "                                                 batch_size = 32,\n",
    "                                                 class_mode = 'binary')\n"
   ]
  },
  {
   "cell_type": "code",
   "execution_count": 7,
   "metadata": {},
   "outputs": [
    {
     "name": "stdout",
     "output_type": "stream",
     "text": [
      "Found 13 images belonging to 2 classes.\n"
     ]
    }
   ],
   "source": [
    "test_set = test_datagen.flow_from_directory('/Users/GGS/Desktop/25Nov18/ML/images_data/Test',\n",
    "                                            target_size = (64, 64),\n",
    "                                            batch_size = 32,\n",
    "                                            class_mode = 'binary')"
   ]
  },
  {
   "cell_type": "code",
   "execution_count": 8,
   "metadata": {},
   "outputs": [
    {
     "name": "stdout",
     "output_type": "stream",
     "text": [
      "Epoch 1/20\n",
      "80/80 [==============================] - 36s 452ms/step - loss: 0.6444 - acc: 0.6853 - val_loss: 0.8370 - val_acc: 0.5385\n",
      "Epoch 2/20\n",
      "80/80 [==============================] - 35s 439ms/step - loss: 0.4378 - acc: 0.7249 - val_loss: 0.7083 - val_acc: 0.6923\n",
      "Epoch 3/20\n",
      "80/80 [==============================] - 31s 384ms/step - loss: 0.2839 - acc: 0.8913 - val_loss: 0.7674 - val_acc: 0.7692\n",
      "Epoch 4/20\n",
      "80/80 [==============================] - 31s 384ms/step - loss: 0.2447 - acc: 0.9440 - val_loss: 0.6999 - val_acc: 0.8462\n",
      "Epoch 5/20\n",
      "80/80 [==============================] - 31s 382ms/step - loss: 0.2114 - acc: 0.9686 - val_loss: 0.9183 - val_acc: 0.8462\n",
      "Epoch 6/20\n",
      "80/80 [==============================] - 32s 399ms/step - loss: 0.1926 - acc: 0.9764 - val_loss: 1.0214 - val_acc: 0.8462\n",
      "Epoch 7/20\n",
      "80/80 [==============================] - 31s 391ms/step - loss: 0.1758 - acc: 0.9855 - val_loss: 0.9789 - val_acc: 0.8462\n",
      "Epoch 8/20\n",
      "80/80 [==============================] - 39s 489ms/step - loss: 0.1599 - acc: 0.9937 - val_loss: 0.9621 - val_acc: 0.8462\n",
      "Epoch 9/20\n",
      "80/80 [==============================] - 32s 397ms/step - loss: 0.1485 - acc: 0.9965 - val_loss: 1.0110 - val_acc: 0.8462\n",
      "Epoch 10/20\n",
      "80/80 [==============================] - 32s 395ms/step - loss: 0.1387 - acc: 0.9988 - val_loss: 1.2496 - val_acc: 0.8462\n",
      "Epoch 11/20\n",
      "80/80 [==============================] - 35s 436ms/step - loss: 0.1309 - acc: 0.9977 - val_loss: 1.1733 - val_acc: 0.7692\n",
      "Epoch 12/20\n",
      "80/80 [==============================] - 32s 398ms/step - loss: 0.0448 - acc: 0.9919 - val_loss: 0.8040 - val_acc: 0.8462\n",
      "Epoch 13/20\n",
      "80/80 [==============================] - 32s 395ms/step - loss: 0.0362 - acc: 0.9862 - val_loss: 1.5424 - val_acc: 0.8462\n",
      "Epoch 14/20\n",
      "80/80 [==============================] - 30s 380ms/step - loss: 0.0240 - acc: 0.9918 - val_loss: 0.7301 - val_acc: 0.7692\n",
      "Epoch 15/20\n",
      "80/80 [==============================] - 30s 374ms/step - loss: 0.0117 - acc: 0.9967 - val_loss: 1.4400 - val_acc: 0.8462\n",
      "Epoch 16/20\n",
      "80/80 [==============================] - 30s 372ms/step - loss: 0.0031 - acc: 0.9996 - val_loss: 0.8040 - val_acc: 0.8462\n",
      "Epoch 17/20\n",
      "80/80 [==============================] - 30s 373ms/step - loss: 0.0035 - acc: 0.9988 - val_loss: 0.9102 - val_acc: 0.8462\n",
      "Epoch 18/20\n",
      "80/80 [==============================] - 30s 376ms/step - loss: 0.0318 - acc: 0.9885 - val_loss: 0.6077 - val_acc: 0.7692\n",
      "Epoch 19/20\n",
      "80/80 [==============================] - 30s 373ms/step - loss: 0.0026 - acc: 1.0000 - val_loss: 0.6119 - val_acc: 0.9231\n",
      "Epoch 20/20\n",
      "80/80 [==============================] - 30s 376ms/step - loss: 0.0104 - acc: 0.9967 - val_loss: 1.2750 - val_acc: 0.9231\n"
     ]
    },
    {
     "data": {
      "text/plain": [
       "<keras.callbacks.History at 0x2b7c26960b8>"
      ]
     },
     "execution_count": 8,
     "metadata": {},
     "output_type": "execute_result"
    }
   ],
   "source": [
    "classifier.fit_generator(training_set,\n",
    "                         steps_per_epoch = 80,\n",
    "                         epochs = 20,\n",
    "                         validation_data = test_set,\n",
    "                         validation_steps = 80)"
   ]
  },
  {
   "cell_type": "code",
   "execution_count": 9,
   "metadata": {},
   "outputs": [
    {
     "data": {
      "text/plain": [
       "['__call__',\n",
       " '__class__',\n",
       " '__delattr__',\n",
       " '__dict__',\n",
       " '__dir__',\n",
       " '__doc__',\n",
       " '__eq__',\n",
       " '__format__',\n",
       " '__ge__',\n",
       " '__getattribute__',\n",
       " '__getstate__',\n",
       " '__gt__',\n",
       " '__hash__',\n",
       " '__init__',\n",
       " '__le__',\n",
       " '__lt__',\n",
       " '__module__',\n",
       " '__ne__',\n",
       " '__new__',\n",
       " '__reduce__',\n",
       " '__reduce_ex__',\n",
       " '__repr__',\n",
       " '__setattr__',\n",
       " '__setstate__',\n",
       " '__sizeof__',\n",
       " '__str__',\n",
       " '__subclasshook__',\n",
       " '__weakref__',\n",
       " '_add_inbound_node',\n",
       " '_base_init',\n",
       " '_build_input_shape',\n",
       " '_built',\n",
       " '_check_trainable_weights_consistency',\n",
       " '_collected_trainable_weights',\n",
       " '_compute_previous_mask',\n",
       " '_expects_training_arg',\n",
       " '_feed_input_names',\n",
       " '_feed_input_shapes',\n",
       " '_feed_inputs',\n",
       " '_feed_loss_fns',\n",
       " '_feed_output_names',\n",
       " '_feed_output_shapes',\n",
       " '_feed_outputs',\n",
       " '_feed_sample_weight_modes',\n",
       " '_feed_sample_weights',\n",
       " '_feed_targets',\n",
       " '_function_kwargs',\n",
       " '_get_node_attribute_at_index',\n",
       " '_inbound_nodes',\n",
       " '_init_graph_network',\n",
       " '_init_subclassed_network',\n",
       " '_initial_weights',\n",
       " '_input_coordinates',\n",
       " '_input_layers',\n",
       " '_is_compiled',\n",
       " '_is_graph_network',\n",
       " '_layers',\n",
       " '_layers_by_depth',\n",
       " '_losses',\n",
       " '_make_predict_function',\n",
       " '_make_test_function',\n",
       " '_make_train_function',\n",
       " '_network_nodes',\n",
       " '_node_key',\n",
       " '_nodes_by_depth',\n",
       " '_outbound_nodes',\n",
       " '_output_coordinates',\n",
       " '_output_layers',\n",
       " '_output_mask_cache',\n",
       " '_output_shape_cache',\n",
       " '_output_tensor_cache',\n",
       " '_per_input_losses',\n",
       " '_per_input_updates',\n",
       " '_set_inputs',\n",
       " '_standardize_user_data',\n",
       " '_updated_config',\n",
       " '_updates',\n",
       " '_uses_dynamic_learning_phase',\n",
       " '_uses_inputs_arg',\n",
       " 'add',\n",
       " 'add_loss',\n",
       " 'add_update',\n",
       " 'add_weight',\n",
       " 'assert_input_compatibility',\n",
       " 'build',\n",
       " 'built',\n",
       " 'call',\n",
       " 'compile',\n",
       " 'compute_mask',\n",
       " 'compute_output_shape',\n",
       " 'count_params',\n",
       " 'evaluate',\n",
       " 'evaluate_generator',\n",
       " 'fit',\n",
       " 'fit_generator',\n",
       " 'from_config',\n",
       " 'get_config',\n",
       " 'get_input_at',\n",
       " 'get_input_mask_at',\n",
       " 'get_input_shape_at',\n",
       " 'get_layer',\n",
       " 'get_losses_for',\n",
       " 'get_output_at',\n",
       " 'get_output_mask_at',\n",
       " 'get_output_shape_at',\n",
       " 'get_updates_for',\n",
       " 'get_weights',\n",
       " 'history',\n",
       " 'input',\n",
       " 'input_mask',\n",
       " 'input_names',\n",
       " 'input_shape',\n",
       " 'input_spec',\n",
       " 'inputs',\n",
       " 'layers',\n",
       " 'load_weights',\n",
       " 'loss',\n",
       " 'loss_functions',\n",
       " 'loss_weights',\n",
       " 'losses',\n",
       " 'metrics',\n",
       " 'metrics_names',\n",
       " 'metrics_tensors',\n",
       " 'metrics_updates',\n",
       " 'model',\n",
       " 'name',\n",
       " 'non_trainable_weights',\n",
       " 'optimizer',\n",
       " 'output',\n",
       " 'output_mask',\n",
       " 'output_names',\n",
       " 'output_shape',\n",
       " 'outputs',\n",
       " 'pop',\n",
       " 'predict',\n",
       " 'predict_classes',\n",
       " 'predict_function',\n",
       " 'predict_generator',\n",
       " 'predict_on_batch',\n",
       " 'predict_proba',\n",
       " 'reset_states',\n",
       " 'run_internal_graph',\n",
       " 'sample_weight_mode',\n",
       " 'sample_weight_modes',\n",
       " 'sample_weights',\n",
       " 'save',\n",
       " 'save_weights',\n",
       " 'set_weights',\n",
       " 'state_updates',\n",
       " 'stateful',\n",
       " 'stateful_metric_functions',\n",
       " 'stateful_metric_names',\n",
       " 'stop_training',\n",
       " 'summary',\n",
       " 'supports_masking',\n",
       " 'targets',\n",
       " 'test_function',\n",
       " 'test_on_batch',\n",
       " 'to_json',\n",
       " 'to_yaml',\n",
       " 'total_loss',\n",
       " 'train_function',\n",
       " 'train_on_batch',\n",
       " 'trainable',\n",
       " 'trainable_weights',\n",
       " 'updates',\n",
       " 'uses_learning_phase',\n",
       " 'weighted_metrics',\n",
       " 'weights']"
      ]
     },
     "execution_count": 9,
     "metadata": {},
     "output_type": "execute_result"
    }
   ],
   "source": [
    "dir(classifier)"
   ]
  },
  {
   "cell_type": "code",
   "execution_count": 10,
   "metadata": {},
   "outputs": [
    {
     "name": "stdout",
     "output_type": "stream",
     "text": [
      "_________________________________________________________________\n",
      "Layer (type)                 Output Shape              Param #   \n",
      "=================================================================\n",
      "conv2d_1 (Conv2D)            (None, 62, 62, 32)        896       \n",
      "_________________________________________________________________\n",
      "max_pooling2d_1 (MaxPooling2 (None, 31, 31, 32)        0         \n",
      "_________________________________________________________________\n",
      "dropout_1 (Dropout)          (None, 31, 31, 32)        0         \n",
      "_________________________________________________________________\n",
      "conv2d_2 (Conv2D)            (None, 29, 29, 32)        9248      \n",
      "_________________________________________________________________\n",
      "max_pooling2d_2 (MaxPooling2 (None, 14, 14, 32)        0         \n",
      "_________________________________________________________________\n",
      "dropout_2 (Dropout)          (None, 14, 14, 32)        0         \n",
      "_________________________________________________________________\n",
      "flatten_1 (Flatten)          (None, 6272)              0         \n",
      "_________________________________________________________________\n",
      "dense_1 (Dense)              (None, 128)               802944    \n",
      "_________________________________________________________________\n",
      "dense_2 (Dense)              (None, 1)                 129       \n",
      "=================================================================\n",
      "Total params: 813,217\n",
      "Trainable params: 813,217\n",
      "Non-trainable params: 0\n",
      "_________________________________________________________________\n"
     ]
    }
   ],
   "source": [
    "classifier.summary()"
   ]
  },
  {
   "cell_type": "code",
   "execution_count": 12,
   "metadata": {},
   "outputs": [
    {
     "data": {
      "text/plain": [
       "{'acc': [0.68541666626930242,\n",
       "  0.72458333253860474,\n",
       "  0.89166666706403097,\n",
       "  0.94458333313465115,\n",
       "  0.9683333331346512,\n",
       "  0.97624999920527145,\n",
       "  0.98541666607062017,\n",
       "  0.99374999940395359,\n",
       "  0.99666666607062027,\n",
       "  0.99875000000000003,\n",
       "  0.99750000000000005,\n",
       "  0.99208333233992263,\n",
       "  0.98541666646798454,\n",
       "  0.99166666607062026,\n",
       "  0.99666666646798452,\n",
       "  0.99958333333333338,\n",
       "  0.99875000000000003,\n",
       "  0.98874999860922497,\n",
       "  1.0,\n",
       "  0.99666666646798452],\n",
       " 'loss': [0.64376086751619976,\n",
       "  0.43745348706841469,\n",
       "  0.28296471854050953,\n",
       "  0.24344857871532441,\n",
       "  0.21034505801896256,\n",
       "  0.19376596550146738,\n",
       "  0.17408934091528258,\n",
       "  0.16026388689875604,\n",
       "  0.14848259910941125,\n",
       "  0.13794279324511688,\n",
       "  0.13099081452935935,\n",
       "  0.044085319342557341,\n",
       "  0.037786086726506858,\n",
       "  0.02469898338439331,\n",
       "  0.011967605390649018,\n",
       "  0.0030601044151990207,\n",
       "  0.0035540761355756937,\n",
       "  0.030674627146339239,\n",
       "  0.0026595811781104811,\n",
       "  0.010638842072318463],\n",
       " 'val_acc': [0.53846156597137451,\n",
       "  0.69230771064758301,\n",
       "  0.76923078298568726,\n",
       "  0.8461538553237915,\n",
       "  0.8461538553237915,\n",
       "  0.8461538553237915,\n",
       "  0.8461538553237915,\n",
       "  0.8461538553237915,\n",
       "  0.8461538553237915,\n",
       "  0.8461538553237915,\n",
       "  0.76923078298568726,\n",
       "  0.8461538553237915,\n",
       "  0.8461538553237915,\n",
       "  0.76923078298568726,\n",
       "  0.8461538553237915,\n",
       "  0.8461538553237915,\n",
       "  0.8461538553237915,\n",
       "  0.76923078298568726,\n",
       "  0.92307692766189575,\n",
       "  0.92307692766189575],\n",
       " 'val_loss': [0.83704163059592251,\n",
       "  0.7082828417420387,\n",
       "  0.76742541417479515,\n",
       "  0.69989709183573723,\n",
       "  0.91827716231346135,\n",
       "  1.0214362725615502,\n",
       "  0.97893208563327794,\n",
       "  0.96213340386748314,\n",
       "  1.0110248684883119,\n",
       "  1.2495507031679154,\n",
       "  1.1732895225286484,\n",
       "  0.8039960421621799,\n",
       "  1.5424044102430343,\n",
       "  0.73006101027131076,\n",
       "  1.43997103869915,\n",
       "  0.8040020540356636,\n",
       "  0.91021262407302861,\n",
       "  0.60773510113358498,\n",
       "  0.61191724836826322,\n",
       "  1.2749768674373627]}"
      ]
     },
     "execution_count": 12,
     "metadata": {},
     "output_type": "execute_result"
    }
   ],
   "source": [
    "classifier.history.history"
   ]
  },
  {
   "cell_type": "code",
   "execution_count": 13,
   "metadata": {
    "collapsed": true
   },
   "outputs": [],
   "source": [
    "import pandas as pd"
   ]
  },
  {
   "cell_type": "code",
   "execution_count": 14,
   "metadata": {
    "collapsed": true
   },
   "outputs": [],
   "source": [
    "metrics_df = pd.DataFrame(classifier.history.history)"
   ]
  },
  {
   "cell_type": "code",
   "execution_count": 15,
   "metadata": {
    "collapsed": true
   },
   "outputs": [],
   "source": [
    "import matplotlib.pyplot as plt\n",
    "%matplotlib inline"
   ]
  },
  {
   "cell_type": "code",
   "execution_count": 16,
   "metadata": {},
   "outputs": [
    {
     "data": {
      "text/plain": [
       "<matplotlib.axes._subplots.AxesSubplot at 0x2b7c560a128>"
      ]
     },
     "execution_count": 16,
     "metadata": {},
     "output_type": "execute_result"
    },
    {
     "data": {
      "image/png": "[encoded data removed]",
      "text/plain": [
       "<matplotlib.figure.Figure at 0x2b7c5601668>"
      ]
     },
     "metadata": {},
     "output_type": "display_data"
    }
   ],
   "source": [
    "metrics_df.plot()"
   ]
  },
  {
   "cell_type": "code",
   "execution_count": 17,
   "metadata": {
    "collapsed": true
   },
   "outputs": [],
   "source": [
    "import numpy as np\n",
    "from keras.preprocessing import image\n",
    "test_image = \\\n",
    "    image.load_img('/Users/GGS/Desktop/25Nov18/ML/images_data/Test/ant/image_0039.jpg'\n",
    "                   , target_size=(64, 64))\n",
    "test_image = image.img_to_array(test_image)\n",
    "test_image = np.expand_dims(test_image, axis=0)\n",
    "result = classifier.predict(test_image)"
   ]
  },
  {
   "cell_type": "code",
   "execution_count": 18,
   "metadata": {},
   "outputs": [
    {
     "name": "stdout",
     "output_type": "stream",
     "text": [
      "[[ 0.]]\n"
     ]
    }
   ],
   "source": [
    "print (result)"
   ]
  },
  {
   "cell_type": "code",
   "execution_count": 19,
   "metadata": {
    "collapsed": true
   },
   "outputs": [],
   "source": [
    "test_image1 = \\\n",
    "    image.load_img('/Users/GGS/Desktop/25Nov18/ML/images_data/Test/butterfly/image_0085.jpg'\n",
    "                   , target_size=(64, 64))\n",
    "test_image1 = image.img_to_array(test_image1)\n",
    "test_image1 = np.expand_dims(test_image1, axis=0)\n",
    "result1 = classifier.predict(test_image1)"
   ]
  },
  {
   "cell_type": "code",
   "execution_count": 20,
   "metadata": {},
   "outputs": [
    {
     "name": "stdout",
     "output_type": "stream",
     "text": [
      "[[ 1.]]\n"
     ]
    }
   ],
   "source": [
    "print(result1)"
   ]
  },
  {
   "cell_type": "code",
   "execution_count": null,
   "metadata": {
    "collapsed": true
   },
   "outputs": [],
   "source": []
  }
 ],
 "metadata": {
  "kernelspec": {
   "display_name": "Python 3",
   "language": "python",
   "name": "python3"
  },
  "language_info": {
   "codemirror_mode": {
    "name": "ipython",
    "version": 3
   },
   "file_extension": ".py",
   "mimetype": "text/x-python",
   "name": "python",
   "nbconvert_exporter": "python",
   "pygments_lexer": "ipython3",
   "version": "3.5.4"
  }
 },
 "nbformat": 4,
 "nbformat_minor": 2
}
