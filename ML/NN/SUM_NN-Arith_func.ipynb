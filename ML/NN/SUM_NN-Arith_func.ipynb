{
 "cells": [
  {
   "cell_type": "code",
   "execution_count": 1,
   "metadata": {
    "collapsed": true
   },
   "outputs": [],
   "source": [
    "import random\n",
    "import pandas as pd"
   ]
  },
  {
   "cell_type": "code",
   "execution_count": 3,
   "metadata": {},
   "outputs": [],
   "source": [
    "d1=[]\n",
    "d2=[]\n",
    "d3=[]\n",
    "d4=[]\n",
    "for i in range(50000):\n",
    "    x=random.random()\n",
    "    d1.append(x)\n",
    "    y=random.random()\n",
    "    d2.append(y)\n",
    "    z=random.random()\n",
    "    d3.append(z)\n",
    "    d4.append(2*x+3*y+z)"
   ]
  },
  {
   "cell_type": "code",
   "execution_count": 4,
   "metadata": {
    "collapsed": true
   },
   "outputs": [],
   "source": [
    "df=pd.DataFrame({'x1':d1,'x2':d2,'x3':d3,'x4':d4},index=range(0,50000))"
   ]
  },
  {
   "cell_type": "code",
   "execution_count": 5,
   "metadata": {
    "collapsed": true
   },
   "outputs": [],
   "source": [
    "X = df.iloc[:,0:3]\n",
    "Y = df.iloc[:,3]"
   ]
  },
  {
   "cell_type": "code",
   "execution_count": 6,
   "metadata": {},
   "outputs": [
    {
     "name": "stderr",
     "output_type": "stream",
     "text": [
      "Using TensorFlow backend.\n"
     ]
    }
   ],
   "source": [
    "from keras.models import Sequential\n",
    "from keras.layers import Dense"
   ]
  },
  {
   "cell_type": "code",
   "execution_count": 7,
   "metadata": {
    "collapsed": true
   },
   "outputs": [],
   "source": [
    "def get_model():    \n",
    "    model = Sequential()\n",
    "    \"\"\"\n",
    "    #model.add(Dense(12, input_dim=3, activation='relu'))\n",
    "    model.add(Dense(2, input_dim=2, activation='relu'))\n",
    "    #model.add(Dense(8, activation='relu'))\n",
    "    model.add(Dense(4, activation='relu'))\n",
    "    #model.add(Dense(8, activation='sigmoid'))\n",
    "    model.add(Dense(1, activation='sigmoid'))\n",
    "    model.compile(loss='mean_squared_error', optimizer='adam', metrics=['accuracy'])\n",
    "    \"\"\"\n",
    "    model.add(Dense(9, input_dim=3, activation='relu'))\n",
    "    model.add(Dense(6, activation='relu'))\n",
    "    model.add(Dense(1, activation='linear'))\n",
    "    model.compile(loss='mse', optimizer='adam')\n",
    "    return model\n"
   ]
  },
  {
   "cell_type": "code",
   "execution_count": 8,
   "metadata": {
    "collapsed": true
   },
   "outputs": [],
   "source": [
    "model = get_model()"
   ]
  },
  {
   "cell_type": "code",
   "execution_count": 9,
   "metadata": {},
   "outputs": [
    {
     "name": "stdout",
     "output_type": "stream",
     "text": [
      "Epoch 1/100\n",
      "50000/50000 [==============================] - 6s 113us/step - loss: 0.6449\n",
      "Epoch 2/100\n",
      "50000/50000 [==============================] - 4s 81us/step - loss: 1.6859e-04\n",
      "Epoch 3/100\n",
      "50000/50000 [==============================] - 4s 80us/step - loss: 9.3509e-05\n",
      "Epoch 4/100\n",
      "50000/50000 [==============================] - 4s 80us/step - loss: 3.6567e-05\n",
      "Epoch 5/100\n",
      "50000/50000 [==============================] - 4s 79us/step - loss: 8.6259e-06\n",
      "Epoch 6/100\n",
      "50000/50000 [==============================] - 4s 79us/step - loss: 9.1838e-07\n",
      "Epoch 7/100\n",
      "50000/50000 [==============================] - 4s 80us/step - loss: 9.3126e-08\n",
      "Epoch 8/100\n",
      "50000/50000 [==============================] - 4s 79us/step - loss: 7.7161e-07\n",
      "Epoch 9/100\n",
      "50000/50000 [==============================] - 4s 80us/step - loss: 8.6518e-07\n",
      "Epoch 10/100\n",
      "50000/50000 [==============================] - 4s 79us/step - loss: 1.1053e-06\n",
      "Epoch 11/100\n",
      "50000/50000 [==============================] - 4s 79us/step - loss: 1.1637e-06\n",
      "Epoch 12/100\n",
      "50000/50000 [==============================] - 4s 80us/step - loss: 1.4122e-06\n",
      "Epoch 13/100\n",
      "50000/50000 [==============================] - 4s 82us/step - loss: 8.8875e-07\n",
      "Epoch 14/100\n",
      "50000/50000 [==============================] - 4s 78us/step - loss: 9.6664e-07\n",
      "Epoch 15/100\n",
      "50000/50000 [==============================] - 4s 78us/step - loss: 1.3929e-06\n",
      "Epoch 16/100\n",
      "50000/50000 [==============================] - 4s 78us/step - loss: 9.5746e-07\n",
      "Epoch 17/100\n",
      "50000/50000 [==============================] - 4s 78us/step - loss: 1.1224e-06\n",
      "Epoch 18/100\n",
      "50000/50000 [==============================] - 4s 81us/step - loss: 7.4557e-07\n",
      "Epoch 19/100\n",
      "50000/50000 [==============================] - 4s 81us/step - loss: 1.1492e-06\n",
      "Epoch 20/100\n",
      "50000/50000 [==============================] - 4s 80us/step - loss: 1.1029e-06\n",
      "Epoch 21/100\n",
      "50000/50000 [==============================] - 4s 78us/step - loss: 1.4261e-06\n",
      "Epoch 22/100\n",
      "50000/50000 [==============================] - 4s 79us/step - loss: 9.3125e-07\n",
      "Epoch 23/100\n",
      "50000/50000 [==============================] - 4s 81us/step - loss: 1.0696e-06\n",
      "Epoch 24/100\n",
      "50000/50000 [==============================] - 4s 78us/step - loss: 1.1171e-06\n",
      "Epoch 25/100\n",
      "50000/50000 [==============================] - 4s 78us/step - loss: 9.7411e-07\n",
      "Epoch 26/100\n",
      "50000/50000 [==============================] - 4s 79us/step - loss: 1.0649e-06\n",
      "Epoch 27/100\n",
      "50000/50000 [==============================] - 4s 78us/step - loss: 9.9730e-07\n",
      "Epoch 28/100\n",
      "50000/50000 [==============================] - 4s 76us/step - loss: 1.1261e-06\n",
      "Epoch 29/100\n",
      "50000/50000 [==============================] - 4s 77us/step - loss: 9.3336e-07\n",
      "Epoch 30/100\n",
      "50000/50000 [==============================] - 4s 77us/step - loss: 1.4871e-06\n",
      "Epoch 31/100\n",
      "50000/50000 [==============================] - 4s 78us/step - loss: 1.1726e-06\n",
      "Epoch 32/100\n",
      "50000/50000 [==============================] - 4s 78us/step - loss: 8.1617e-07\n",
      "Epoch 33/100\n",
      "50000/50000 [==============================] - 4s 76us/step - loss: 1.6218e-06\n",
      "Epoch 34/100\n",
      "50000/50000 [==============================] - 4s 79us/step - loss: 1.0786e-06\n",
      "Epoch 35/100\n",
      "50000/50000 [==============================] - 4s 79us/step - loss: 7.8032e-07\n",
      "Epoch 36/100\n",
      "50000/50000 [==============================] - 4s 78us/step - loss: 1.2509e-06\n",
      "Epoch 37/100\n",
      "50000/50000 [==============================] - 4s 75us/step - loss: 7.8638e-07\n",
      "Epoch 38/100\n",
      "50000/50000 [==============================] - 4s 77us/step - loss: 1.2879e-06\n",
      "Epoch 39/100\n",
      "50000/50000 [==============================] - 4s 78us/step - loss: 1.1715e-06\n",
      "Epoch 40/100\n",
      "50000/50000 [==============================] - 4s 77us/step - loss: 8.9725e-07\n",
      "Epoch 41/100\n",
      "50000/50000 [==============================] - 4s 77us/step - loss: 1.1350e-06\n",
      "Epoch 42/100\n",
      "50000/50000 [==============================] - 4s 75us/step - loss: 8.5408e-07\n",
      "Epoch 43/100\n",
      "50000/50000 [==============================] - 4s 78us/step - loss: 1.0427e-06\n",
      "Epoch 44/100\n",
      "50000/50000 [==============================] - 4s 74us/step - loss: 9.7151e-07\n",
      "Epoch 45/100\n",
      "50000/50000 [==============================] - 4s 76us/step - loss: 1.1146e-06\n",
      "Epoch 46/100\n",
      "50000/50000 [==============================] - 4s 80us/step - loss: 9.4949e-07\n",
      "Epoch 47/100\n",
      "50000/50000 [==============================] - 4s 76us/step - loss: 1.1868e-06\n",
      "Epoch 48/100\n",
      "50000/50000 [==============================] - 4s 75us/step - loss: 1.1626e-06\n",
      "Epoch 49/100\n",
      "50000/50000 [==============================] - 4s 75us/step - loss: 8.9705e-07\n",
      "Epoch 50/100\n",
      "50000/50000 [==============================] - 6s 113us/step - loss: 1.0186e-06\n",
      "Epoch 51/100\n",
      "50000/50000 [==============================] - 5s 96us/step - loss: 9.8339e-07\n",
      "Epoch 52/100\n",
      "50000/50000 [==============================] - 4s 80us/step - loss: 1.1001e-06\n",
      "Epoch 53/100\n",
      "50000/50000 [==============================] - 5s 92us/step - loss: 1.1605e-06\n",
      "Epoch 54/100\n",
      "50000/50000 [==============================] - 4s 76us/step - loss: 1.0979e-06\n",
      "Epoch 55/100\n",
      "50000/50000 [==============================] - 4s 71us/step - loss: 8.5878e-07\n",
      "Epoch 56/100\n",
      "50000/50000 [==============================] - 4s 83us/step - loss: 9.1019e-07\n",
      "Epoch 57/100\n",
      "50000/50000 [==============================] - 4s 84us/step - loss: 1.0037e-06\n",
      "Epoch 58/100\n",
      "50000/50000 [==============================] - 4s 87us/step - loss: 9.7453e-07\n",
      "Epoch 59/100\n",
      "50000/50000 [==============================] - 4s 86us/step - loss: 1.2185e-06\n",
      "Epoch 60/100\n",
      "50000/50000 [==============================] - 4s 89us/step - loss: 1.0934e-06\n",
      "Epoch 61/100\n",
      "50000/50000 [==============================] - 4s 85us/step - loss: 8.9037e-07\n",
      "Epoch 62/100\n",
      "50000/50000 [==============================] - 4s 84us/step - loss: 9.1653e-07\n",
      "Epoch 63/100\n",
      "50000/50000 [==============================] - 4s 84us/step - loss: 1.0056e-06\n",
      "Epoch 64/100\n",
      "50000/50000 [==============================] - 4s 87us/step - loss: 1.6952e-06\n",
      "Epoch 65/100\n",
      "50000/50000 [==============================] - 4s 85us/step - loss: 6.3466e-07\n",
      "Epoch 66/100\n",
      "50000/50000 [==============================] - 4s 90us/step - loss: 1.1130e-06\n",
      "Epoch 67/100\n",
      "50000/50000 [==============================] - 4s 85us/step - loss: 9.6536e-07\n",
      "Epoch 68/100\n",
      "50000/50000 [==============================] - 4s 88us/step - loss: 1.7423e-06\n",
      "Epoch 69/100\n",
      "50000/50000 [==============================] - 4s 86us/step - loss: 6.9104e-07\n",
      "Epoch 70/100\n",
      "50000/50000 [==============================] - 4s 88us/step - loss: 1.2594e-06\n",
      "Epoch 71/100\n",
      "50000/50000 [==============================] - 4s 87us/step - loss: 1.6228e-06\n",
      "Epoch 72/100\n",
      "50000/50000 [==============================] - 4s 86us/step - loss: 8.5398e-07\n",
      "Epoch 73/100\n",
      "50000/50000 [==============================] - 4s 86us/step - loss: 1.4989e-06\n",
      "Epoch 74/100\n",
      "50000/50000 [==============================] - 4s 88us/step - loss: 1.0052e-06\n",
      "Epoch 75/100\n",
      "50000/50000 [==============================] - 4s 88us/step - loss: 1.0546e-06\n",
      "Epoch 76/100\n",
      "50000/50000 [==============================] - 4s 85us/step - loss: 1.2586e-06\n",
      "Epoch 77/100\n",
      "50000/50000 [==============================] - 4s 86us/step - loss: 7.4261e-07\n",
      "Epoch 78/100\n",
      "50000/50000 [==============================] - 4s 85us/step - loss: 1.1106e-06\n",
      "Epoch 79/100\n",
      "50000/50000 [==============================] - 4s 87us/step - loss: 1.1063e-06\n",
      "Epoch 80/100\n",
      "50000/50000 [==============================] - 4s 86us/step - loss: 7.7955e-07\n",
      "Epoch 81/100\n",
      "50000/50000 [==============================] - 4s 87us/step - loss: 9.9316e-07\n",
      "Epoch 82/100\n",
      "50000/50000 [==============================] - 5s 90us/step - loss: 1.1320e-06\n",
      "Epoch 83/100\n",
      "50000/50000 [==============================] - 4s 88us/step - loss: 1.7281e-06\n",
      "Epoch 84/100\n",
      "50000/50000 [==============================] - 4s 87us/step - loss: 4.3334e-07\n",
      "Epoch 85/100\n",
      "50000/50000 [==============================] - 4s 84us/step - loss: 9.5007e-07\n",
      "Epoch 86/100\n",
      "50000/50000 [==============================] - 4s 79us/step - loss: 1.1853e-06\n",
      "Epoch 87/100\n",
      "50000/50000 [==============================] - 5s 91us/step - loss: 1.0126e-06\n",
      "Epoch 88/100\n",
      "50000/50000 [==============================] - 4s 87us/step - loss: 1.1886e-06\n",
      "Epoch 89/100\n",
      "50000/50000 [==============================] - 4s 88us/step - loss: 8.9517e-07\n",
      "Epoch 90/100\n"
     ]
    },
    {
     "name": "stdout",
     "output_type": "stream",
     "text": [
      "50000/50000 [==============================] - 4s 84us/step - loss: 1.6636e-06\n",
      "Epoch 91/100\n",
      "50000/50000 [==============================] - 4s 87us/step - loss: 7.5023e-07\n",
      "Epoch 92/100\n",
      "50000/50000 [==============================] - 4s 89us/step - loss: 8.1334e-07\n",
      "Epoch 93/100\n",
      "50000/50000 [==============================] - 4s 88us/step - loss: 1.0325e-06\n",
      "Epoch 94/100\n",
      "50000/50000 [==============================] - 4s 84us/step - loss: 1.1497e-06\n",
      "Epoch 95/100\n",
      "50000/50000 [==============================] - 4s 88us/step - loss: 1.1187e-06\n",
      "Epoch 96/100\n",
      "50000/50000 [==============================] - 4s 86us/step - loss: 9.9872e-07\n",
      "Epoch 97/100\n",
      "50000/50000 [==============================] - 4s 84us/step - loss: 8.5479e-07\n",
      "Epoch 98/100\n",
      "50000/50000 [==============================] - 4s 82us/step - loss: 1.5401e-06\n",
      "Epoch 99/100\n",
      "50000/50000 [==============================] - 4s 83us/step - loss: 8.1245e-07\n",
      "Epoch 100/100\n",
      "50000/50000 [==============================] - 4s 84us/step - loss: 1.1563e-06\n"
     ]
    },
    {
     "data": {
      "text/plain": [
       "<keras.callbacks.History at 0x21fb8278e10>"
      ]
     },
     "execution_count": 9,
     "metadata": {},
     "output_type": "execute_result"
    }
   ],
   "source": [
    "model.fit(X, Y, epochs=100)"
   ]
  },
  {
   "cell_type": "code",
   "execution_count": 10,
   "metadata": {},
   "outputs": [
    {
     "name": "stdout",
     "output_type": "stream",
     "text": [
      "50000/50000 [==============================] - 3s 53us/step\n"
     ]
    }
   ],
   "source": [
    "scores = model.evaluate(X, Y)"
   ]
  },
  {
   "cell_type": "code",
   "execution_count": 11,
   "metadata": {
    "collapsed": true
   },
   "outputs": [],
   "source": [
    "y_pred=model.predict(X)"
   ]
  },
  {
   "cell_type": "code",
   "execution_count": 12,
   "metadata": {
    "collapsed": true
   },
   "outputs": [],
   "source": [
    "from sklearn.metrics import accuracy_score,r2_score"
   ]
  },
  {
   "cell_type": "code",
   "execution_count": 14,
   "metadata": {},
   "outputs": [
    {
     "data": {
      "text/plain": [
       "0.99999999952749086"
      ]
     },
     "execution_count": 14,
     "metadata": {},
     "output_type": "execute_result"
    }
   ],
   "source": [
    "r2_score(y_pred, Y)"
   ]
  },
  {
   "cell_type": "code",
   "execution_count": 15,
   "metadata": {
    "collapsed": true
   },
   "outputs": [],
   "source": [
    "import pandas as pd\n",
    "import matplotlib.pyplot as plt\n",
    "%matplotlib inline"
   ]
  },
  {
   "cell_type": "code",
   "execution_count": 16,
   "metadata": {},
   "outputs": [
    {
     "data": {
      "text/plain": [
       "<matplotlib.axes._subplots.AxesSubplot at 0x21fba13aa58>"
      ]
     },
     "execution_count": 16,
     "metadata": {},
     "output_type": "execute_result"
    },
    {
     "data": {
      "image/png": "[encoded data removed]",
      "text/plain": [
       "<matplotlib.figure.Figure at 0x21fba13a240>"
      ]
     },
     "metadata": {},
     "output_type": "display_data"
    }
   ],
   "source": [
    "metrics_df = pd.DataFrame(model.history.history)\n",
    "metrics_df.plot()"
   ]
  },
  {
   "cell_type": "code",
   "execution_count": null,
   "metadata": {
    "collapsed": true
   },
   "outputs": [],
   "source": []
  }
 ],
 "metadata": {
  "kernelspec": {
   "display_name": "Python 3",
   "language": "python",
   "name": "python3"
  },
  "language_info": {
   "codemirror_mode": {
    "name": "ipython",
    "version": 3
   },
   "file_extension": ".py",
   "mimetype": "text/x-python",
   "name": "python",
   "nbconvert_exporter": "python",
   "pygments_lexer": "ipython3",
   "version": "3.5.4"
  }
 },
 "nbformat": 4,
 "nbformat_minor": 2
}
