{
 "cells": [
  {
   "cell_type": "code",
   "execution_count": 1,
   "metadata": {},
   "outputs": [],
   "source": [
    "import random\n",
    "import pandas as pd"
   ]
  },
  {
   "cell_type": "code",
   "execution_count": 2,
   "metadata": {},
   "outputs": [],
   "source": [
    "d1=[]\n",
    "d2=[]\n",
    "d3=[]\n",
    "d4=[]\n",
    "for i in range(50000):\n",
    "    x=random.random()\n",
    "    d1.append(x)\n",
    "    y=random.random()\n",
    "    d2.append(y)\n",
    "    z=random.random()\n",
    "    d3.append(z)\n",
    "    d4.append(2*x+3*y+z)"
   ]
  },
  {
   "cell_type": "code",
   "execution_count": 3,
   "metadata": {},
   "outputs": [],
   "source": [
    "df=pd.DataFrame({'x1':d1,'x2':d2,'x3':d3,'x4':d4},index=range(0,50000))"
   ]
  },
  {
   "cell_type": "code",
   "execution_count": 4,
   "metadata": {},
   "outputs": [],
   "source": [
    "X = df.iloc[:,0:3]\n",
    "Y = df.iloc[:,3]"
   ]
  },
  {
   "cell_type": "code",
   "execution_count": 5,
   "metadata": {},
   "outputs": [],
   "source": [
    "import tensorflow as tf\n",
    "from sklearn.model_selection import train_test_split"
   ]
  },
  {
   "cell_type": "code",
   "execution_count": 6,
   "metadata": {},
   "outputs": [],
   "source": [
    "X_train, X_test, y_train, y_test = train_test_split(X, Y, test_size=0.2)"
   ]
  },
  {
   "cell_type": "code",
   "execution_count": 12,
   "metadata": {},
   "outputs": [],
   "source": [
    "model = tf.keras.models.Sequential([  \n",
    "  tf.keras.layers.Dense(9,input_dim=3, activation='relu'),\n",
    "  tf.keras.layers.Dense(6, activation='relu'),\n",
    "  tf.keras.layers.Dense(1, activation='linear')\n",
    "])\n",
    "\n",
    "model.compile(optimizer='adam',\n",
    "              loss='mse',\n",
    "              metrics=['accuracy'])"
   ]
  },
  {
   "cell_type": "code",
   "execution_count": 13,
   "metadata": {},
   "outputs": [
    {
     "name": "stdout",
     "output_type": "stream",
     "text": [
      "WARNING:tensorflow:Falling back from v2 loop because of error: Failed to find data adapter that can handle input: <class 'pandas.core.frame.DataFrame'>, <class 'NoneType'>\n",
      "Train on 40000 samples\n",
      "Epoch 1/20\n",
      "40000/40000 [==============================] - 2s 42us/sample - loss: 2.4319 - accuracy: 0.0000e+00\n",
      "Epoch 2/20\n",
      "40000/40000 [==============================] - 2s 39us/sample - loss: 7.0290e-05 - accuracy: 0.0000e+00\n",
      "Epoch 3/20\n",
      "40000/40000 [==============================] - 2s 39us/sample - loss: 2.9023e-05 - accuracy: 0.0000e+00\n",
      "Epoch 4/20\n",
      "40000/40000 [==============================] - 2s 40us/sample - loss: 1.5574e-05 - accuracy: 0.0000e+00\n",
      "Epoch 5/20\n",
      "40000/40000 [==============================] - 2s 40us/sample - loss: 7.8879e-06 - accuracy: 0.0000e+00\n",
      "Epoch 6/20\n",
      "40000/40000 [==============================] - 2s 46us/sample - loss: 3.6802e-06 - accuracy: 0.0000e+00\n",
      "Epoch 7/20\n",
      "40000/40000 [==============================] - 2s 58us/sample - loss: 1.7511e-06 - accuracy: 0.0000e+00\n",
      "Epoch 8/20\n",
      "40000/40000 [==============================] - 2s 48us/sample - loss: 1.0328e-06 - accuracy: 0.0000e+00\n",
      "Epoch 9/20\n",
      "40000/40000 [==============================] - 2s 41us/sample - loss: 8.8260e-07 - accuracy: 0.0000e+00\n",
      "Epoch 10/20\n",
      "40000/40000 [==============================] - 2s 41us/sample - loss: 1.3322e-06 - accuracy: 0.0000e+00\n",
      "Epoch 11/20\n",
      "40000/40000 [==============================] - 2s 40us/sample - loss: 1.2189e-06 - accuracy: 0.0000e+00\n",
      "Epoch 12/20\n",
      "40000/40000 [==============================] - 2s 42us/sample - loss: 2.0667e-06 - accuracy: 0.0000e+00\n",
      "Epoch 13/20\n",
      "40000/40000 [==============================] - 2s 45us/sample - loss: 7.2227e-07 - accuracy: 0.0000e+00\n",
      "Epoch 14/20\n",
      "40000/40000 [==============================] - 2s 40us/sample - loss: 1.3679e-06 - accuracy: 0.0000e+00\n",
      "Epoch 15/20\n",
      "40000/40000 [==============================] - 2s 46us/sample - loss: 1.0376e-06 - accuracy: 0.0000e+00\n",
      "Epoch 16/20\n",
      "40000/40000 [==============================] - 2s 48us/sample - loss: 1.7362e-06 - accuracy: 0.0000e+00\n",
      "Epoch 17/20\n",
      "40000/40000 [==============================] - 2s 40us/sample - loss: 1.0701e-06 - accuracy: 0.0000e+00\n",
      "Epoch 18/20\n",
      "40000/40000 [==============================] - 2s 41us/sample - loss: 1.1894e-06 - accuracy: 0.0000e+00\n",
      "Epoch 19/20\n",
      "40000/40000 [==============================] - 2s 42us/sample - loss: 1.4320e-06 - accuracy: 0.0000e+00\n",
      "Epoch 20/20\n",
      "40000/40000 [==============================] - 2s 43us/sample - loss: 1.2939e-06 - accuracy: 0.0000e+00\n"
     ]
    },
    {
     "data": {
      "text/plain": [
       "<tensorflow.python.keras.callbacks.History at 0x3cd65f8608>"
      ]
     },
     "execution_count": 13,
     "metadata": {},
     "output_type": "execute_result"
    }
   ],
   "source": [
    "model.fit(X_train, y_train, epochs=20)"
   ]
  },
  {
   "cell_type": "code",
   "execution_count": 14,
   "metadata": {},
   "outputs": [
    {
     "name": "stdout",
     "output_type": "stream",
     "text": [
      "WARNING:tensorflow:Falling back from v2 loop because of error: Failed to find data adapter that can handle input: <class 'pandas.core.frame.DataFrame'>, <class 'NoneType'>\n"
     ]
    }
   ],
   "source": [
    "y_pred=model.predict(X_test)"
   ]
  },
  {
   "cell_type": "code",
   "execution_count": 15,
   "metadata": {},
   "outputs": [],
   "source": [
    "from sklearn.metrics import r2_score"
   ]
  },
  {
   "cell_type": "code",
   "execution_count": 16,
   "metadata": {},
   "outputs": [
    {
     "data": {
      "text/plain": [
       "0.9999955164944659"
      ]
     },
     "execution_count": 16,
     "metadata": {},
     "output_type": "execute_result"
    }
   ],
   "source": [
    "r2_score(y_pred, y_test)"
   ]
  },
  {
   "cell_type": "code",
   "execution_count": 17,
   "metadata": {},
   "outputs": [],
   "source": [
    "import matplotlib.pyplot as plt\n",
    "%matplotlib inline"
   ]
  },
  {
   "cell_type": "code",
   "execution_count": 18,
   "metadata": {},
   "outputs": [
    {
     "data": {
      "text/plain": [
       "<matplotlib.axes._subplots.AxesSubplot at 0x3cd7882308>"
      ]
     },
     "execution_count": 18,
     "metadata": {},
     "output_type": "execute_result"
    },
    {
     "data": {
      "image/png": "[encoded data removed]",
      "text/plain": [
       "<Figure size 432x288 with 1 Axes>"
      ]
     },
     "metadata": {
      "needs_background": "light"
     },
     "output_type": "display_data"
    }
   ],
   "source": [
    "metrics_df = pd.DataFrame(model.history.history)\n",
    "metrics_df.plot()"
   ]
  },
  {
   "cell_type": "code",
   "execution_count": null,
   "metadata": {},
   "outputs": [],
   "source": []
  }
 ],
 "metadata": {
  "kernelspec": {
   "display_name": "Python 3",
   "language": "python",
   "name": "python3"
  },
  "language_info": {
   "codemirror_mode": {
    "name": "ipython",
    "version": 3
   },
   "file_extension": ".py",
   "mimetype": "text/x-python",
   "name": "python",
   "nbconvert_exporter": "python",
   "pygments_lexer": "ipython3",
   "version": "3.7.4"
  }
 },
 "nbformat": 4,
 "nbformat_minor": 2
}
