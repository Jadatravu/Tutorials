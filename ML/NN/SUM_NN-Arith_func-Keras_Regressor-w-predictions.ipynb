{
 "cells": [
  {
   "cell_type": "code",
   "execution_count": 1,
   "metadata": {
    "collapsed": true
   },
   "outputs": [],
   "source": [
    "import random\n",
    "import pandas as pd"
   ]
  },
  {
   "cell_type": "code",
   "execution_count": 2,
   "metadata": {
    "collapsed": true
   },
   "outputs": [],
   "source": [
    "d1=[]\n",
    "d2=[]\n",
    "d3=[]\n",
    "d4=[]\n",
    "for i in range(50000):\n",
    "    x=random.random()\n",
    "    d1.append(x)\n",
    "    y=random.random()\n",
    "    d2.append(y)\n",
    "    z=random.random()\n",
    "    d3.append(z)\n",
    "    d4.append(2*x+3*y+z)"
   ]
  },
  {
   "cell_type": "code",
   "execution_count": 3,
   "metadata": {
    "collapsed": true
   },
   "outputs": [],
   "source": [
    "df=pd.DataFrame({'x1':d1,'x2':d2,'x3':d3,'x4':d4},index=range(0,50000))"
   ]
  },
  {
   "cell_type": "code",
   "execution_count": 4,
   "metadata": {
    "collapsed": true
   },
   "outputs": [],
   "source": [
    "X = df.iloc[:,0:3]\n",
    "Y = df.iloc[:,3]"
   ]
  },
  {
   "cell_type": "code",
   "execution_count": 5,
   "metadata": {},
   "outputs": [
    {
     "name": "stderr",
     "output_type": "stream",
     "text": [
      "Using TensorFlow backend.\n"
     ]
    }
   ],
   "source": [
    "from keras.models import Sequential\n",
    "from keras.layers import Dense"
   ]
  },
  {
   "cell_type": "code",
   "execution_count": 6,
   "metadata": {
    "collapsed": true
   },
   "outputs": [],
   "source": [
    "def get_model():    \n",
    "    model = Sequential()\n",
    "    \"\"\"\n",
    "    #model.add(Dense(12, input_dim=3, activation='relu'))\n",
    "    model.add(Dense(2, input_dim=2, activation='relu'))\n",
    "    #model.add(Dense(8, activation='relu'))\n",
    "    model.add(Dense(4, activation='relu'))\n",
    "    #model.add(Dense(8, activation='sigmoid'))\n",
    "    model.add(Dense(1, activation='sigmoid'))\n",
    "    model.compile(loss='mean_squared_error', optimizer='adam', metrics=['accuracy'])\n",
    "    \"\"\"\n",
    "    model.add(Dense(9, input_dim=3, activation='relu'))\n",
    "    model.add(Dense(6, activation='relu'))\n",
    "    model.add(Dense(1, activation='linear'))\n",
    "    model.compile(loss='mse', optimizer='adam')\n",
    "    return model\n"
   ]
  },
  {
   "cell_type": "code",
   "execution_count": null,
   "metadata": {
    "collapsed": true
   },
   "outputs": [],
   "source": [
    "model = get_model()"
   ]
  },
  {
   "cell_type": "code",
   "execution_count": 7,
   "metadata": {
    "collapsed": true
   },
   "outputs": [],
   "source": [
    "from keras.wrappers.scikit_learn import KerasRegressor\n",
    "from sklearn.model_selection import cross_val_score\n",
    "from sklearn.model_selection import KFold\n",
    "from sklearn.preprocessing import StandardScaler\n",
    "from sklearn.pipeline import Pipeline"
   ]
  },
  {
   "cell_type": "code",
   "execution_count": 8,
   "metadata": {
    "collapsed": true
   },
   "outputs": [],
   "source": [
    "import numpy"
   ]
  },
  {
   "cell_type": "code",
   "execution_count": 9,
   "metadata": {
    "collapsed": true
   },
   "outputs": [],
   "source": [
    "seed = 7\n",
    "numpy.random.seed(seed)\n",
    "estimators = []\n",
    "estimators.append(('standardize', StandardScaler()))\n",
    "estimators.append(('mlp', KerasRegressor(build_fn=get_model, epochs=50, batch_size=5, verbose=1)))\n",
    "pipeline = Pipeline(estimators)"
   ]
  },
  {
   "cell_type": "code",
   "execution_count": 12,
   "metadata": {},
   "outputs": [
    {
     "data": {
      "text/plain": [
       "['__abstractmethods__',\n",
       " '__class__',\n",
       " '__delattr__',\n",
       " '__dict__',\n",
       " '__dir__',\n",
       " '__doc__',\n",
       " '__eq__',\n",
       " '__format__',\n",
       " '__ge__',\n",
       " '__getattribute__',\n",
       " '__getstate__',\n",
       " '__gt__',\n",
       " '__hash__',\n",
       " '__init__',\n",
       " '__le__',\n",
       " '__lt__',\n",
       " '__module__',\n",
       " '__ne__',\n",
       " '__new__',\n",
       " '__reduce__',\n",
       " '__reduce_ex__',\n",
       " '__repr__',\n",
       " '__setattr__',\n",
       " '__setstate__',\n",
       " '__sizeof__',\n",
       " '__str__',\n",
       " '__subclasshook__',\n",
       " '__weakref__',\n",
       " '_abc_cache',\n",
       " '_abc_negative_cache',\n",
       " '_abc_negative_cache_version',\n",
       " '_abc_registry',\n",
       " '_estimator_type',\n",
       " '_final_estimator',\n",
       " '_fit',\n",
       " '_get_param_names',\n",
       " '_get_params',\n",
       " '_inverse_transform',\n",
       " '_pairwise',\n",
       " '_replace_estimator',\n",
       " '_set_params',\n",
       " '_transform',\n",
       " '_validate_names',\n",
       " '_validate_steps',\n",
       " 'classes_',\n",
       " 'decision_function',\n",
       " 'fit',\n",
       " 'fit_predict',\n",
       " 'fit_transform',\n",
       " 'get_params',\n",
       " 'inverse_transform',\n",
       " 'memory',\n",
       " 'named_steps',\n",
       " 'predict',\n",
       " 'predict_log_proba',\n",
       " 'predict_proba',\n",
       " 'score',\n",
       " 'set_params',\n",
       " 'steps',\n",
       " 'transform']"
      ]
     },
     "execution_count": 12,
     "metadata": {},
     "output_type": "execute_result"
    }
   ],
   "source": [
    "dir(pipeline)"
   ]
  },
  {
   "cell_type": "code",
   "execution_count": 10,
   "metadata": {},
   "outputs": [
    {
     "name": "stdout",
     "output_type": "stream",
     "text": [
      "Epoch 1/50\n",
      "50000/50000 [==============================] - 13s 261us/step - loss: 0.1490\n",
      "Epoch 2/50\n",
      "50000/50000 [==============================] - 13s 252us/step - loss: 4.8163e-05\n",
      "Epoch 3/50\n",
      "50000/50000 [==============================] - 13s 268us/step - loss: 2.9570e-05\n",
      "Epoch 4/50\n",
      "50000/50000 [==============================] - 12s 239us/step - loss: 2.9548e-05\n",
      "Epoch 5/50\n",
      "50000/50000 [==============================] - 12s 235us/step - loss: 2.0673e-05\n",
      "Epoch 6/50\n",
      "50000/50000 [==============================] - 12s 238us/step - loss: 2.2346e-05\n",
      "Epoch 7/50\n",
      "50000/50000 [==============================] - 13s 261us/step - loss: 2.1821e-05\n",
      "Epoch 8/50\n",
      "50000/50000 [==============================] - 14s 289us/step - loss: 2.3504e-05\n",
      "Epoch 9/50\n",
      "50000/50000 [==============================] - 13s 268us/step - loss: 1.7904e-05\n",
      "Epoch 10/50\n",
      "50000/50000 [==============================] - 13s 257us/step - loss: 1.5930e-05\n",
      "Epoch 11/50\n",
      "50000/50000 [==============================] - 13s 261us/step - loss: 1.8345e-05\n",
      "Epoch 12/50\n",
      "50000/50000 [==============================] - 13s 263us/step - loss: 1.6543e-05\n",
      "Epoch 13/50\n",
      "50000/50000 [==============================] - 14s 273us/step - loss: 1.6991e-05\n",
      "Epoch 14/50\n",
      "50000/50000 [==============================] - 13s 264us/step - loss: 1.6921e-05\n",
      "Epoch 15/50\n",
      "50000/50000 [==============================] - 13s 265us/step - loss: 1.7361e-05\n",
      "Epoch 16/50\n",
      "50000/50000 [==============================] - 14s 280us/step - loss: 1.6303e-05\n",
      "Epoch 17/50\n",
      "50000/50000 [==============================] - 12s 237us/step - loss: 1.6720e-05\n",
      "Epoch 18/50\n",
      "50000/50000 [==============================] - 12s 233us/step - loss: 1.7244e-05\n",
      "Epoch 19/50\n",
      "50000/50000 [==============================] - 11s 230us/step - loss: 1.5348e-05\n",
      "Epoch 20/50\n",
      "50000/50000 [==============================] - 12s 235us/step - loss: 1.4332e-05\n",
      "Epoch 21/50\n",
      "50000/50000 [==============================] - 12s 233us/step - loss: 1.4726e-05\n",
      "Epoch 22/50\n",
      "50000/50000 [==============================] - 12s 234us/step - loss: 1.6750e-05\n",
      "Epoch 23/50\n",
      "50000/50000 [==============================] - 11s 228us/step - loss: 1.2840e-05\n",
      "Epoch 24/50\n",
      "50000/50000 [==============================] - 11s 229us/step - loss: 1.2575e-05\n",
      "Epoch 25/50\n",
      "50000/50000 [==============================] - 12s 231us/step - loss: 1.3029e-05\n",
      "Epoch 26/50\n",
      "50000/50000 [==============================] - 12s 232us/step - loss: 1.2908e-05\n",
      "Epoch 27/50\n",
      "50000/50000 [==============================] - 11s 229us/step - loss: 1.6598e-05\n",
      "Epoch 28/50\n",
      "50000/50000 [==============================] - 11s 229us/step - loss: 1.1937e-05\n",
      "Epoch 29/50\n",
      "50000/50000 [==============================] - 11s 229us/step - loss: 1.3674e-05\n",
      "Epoch 30/50\n",
      "50000/50000 [==============================] - 11s 228us/step - loss: 1.2947e-05\n",
      "Epoch 31/50\n",
      "50000/50000 [==============================] - 11s 230us/step - loss: 1.0921e-05\n",
      "Epoch 32/50\n",
      "50000/50000 [==============================] - 11s 229us/step - loss: 1.3449e-05\n",
      "Epoch 33/50\n",
      "50000/50000 [==============================] - 11s 229us/step - loss: 1.0111e-05\n",
      "Epoch 34/50\n",
      "50000/50000 [==============================] - 11s 229us/step - loss: 1.0660e-05\n",
      "Epoch 35/50\n",
      "50000/50000 [==============================] - 11s 229us/step - loss: 9.3405e-06\n",
      "Epoch 36/50\n",
      "50000/50000 [==============================] - 14s 276us/step - loss: 9.9748e-06\n",
      "Epoch 37/50\n",
      "50000/50000 [==============================] - 14s 273us/step - loss: 8.0313e-06\n",
      "Epoch 38/50\n",
      "50000/50000 [==============================] - 14s 272us/step - loss: 9.5503e-06\n",
      "Epoch 39/50\n",
      "50000/50000 [==============================] - 14s 280us/step - loss: 9.3048e-06\n",
      "Epoch 40/50\n",
      "50000/50000 [==============================] - 14s 284us/step - loss: 9.6138e-06\n",
      "Epoch 41/50\n",
      "50000/50000 [==============================] - 14s 276us/step - loss: 9.6489e-06\n",
      "Epoch 42/50\n",
      "50000/50000 [==============================] - 14s 275us/step - loss: 7.5921e-06\n",
      "Epoch 43/50\n",
      "50000/50000 [==============================] - 14s 284us/step - loss: 9.3832e-06\n",
      "Epoch 44/50\n",
      "50000/50000 [==============================] - 15s 298us/step - loss: 7.7665e-06\n",
      "Epoch 45/50\n",
      "50000/50000 [==============================] - 14s 273us/step - loss: 1.0095e-05\n",
      "Epoch 46/50\n",
      "50000/50000 [==============================] - 13s 266us/step - loss: 8.1339e-06\n",
      "Epoch 47/50\n",
      "50000/50000 [==============================] - 13s 267us/step - loss: 8.9959e-06\n",
      "Epoch 48/50\n",
      "50000/50000 [==============================] - 13s 265us/step - loss: 9.1034e-06\n",
      "Epoch 49/50\n",
      "50000/50000 [==============================] - 13s 267us/step - loss: 8.6780e-06\n",
      "Epoch 50/50\n",
      "50000/50000 [==============================] - 14s 271us/step - loss: 7.3237e-06\n"
     ]
    },
    {
     "data": {
      "text/plain": [
       "Pipeline(memory=None,\n",
       "     steps=[('standardize', StandardScaler(copy=True, with_mean=True, with_std=True)), ('mlp', <keras.wrappers.scikit_learn.KerasRegressor object at 0x0000029D83136EF0>)])"
      ]
     },
     "execution_count": 10,
     "metadata": {},
     "output_type": "execute_result"
    }
   ],
   "source": [
    "pipeline.fit(X,Y)"
   ]
  },
  {
   "cell_type": "code",
   "execution_count": 12,
   "metadata": {},
   "outputs": [
    {
     "name": "stdout",
     "output_type": "stream",
     "text": [
      "50000/50000 [==============================] - 5s 99us/step\n"
     ]
    }
   ],
   "source": [
    "pred=pipeline.predict(X)"
   ]
  },
  {
   "cell_type": "code",
   "execution_count": 11,
   "metadata": {
    "collapsed": true
   },
   "outputs": [],
   "source": [
    "from sklearn.metrics import accuracy_score,r2_score"
   ]
  },
  {
   "cell_type": "code",
   "execution_count": 13,
   "metadata": {},
   "outputs": [
    {
     "data": {
      "text/plain": [
       "0.99999867802554432"
      ]
     },
     "execution_count": 13,
     "metadata": {},
     "output_type": "execute_result"
    }
   ],
   "source": [
    "r2_score(pred, Y)"
   ]
  },
  {
   "cell_type": "code",
   "execution_count": 14,
   "metadata": {
    "collapsed": true
   },
   "outputs": [],
   "source": [
    "d1=[]\n",
    "d2=[]\n",
    "d3=[]\n",
    "d4=[]\n",
    "for i in range(500):\n",
    "    x=random.random()\n",
    "    d1.append(x)\n",
    "    y=random.random()\n",
    "    d2.append(y)\n",
    "    z=random.random()\n",
    "    d3.append(z)\n",
    "    d4.append(2*x+3*y+z)"
   ]
  },
  {
   "cell_type": "code",
   "execution_count": 15,
   "metadata": {
    "collapsed": true
   },
   "outputs": [],
   "source": [
    "t_df=pd.DataFrame({'x1':d1,'x2':d2,'x3':d3,'x4':d4},index=range(0,500))"
   ]
  },
  {
   "cell_type": "code",
   "execution_count": 17,
   "metadata": {
    "collapsed": true
   },
   "outputs": [],
   "source": [
    "X_test = t_df.iloc[:,0:3]\n",
    "Y_test = t_df.iloc[:,3]"
   ]
  },
  {
   "cell_type": "code",
   "execution_count": 18,
   "metadata": {},
   "outputs": [
    {
     "name": "stdout",
     "output_type": "stream",
     "text": [
      "500/500 [==============================] - 0s 94us/step\n"
     ]
    }
   ],
   "source": [
    "y_pred=pipeline.predict(X_test)"
   ]
  },
  {
   "cell_type": "code",
   "execution_count": 19,
   "metadata": {},
   "outputs": [
    {
     "data": {
      "text/plain": [
       "0.99999878074662407"
      ]
     },
     "execution_count": 19,
     "metadata": {},
     "output_type": "execute_result"
    }
   ],
   "source": [
    "r2_score(y_pred, Y_test)"
   ]
  },
  {
   "cell_type": "code",
   "execution_count": null,
   "metadata": {
    "collapsed": true
   },
   "outputs": [],
   "source": []
  }
 ],
 "metadata": {
  "kernelspec": {
   "display_name": "Python 3",
   "language": "python",
   "name": "python3"
  },
  "language_info": {
   "codemirror_mode": {
    "name": "ipython",
    "version": 3
   },
   "file_extension": ".py",
   "mimetype": "text/x-python",
   "name": "python",
   "nbconvert_exporter": "python",
   "pygments_lexer": "ipython3",
   "version": "3.5.4"
  }
 },
 "nbformat": 4,
 "nbformat_minor": 2
}
