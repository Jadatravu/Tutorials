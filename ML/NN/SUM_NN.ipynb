{
 "cells": [
  {
   "cell_type": "code",
   "execution_count": 1,
   "metadata": {
    "collapsed": true
   },
   "outputs": [],
   "source": [
    "import random\n",
    "import pandas as pd"
   ]
  },
  {
   "cell_type": "code",
   "execution_count": 2,
   "metadata": {
    "collapsed": true
   },
   "outputs": [],
   "source": [
    "d1=[]\n",
    "d2=[]\n",
    "d3=[]\n",
    "for i in range(50000):\n",
    "    x=random.random()\n",
    "    d1.append(x)\n",
    "    y=random.random()\n",
    "    d2.append(y)\n",
    "    d3.append(x+y)"
   ]
  },
  {
   "cell_type": "code",
   "execution_count": 3,
   "metadata": {
    "collapsed": true
   },
   "outputs": [],
   "source": [
    "df=pd.DataFrame({'x1':d1,'x2':d2,'x3':d3},index=range(0,50000))"
   ]
  },
  {
   "cell_type": "code",
   "execution_count": 4,
   "metadata": {
    "collapsed": true
   },
   "outputs": [],
   "source": [
    "X = df.iloc[:,0:2]\n",
    "Y = df.iloc[:,2]"
   ]
  },
  {
   "cell_type": "code",
   "execution_count": 5,
   "metadata": {},
   "outputs": [
    {
     "name": "stderr",
     "output_type": "stream",
     "text": [
      "Using TensorFlow backend.\n"
     ]
    }
   ],
   "source": [
    "from keras.models import Sequential\n",
    "from keras.layers import Dense"
   ]
  },
  {
   "cell_type": "code",
   "execution_count": 6,
   "metadata": {
    "collapsed": true
   },
   "outputs": [],
   "source": [
    "def get_model():    \n",
    "    model = Sequential()\n",
    "    \"\"\"\n",
    "    #model.add(Dense(12, input_dim=3, activation='relu'))\n",
    "    model.add(Dense(2, input_dim=2, activation='relu'))\n",
    "    #model.add(Dense(8, activation='relu'))\n",
    "    model.add(Dense(4, activation='relu'))\n",
    "    #model.add(Dense(8, activation='sigmoid'))\n",
    "    model.add(Dense(1, activation='sigmoid'))\n",
    "    model.compile(loss='mean_squared_error', optimizer='adam', metrics=['accuracy'])\n",
    "    \"\"\"\n",
    "    model.add(Dense(4, input_dim=2, activation='relu'))\n",
    "    model.add(Dense(4, activation='relu'))\n",
    "    model.add(Dense(1, activation='linear'))\n",
    "    model.compile(loss='mse', optimizer='adam')\n",
    "    return model\n"
   ]
  },
  {
   "cell_type": "code",
   "execution_count": 7,
   "metadata": {
    "collapsed": true
   },
   "outputs": [],
   "source": [
    "model = get_model()"
   ]
  },
  {
   "cell_type": "code",
   "execution_count": 9,
   "metadata": {},
   "outputs": [
    {
     "name": "stdout",
     "output_type": "stream",
     "text": [
      "Epoch 1/100\n",
      "50000/50000 [==============================] - 4s 82us/step - loss: 1.8295e-06\n",
      "Epoch 2/100\n",
      "50000/50000 [==============================] - 4s 82us/step - loss: 6.4433e-07\n",
      "Epoch 3/100\n",
      "50000/50000 [==============================] - 4s 79us/step - loss: 1.2515e-07\n",
      "Epoch 4/100\n",
      "50000/50000 [==============================] - 4s 79us/step - loss: 8.6047e-08\n",
      "Epoch 5/100\n",
      "50000/50000 [==============================] - 4s 80us/step - loss: 1.5641e-07\n",
      "Epoch 6/100\n",
      "50000/50000 [==============================] - 4s 80us/step - loss: 1.3917e-07\n",
      "Epoch 7/100\n",
      "50000/50000 [==============================] - 4s 80us/step - loss: 1.3824e-07\n",
      "Epoch 8/100\n",
      "50000/50000 [==============================] - 4s 80us/step - loss: 1.4111e-07\n",
      "Epoch 9/100\n",
      "50000/50000 [==============================] - 4s 78us/step - loss: 1.9213e-07\n",
      "Epoch 10/100\n",
      "50000/50000 [==============================] - 4s 78us/step - loss: 1.1076e-07\n",
      "Epoch 11/100\n",
      "50000/50000 [==============================] - 4s 79us/step - loss: 1.6042e-07\n",
      "Epoch 12/100\n",
      "50000/50000 [==============================] - 4s 79us/step - loss: 1.3463e-07\n",
      "Epoch 13/100\n",
      "50000/50000 [==============================] - 4s 79us/step - loss: 1.5196e-07\n",
      "Epoch 14/100\n",
      "50000/50000 [==============================] - 4s 79us/step - loss: 1.5222e-07\n",
      "Epoch 15/100\n",
      "50000/50000 [==============================] - 4s 78us/step - loss: 1.3598e-07\n",
      "Epoch 16/100\n",
      "50000/50000 [==============================] - 4s 78us/step - loss: 1.4063e-07\n",
      "Epoch 17/100\n",
      "50000/50000 [==============================] - 4s 78us/step - loss: 1.7031e-07\n",
      "Epoch 18/100\n",
      "50000/50000 [==============================] - 4s 76us/step - loss: 1.3317e-07\n",
      "Epoch 19/100\n",
      "50000/50000 [==============================] - 4s 78us/step - loss: 2.0498e-07\n",
      "Epoch 20/100\n",
      "50000/50000 [==============================] - 4s 78us/step - loss: 9.9513e-08\n",
      "Epoch 21/100\n",
      "50000/50000 [==============================] - 4s 79us/step - loss: 1.8347e-07\n",
      "Epoch 22/100\n",
      "50000/50000 [==============================] - 4s 77us/step - loss: 1.2367e-07\n",
      "Epoch 23/100\n",
      "50000/50000 [==============================] - 4s 77us/step - loss: 1.5470e-07\n",
      "Epoch 24/100\n",
      "50000/50000 [==============================] - 4s 79us/step - loss: 1.5017e-07\n",
      "Epoch 25/100\n",
      "50000/50000 [==============================] - 4s 78us/step - loss: 1.4984e-07\n",
      "Epoch 26/100\n",
      "50000/50000 [==============================] - 4s 78us/step - loss: 1.6423e-07\n",
      "Epoch 27/100\n",
      "50000/50000 [==============================] - 4s 78us/step - loss: 1.1427e-07\n",
      "Epoch 28/100\n",
      "50000/50000 [==============================] - 4s 79us/step - loss: 1.7584e-07\n",
      "Epoch 29/100\n",
      "50000/50000 [==============================] - 5s 91us/step - loss: 1.3466e-07\n",
      "Epoch 30/100\n",
      "50000/50000 [==============================] - 4s 85us/step - loss: 1.4213e-07\n",
      "Epoch 31/100\n",
      "50000/50000 [==============================] - 4s 82us/step - loss: 1.4742e-07\n",
      "Epoch 32/100\n",
      "50000/50000 [==============================] - 5s 90us/step - loss: 1.5421e-07\n",
      "Epoch 33/100\n",
      "50000/50000 [==============================] - 4s 78us/step - loss: 1.9274e-07\n",
      "Epoch 34/100\n",
      "50000/50000 [==============================] - 4s 77us/step - loss: 1.2019e-07\n",
      "Epoch 35/100\n",
      "50000/50000 [==============================] - 4s 89us/step - loss: 1.7142e-07\n",
      "Epoch 36/100\n",
      "50000/50000 [==============================] - 4s 82us/step - loss: 1.3936e-07\n",
      "Epoch 37/100\n",
      "50000/50000 [==============================] - 4s 86us/step - loss: 1.3051e-07\n",
      "Epoch 38/100\n",
      "50000/50000 [==============================] - 4s 76us/step - loss: 1.4977e-07\n",
      "Epoch 39/100\n",
      "50000/50000 [==============================] - 4s 76us/step - loss: 1.4814e-07\n",
      "Epoch 40/100\n",
      "50000/50000 [==============================] - 4s 74us/step - loss: 1.6483e-07\n",
      "Epoch 41/100\n",
      "50000/50000 [==============================] - 4s 80us/step - loss: 1.1313e-07\n",
      "Epoch 42/100\n",
      "50000/50000 [==============================] - 4s 88us/step - loss: 1.4568e-07\n",
      "Epoch 43/100\n",
      "50000/50000 [==============================] - 4s 84us/step - loss: 1.8165e-07\n",
      "Epoch 44/100\n",
      "50000/50000 [==============================] - 4s 78us/step - loss: 1.3468e-07\n",
      "Epoch 45/100\n",
      "50000/50000 [==============================] - 4s 75us/step - loss: 1.4321e-07\n",
      "Epoch 46/100\n",
      "50000/50000 [==============================] - 4s 87us/step - loss: 1.3408e-07\n",
      "Epoch 47/100\n",
      "50000/50000 [==============================] - 4s 86us/step - loss: 1.8252e-07\n",
      "Epoch 48/100\n",
      "50000/50000 [==============================] - 4s 78us/step - loss: 1.1374e-07\n",
      "Epoch 49/100\n",
      "50000/50000 [==============================] - 4s 76us/step - loss: 1.6620e-07\n",
      "Epoch 50/100\n",
      "50000/50000 [==============================] - 4s 77us/step - loss: 1.5529e-07\n",
      "Epoch 51/100\n",
      "50000/50000 [==============================] - 4s 83us/step - loss: 1.3550e-07\n",
      "Epoch 52/100\n",
      "50000/50000 [==============================] - 4s 81us/step - loss: 1.2469e-07\n",
      "Epoch 53/100\n",
      "50000/50000 [==============================] - 4s 80us/step - loss: 1.3446e-07\n",
      "Epoch 54/100\n",
      "50000/50000 [==============================] - 4s 75us/step - loss: 1.6687e-07\n",
      "Epoch 55/100\n",
      "50000/50000 [==============================] - 4s 80us/step - loss: 1.4677e-07\n",
      "Epoch 56/100\n",
      "50000/50000 [==============================] - 4s 76us/step - loss: 1.6337e-07\n",
      "Epoch 57/100\n",
      "50000/50000 [==============================] - 4s 73us/step - loss: 1.6835e-07\n",
      "Epoch 58/100\n",
      "50000/50000 [==============================] - 4s 74us/step - loss: 1.1404e-07\n",
      "Epoch 59/100\n",
      "50000/50000 [==============================] - 4s 74us/step - loss: 1.4601e-07\n",
      "Epoch 60/100\n",
      "50000/50000 [==============================] - 4s 74us/step - loss: 1.3560e-07\n",
      "Epoch 61/100\n",
      "50000/50000 [==============================] - 4s 74us/step - loss: 1.3827e-07\n",
      "Epoch 62/100\n",
      "50000/50000 [==============================] - 4s 76us/step - loss: 1.3814e-07\n",
      "Epoch 63/100\n",
      "50000/50000 [==============================] - 5s 100us/step - loss: 1.6234e-07\n",
      "Epoch 64/100\n",
      "50000/50000 [==============================] - 5s 96us/step - loss: 2.0110e-07\n",
      "Epoch 65/100\n",
      "50000/50000 [==============================] - 5s 102us/step - loss: 8.7259e-08\n",
      "Epoch 66/100\n",
      "50000/50000 [==============================] - 5s 107us/step - loss: 1.7714e-07\n",
      "Epoch 67/100\n",
      "50000/50000 [==============================] - 5s 98us/step - loss: 1.1535e-07\n",
      "Epoch 68/100\n",
      "50000/50000 [==============================] - 5s 95us/step - loss: 1.4883e-07\n",
      "Epoch 69/100\n",
      "50000/50000 [==============================] - 5s 94us/step - loss: 1.5463e-07\n",
      "Epoch 70/100\n",
      "50000/50000 [==============================] - 5s 102us/step - loss: 1.5573e-07\n",
      "Epoch 71/100\n",
      "50000/50000 [==============================] - 5s 97us/step - loss: 1.1682e-07\n",
      "Epoch 72/100\n",
      "50000/50000 [==============================] - 4s 77us/step - loss: 1.4354e-07\n",
      "Epoch 73/100\n",
      "50000/50000 [==============================] - 4s 86us/step - loss: 1.6171e-07\n",
      "Epoch 74/100\n",
      "50000/50000 [==============================] - 4s 89us/step - loss: 1.5606e-07\n",
      "Epoch 75/100\n",
      "50000/50000 [==============================] - 4s 82us/step - loss: 1.3143e-07\n",
      "Epoch 76/100\n",
      "50000/50000 [==============================] - 4s 81us/step - loss: 1.3722e-07\n",
      "Epoch 77/100\n",
      "50000/50000 [==============================] - 4s 83us/step - loss: 2.1580e-07\n",
      "Epoch 78/100\n",
      "50000/50000 [==============================] - 4s 83us/step - loss: 1.3866e-07\n",
      "Epoch 79/100\n",
      "50000/50000 [==============================] - 4s 85us/step - loss: 1.2470e-07\n",
      "Epoch 80/100\n",
      "50000/50000 [==============================] - 4s 88us/step - loss: 1.2409e-07\n",
      "Epoch 81/100\n",
      "50000/50000 [==============================] - 4s 73us/step - loss: 1.5248e-07\n",
      "Epoch 82/100\n",
      "50000/50000 [==============================] - 4s 71us/step - loss: 1.3435e-07\n",
      "Epoch 83/100\n",
      "50000/50000 [==============================] - 4s 71us/step - loss: 1.5386e-07\n",
      "Epoch 84/100\n",
      "50000/50000 [==============================] - 4s 70us/step - loss: 1.4280e-07\n",
      "Epoch 85/100\n",
      "50000/50000 [==============================] - 3s 70us/step - loss: 1.7757e-07\n",
      "Epoch 86/100\n",
      "50000/50000 [==============================] - 3s 69us/step - loss: 2.0373e-07\n",
      "Epoch 87/100\n",
      "50000/50000 [==============================] - 4s 72us/step - loss: 1.1509e-07\n",
      "Epoch 88/100\n",
      "50000/50000 [==============================] - 4s 89us/step - loss: 1.3703e-07\n",
      "Epoch 89/100\n",
      "50000/50000 [==============================] - 4s 82us/step - loss: 1.6832e-07\n",
      "Epoch 90/100\n"
     ]
    },
    {
     "name": "stdout",
     "output_type": "stream",
     "text": [
      "50000/50000 [==============================] - 4s 83us/step - loss: 1.3289e-07\n",
      "Epoch 91/100\n",
      "50000/50000 [==============================] - 4s 83us/step - loss: 1.4819e-07\n",
      "Epoch 92/100\n",
      "50000/50000 [==============================] - 4s 83us/step - loss: 1.1715e-07\n",
      "Epoch 93/100\n",
      "50000/50000 [==============================] - 4s 82us/step - loss: 1.4644e-07\n",
      "Epoch 94/100\n",
      "50000/50000 [==============================] - 4s 85us/step - loss: 1.7006e-07\n",
      "Epoch 95/100\n",
      "50000/50000 [==============================] - 4s 85us/step - loss: 1.7976e-07\n",
      "Epoch 96/100\n",
      "50000/50000 [==============================] - 4s 87us/step - loss: 9.6931e-08\n",
      "Epoch 97/100\n",
      "50000/50000 [==============================] - 5s 94us/step - loss: 1.7498e-07\n",
      "Epoch 98/100\n",
      "50000/50000 [==============================] - 4s 88us/step - loss: 1.4057e-07\n",
      "Epoch 99/100\n",
      "50000/50000 [==============================] - 4s 84us/step - loss: 1.4606e-07\n",
      "Epoch 100/100\n",
      "50000/50000 [==============================] - 4s 85us/step - loss: 1.3917e-07\n"
     ]
    },
    {
     "data": {
      "text/plain": [
       "<keras.callbacks.History at 0x162bf300ba8>"
      ]
     },
     "execution_count": 9,
     "metadata": {},
     "output_type": "execute_result"
    }
   ],
   "source": [
    "model.fit(X, Y, epochs=100)"
   ]
  },
  {
   "cell_type": "code",
   "execution_count": 10,
   "metadata": {},
   "outputs": [
    {
     "name": "stdout",
     "output_type": "stream",
     "text": [
      "50000/50000 [==============================] - 3s 53us/step\n"
     ]
    }
   ],
   "source": [
    "scores = model.evaluate(X, Y)"
   ]
  },
  {
   "cell_type": "code",
   "execution_count": 11,
   "metadata": {
    "collapsed": true
   },
   "outputs": [],
   "source": [
    "y_pred=model.predict(X)"
   ]
  },
  {
   "cell_type": "code",
   "execution_count": 12,
   "metadata": {
    "collapsed": true
   },
   "outputs": [],
   "source": [
    "from sklearn.metrics import accuracy_score,r2_score"
   ]
  },
  {
   "cell_type": "code",
   "execution_count": 13,
   "metadata": {},
   "outputs": [
    {
     "data": {
      "text/plain": [
       "0.99999999712733045"
      ]
     },
     "execution_count": 13,
     "metadata": {},
     "output_type": "execute_result"
    }
   ],
   "source": [
    "r2_score(y_pred, Y)"
   ]
  },
  {
   "cell_type": "code",
   "execution_count": 14,
   "metadata": {
    "collapsed": true
   },
   "outputs": [],
   "source": [
    "\n",
    "import pandas as pd\n",
    "import matplotlib.pyplot as plt\n",
    "%matplotlib inline"
   ]
  },
  {
   "cell_type": "code",
   "execution_count": 15,
   "metadata": {},
   "outputs": [
    {
     "data": {
      "text/plain": [
       "<matplotlib.axes._subplots.AxesSubplot at 0x162c0c9e320>"
      ]
     },
     "execution_count": 15,
     "metadata": {},
     "output_type": "execute_result"
    },
    {
     "data": {
      "image/png": "[encoded data removed]",
      "text/plain": [
       "<matplotlib.figure.Figure at 0x162c0c8f860>"
      ]
     },
     "metadata": {},
     "output_type": "display_data"
    }
   ],
   "source": [
    "metrics_df = pd.DataFrame(model.history.history)\n",
    "metrics_df.plot()"
   ]
  },
  {
   "cell_type": "code",
   "execution_count": null,
   "metadata": {
    "collapsed": true
   },
   "outputs": [],
   "source": []
  }
 ],
 "metadata": {
  "kernelspec": {
   "display_name": "Python 3",
   "language": "python",
   "name": "python3"
  },
  "language_info": {
   "codemirror_mode": {
    "name": "ipython",
    "version": 3
   },
   "file_extension": ".py",
   "mimetype": "text/x-python",
   "name": "python",
   "nbconvert_exporter": "python",
   "pygments_lexer": "ipython3",
   "version": "3.5.4"
  }
 },
 "nbformat": 4,
 "nbformat_minor": 2
}
